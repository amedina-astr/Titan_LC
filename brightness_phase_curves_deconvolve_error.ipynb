{
 "cells": [
  {
   "cell_type": "markdown",
   "metadata": {},
   "source": [
    "Project: Titan Lightcurve - Brightness-phase curve - Deconvolution"
   ]
  },
  {
   "cell_type": "markdown",
   "metadata": {},
   "source": [
    "Author: Alex Medina"
   ]
  },
  {
   "cell_type": "markdown",
   "metadata": {},
   "source": [
    "Organization: University of Central Florida"
   ]
  },
  {
   "cell_type": "code",
   "execution_count": 2,
   "metadata": {},
   "outputs": [],
   "source": [
    "#General imports\n",
    "import numpy as np\n",
    "import matplotlib.pyplot as plt\n",
    "import pandas as pd\n",
    "import os\n",
    "\n",
    "#Important packages\n",
    "import vicar\n",
    "import cv2\n",
    "\n",
    "#Comparatively to the basic brightness phase curve code, here we do decovnlution\n",
    "import skimage.restoration"
   ]
  },
  {
   "cell_type": "markdown",
   "metadata": {},
   "source": [
    "Of course, in creating a brightness phase curve, we only need to calculate two things: brightness(or reflectivity) and phase. Phase is found by reading the metadata which will be involved later in a loop."
   ]
  },
  {
   "cell_type": "markdown",
   "metadata": {},
   "source": [
    "For theory, refer to the basic brightness. The key difference here is that instead of using the whole image, we only focus on the disk of Titan. So we calculate the total brightness in the disk of Titan, but with this method, we need to do a deconvolution. I am essentially just doing this to show whether this is more accurate and useful.\n",
    "\n",
    "Key difference:\n",
    "- Code to detect and calculate disk of Titan\n",
    "- line for deconvolution with filter psf\n",
    "\n",
    "For more on skimage, refer to: https://scikit-image.org/docs/0.25.x/api/skimage.restoration.html "
   ]
  },
  {
   "cell_type": "markdown",
   "metadata": {},
   "source": [
    "Here, we input the path where the calibrated images are located. Of course, this is unique to my setup and the data that I have."
   ]
  },
  {
   "cell_type": "code",
   "execution_count": 3,
   "metadata": {},
   "outputs": [],
   "source": [
    "if_images = r'C:\\Users\\Alex\\Desktop\\Titan\\IF Images\\CL1_BL2'\n",
    "\n",
    "#Path to where the .csv file is from\n",
    "if_metadata = r'C:\\Users\\Alex\\Desktop\\Titan\\IF Images\\CL1_BL2\\data.csv'\n",
    "\n",
    "#Loading the PSF file\n",
    "psf_file_path = r'C:\\Users\\Alex\\Desktop\\Titan\\PSF_files\\xpsf_nac_cl1_bl2.img'\n",
    "psf_vic = vicar.VicarImage(psf_file_path, strict=False)\n",
    "psf_data = psf_vic.data_2d\n",
    "\n",
    "#Reading the .csv file\n",
    "parameters_df = pd.read_csv(if_metadata)"
   ]
  },
  {
   "cell_type": "code",
   "execution_count": 4,
   "metadata": {},
   "outputs": [],
   "source": [
    "#For comparison with default\n",
    "def reflectivity(image, pixel_scale):\n",
    "    #R is the radius of Titan for normalization\n",
    "    R = 2575 #km\n",
    "    #Total number of pixels\n",
    "    #n_pixel = np.pi * R**2 / pixel_scale**2\n",
    "    \n",
    "    total_if = np.sum(image)\n",
    "\n",
    "    return (total_if * pixel_scale**2) / (np.pi * R**2)"
   ]
  },
  {
   "cell_type": "markdown",
   "metadata": {},
   "source": [
    "Here is the circle detection, for more detailed analysis refer to the polarization phase curves."
   ]
  },
  {
   "cell_type": "code",
   "execution_count": 5,
   "metadata": {},
   "outputs": [],
   "source": [
    "def image_center(image):\n",
    "\n",
    "    image_copy = image.copy()\n",
    "    gray_image = cv2.normalize(image_copy, None, 0, 255, cv2.NORM_MINMAX, cv2.CV_8U)\n",
    "    detected_circles = cv2.HoughCircles(gray_image, cv2.HOUGH_GRADIENT, dp=1.2, minDist=100, param1=50, param2=30, minRadius=30, maxRadius=500)\n",
    "\n",
    "    if detected_circles is not None:\n",
    "        detected_circles = np.round(detected_circles[0, :]).astype(\"int\")\n",
    "        for (x, y, r) in detected_circles:\n",
    "            return (x, y)\n",
    "    #Debug\n",
    "    else:\n",
    "        print(\"No circle found\")\n",
    "        return None\n",
    "\n",
    "#To determine the effective radius, as mentioned, I plot the brightness against increasing radius\n",
    "def radii_fluxes_from_image(image, center):\n",
    "    x, y = center\n",
    "    image_copy = image.copy()\n",
    "    gray_image = cv2.normalize(image_copy, None, 0, 255, cv2.NORM_MINMAX, cv2.CV_8U)\n",
    "    radii = range(1, 1000, 5)\n",
    "    flux = []\n",
    "\n",
    "    for r in radii:\n",
    "        mask = np.zeros_like(gray_image)\n",
    "        cv2.circle(mask, (x, y), r, (255, 255, 255), -1)\n",
    "        masked = cv2.bitwise_and(gray_image, gray_image, mask=mask)\n",
    "        flux.append(np.sum(masked))\n",
    "    return radii, flux\n",
    "\n",
    "#Manual inspection and testing\n",
    "def radii_fluxes_plot(radii, flux):\n",
    "    plt.plot(radii, flux)\n",
    "    plt.xlabel(\"Radius\")\n",
    "    plt.ylabel(\"Flux\")\n",
    "    plt.title(\"Flux vs. Radius\")\n",
    "    plt.show()\n",
    "\n",
    "def effective_radius(radii, flux):\n",
    "    for i in range(1, len(flux)):\n",
    "        if flux[i] - flux[i-1] < 0.01 * flux[i-1]:\n",
    "            return radii[i]\n",
    "    print(\"No plateau found\")\n",
    "    return None"
   ]
  },
  {
   "cell_type": "code",
   "execution_count": 6,
   "metadata": {},
   "outputs": [],
   "source": [
    "def reflectivity_disk(image, center, radius, pixel_scale):\n",
    "    \n",
    "    mask = np.zeros_like(image)\n",
    "    cv2.circle(mask, center, radius, 1, thickness=-1)\n",
    "    \n",
    "    total_if = np.sum(image * mask)\n",
    "\n",
    "    R = 2575  #Titan's radius in km\n",
    "    #n_pixel = np.pi * R**2 / pixel_scale**2\n",
    "\n",
    "    return (total_if * pixel_scale**2) / (np.pi * R**2)"
   ]
  },
  {
   "cell_type": "markdown",
   "metadata": {},
   "source": [
    "For a more detailed comment, refer to basic brightness, but here the only difference are a line for deconvolution and an error line."
   ]
  },
  {
   "cell_type": "code",
   "execution_count": 7,
   "metadata": {},
   "outputs": [
    {
     "name": "stdout",
     "output_type": "stream",
     "text": [
      "N1525327484_1_CALIB.IMG: 0.06221586085381125, 0.062118705927114895, 146.708\n",
      "N1557905313_1_CALIB.IMG: 0.0986656001367244, 0.09803076453431946, 25.271\n",
      "N1559282826_1_CALIB.IMG: 0.10457364780577175, 0.10393364756010363, 19.95\n",
      "N1562037473_1_CALIB.IMG: 0.11132114163473, 0.11067079439734674, 13.467\n",
      "N1567440211_1_CALIB.IMG: 0.10560363144987396, 0.10428596280855276, 20.043\n",
      "No circle found\n",
      "N1571476437_1_CALIB.IMG: 0.050156457949785224, 0.0500845497115047, 79.924\n",
      "N1578503768_1_CALIB.IMG: 0.07293500366747209, 0.07268988310718824, 47.922\n",
      "N1617163704_1_CALIB.IMG: 0.03735809841985432, 0.03634333019284875, 105.901\n",
      "N1617165504_1_CALIB.IMG: 0.03723014271166406, 0.03732614195344521, 105.899\n",
      "N1644998153_1_CALIB.IMG: 0.0959031064543076, 0.09563540614475093, 27.604\n",
      "N1645008949_1_CALIB.IMG: 0.09301017396675616, 0.09274398558249355, 30.405\n",
      "N1645019749_1_CALIB.IMG: 0.09034474939144972, 0.0901045392554912, 32.983\n",
      "N1646535965_1_CALIB.IMG: 0.08338613240416182, 0.08302597300808638, 42.216\n",
      "N1671761950_1_CALIB.IMG: 0.05341156388040707, 0.053597227355817754, 72.272\n",
      "N1671884383_1_CALIB.IMG: 0.04445801621702384, 0.04449475208473491, 89.407\n",
      "N1687626097_1_CALIB.IMG: 0.11176495038535633, 0.11142657031170211, 10.444\n",
      "N1725076622_1_CALIB.IMG: 0.055034506533762316, 0.05495925652104933, 73.881\n",
      "N1732144031_1_CALIB.IMG: 0.07148849500206218, 0.07147354628050613, 59.604\n",
      "N1848497852_1_CALIB.IMG: 0.044132751583466565, 0.042251440000691066, 114.825\n",
      "N1849875641_1_CALIB.IMG: 0.043729689191383765, 0.04372616087710298, 116.028\n",
      "N1849961982_1_CALIB.IMG: 0.043926793274584895, 0.04374369247704624, 114.183\n",
      "N1850134815_1_CALIB.IMG: 0.04381382632014523, 0.04376349406098197, 104.262\n",
      "N1850392512_1_CALIB.IMG: 0.0467061657897418, 0.046635323567460675, 125.683\n",
      "N1869181036_1_CALIB.IMG: 0.058445168181327486, 0.0584612905683592, 142.427\n"
     ]
    }
   ],
   "source": [
    "images_refl  = []\n",
    "images_refl_disk = []\n",
    "phase_angles = []\n",
    "\n",
    "for filename in os.listdir(if_images):\n",
    "    if filename.endswith('_CALIB.IMG'):\n",
    "        \n",
    "        if_image_path = os.path.join(if_images, filename)\n",
    "        vic = vicar.VicarImage(if_image_path, strict=False)\n",
    "        read_if_image = vic.data_2d\n",
    "        \n",
    "        #To perform the deconvolution\n",
    "        deconvolved_image = skimage.restoration.richardson_lucy(read_if_image, psf_data, 30)\n",
    "\n",
    "        opus_id = filename.split('_')[0]\n",
    "        opus_id_with_prefix = f'co-iss-{opus_id}'.lower()\n",
    "        parameter_row = parameters_df[parameters_df['OPUS ID'].str.contains(opus_id_with_prefix)]\n",
    "\n",
    "        center = image_center(read_if_image)\n",
    "        #Skip the iteration if no circles are found\n",
    "        if center is None:\n",
    "            continue\n",
    "\n",
    "        radii, fluxes = radii_fluxes_from_image(read_if_image, center)\n",
    "        optimal_radius = effective_radius(radii, fluxes)\n",
    "\n",
    "        if not parameter_row.empty:\n",
    "            #Assocating the meta data with the image, pixel_scale and phase_angle\n",
    "            phase_angle = parameter_row['Observed Phase Angle (Min) [Titan] (degrees)'].values[0]\n",
    "            pixel_scale = parameter_row['Body Center Resolution (Min) [Titan] (km/pixel)'].values[0]\n",
    "\n",
    "            calc_refl = reflectivity(read_if_image, pixel_scale)\n",
    "            calc_refl_disk = reflectivity_disk(deconvolved_image, center, optimal_radius, pixel_scale)\n",
    "\n",
    "            #Creating array to plot\n",
    "            images_refl.append(calc_refl)\n",
    "            images_refl_disk.append(calc_refl_disk)\n",
    "            phase_angles.append(phase_angle)\n",
    "\n",
    "            #For manual inspection\n",
    "            print(f'{filename}: {calc_refl}, {calc_refl_disk}, {phase_angle}')"
   ]
  },
  {
   "cell_type": "markdown",
   "metadata": {},
   "source": [
    "To see the relative error is we assume that the basic brightness is the correct image (but can work either way)."
   ]
  },
  {
   "cell_type": "code",
   "execution_count": 8,
   "metadata": {},
   "outputs": [
    {
     "name": "stdout",
     "output_type": "stream",
     "text": [
      "Mean reflectivity relative error: 0.0057636805168958085\n"
     ]
    }
   ],
   "source": [
    "def difference_q(refl, refl_d):\n",
    "        #Since dealing witha arrays\n",
    "        refl = np.asarray(refl)\n",
    "        relf_d = np.asarray(refl_d)\n",
    "\n",
    "        #Calculating the difference in the reflectivty value between the whole image and the masked image\n",
    "        diff = np.abs(refl - refl_d)\n",
    "\n",
    "        #So the relative difference\n",
    "        rel_diff = diff / np.abs(refl)\n",
    "\n",
    "        return rel_diff\n",
    "\n",
    "refl_errors = difference_q(images_refl, images_refl_disk)\n",
    "\n",
    "print(f\"Mean reflectivity relative error: {np.mean(refl_errors)}\")"
   ]
  },
  {
   "cell_type": "markdown",
   "metadata": {},
   "source": [
    "There is a 0.5% mean error, do less thana 1% difference in the images, but deconvolution takes much longer, so it is okay to stick with the basic brightness code. For fun, I will plot the basic in blue and the deconvovled in red to see the difference."
   ]
  },
  {
   "cell_type": "code",
   "execution_count": 9,
   "metadata": {},
   "outputs": [
    {
     "data": {
      "image/png": "[encoded data removed]",
      "text/plain": [
       "<Figure size 1000x600 with 1 Axes>"
      ]
     },
     "metadata": {},
     "output_type": "display_data"
    }
   ],
   "source": [
    "plt.figure(figsize=(10, 6))\n",
    "plt.scatter(phase_angles, images_refl, color='b', marker='x')\n",
    "plt.scatter(phase_angles, images_refl_disk, color='r', marker='x')\n",
    "plt.xlabel('Phase Angle (degrees)')\n",
    "plt.ylabel(r'$A_g \\Phi(\\alpha)$')\n",
    "plt.title('Brightness Phase Curve')\n",
    "plt.show()"
   ]
  },
  {
   "cell_type": "code",
   "execution_count": 10,
   "metadata": {},
   "outputs": [
    {
     "data": {
      "image/png": "[encoded data removed]",
      "text/plain": [
       "<Figure size 1000x600 with 1 Axes>"
      ]
     },
     "metadata": {},
     "output_type": "display_data"
    }
   ],
   "source": [
    "filtername = 'CL1_BL2'\n",
    "\n",
    "#Same as before\n",
    "plt.figure(figsize=(10, 6))\n",
    "plt.scatter(phase_angles, images_refl, color='b', marker='x', label=f'Filter={filtername}')\n",
    "plt.scatter(phase_angles, images_refl_disk, color='r', marker='x', label=f'Filter={filtername}')\n",
    "plt.xlabel('Phase Angle (degrees)')\n",
    "plt.ylabel(r'$A_g \\Phi(\\alpha)$')\n",
    "plt.title('Brightness Phase Curve')\n",
    "\n",
    "#x-ticks(phase angle) at every 10 ticks but a more pronounced tick at every 30 will be more pronounces\n",
    "ax = plt.gca()\n",
    "ax.set_xticks(range(0, 181, 30))\n",
    "ax.set_xticks(range(0, 181, 10), minor=True)\n",
    "ax.tick_params(axis='x', which='major', length=7, width=2, labelsize=12)\n",
    "ax.tick_params(axis='x', which='minor', length=4, width=1, labelsize=10)\n",
    "\n",
    "#Same for the y-axis\n",
    "#While the x-axis is phase so remains consistent\n",
    "ay = plt.gca()\n",
    "#Thicker ticks every 5\n",
    "ay.set_yticks([i * 0.05 for i in range(4)], minor=False)\n",
    "ay.set_yticks([i * 0.01 for i in range(15)], minor=True) \n",
    "plt.ylim(0, 0.15)\n",
    "\n",
    "ay.tick_params(axis='y', which='major', length=7, width=2, labelsize=12)\n",
    "ay.tick_params(axis='y', which='minor', length=4, width=1, labelsize=10)\n",
    "\n",
    "plt.legend()\n",
    "plt.show()"
   ]
  }
 ],
 "metadata": {
  "kernelspec": {
   "display_name": "Python 3",
   "language": "python",
   "name": "python3"
  },
  "language_info": {
   "codemirror_mode": {
    "name": "ipython",
    "version": 3
   },
   "file_extension": ".py",
   "mimetype": "text/x-python",
   "name": "python",
   "nbconvert_exporter": "python",
   "pygments_lexer": "ipython3",
   "version": "3.11.9"
  }
 },
 "nbformat": 4,
 "nbformat_minor": 2
}
