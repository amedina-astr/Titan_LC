{
 "cells": [
  {
   "cell_type": "markdown",
   "metadata": {},
   "source": [
    "Project: Titan Lightcurve - Polarization-phase curve"
   ]
  },
  {
   "cell_type": "markdown",
   "metadata": {},
   "source": [
    "Author: Alex Medina"
   ]
  },
  {
   "cell_type": "markdown",
   "metadata": {},
   "source": [
    "Organization: University of Central Florida"
   ]
  },
  {
   "cell_type": "code",
   "execution_count": 1,
   "metadata": {},
   "outputs": [],
   "source": [
    "#General imports\n",
    "import numpy as np\n",
    "import matplotlib.pyplot as plt\n",
    "import pandas as pd\n",
    "import os\n",
    "\n",
    "#Most important import, in order to read and manipulate image in .IMG or VICAR format\n",
    "#The python package is called \"rms-vicar\"\n",
    "import vicar\n",
    "#The second most important package to use is called \"opencv\"\n",
    "#Used to manipulate general images\n",
    "#Not used in the brightness phase curves but to keep it consistent with the polarization phase curves\n",
    "import cv2"
   ]
  },
  {
   "cell_type": "markdown",
   "metadata": {},
   "source": [
    "Polarized images are created using the make_polar_virtual_machine.sav IDLVM script; with polarization being calculated by taking ratios in the iamges using different polarizers. However, this process has no knowledge of which pixels are on Titan and which pixels are not, so the entire image has polarization values. The values away from Titan are a combination of light spread beyond the limb from the point spread function, and noise in the CCD and possibly also some stray light if the camera is pointing close to Saturn or the Sun. So, to interpret the polarization image I needed to restrict my analysis to the disk of Titan, including pixels beyond the terminator since Titan’s extended atmosphere is lit by the sun over a large region beyond the geometric terminator. For the same reason, values in the theta image(for angle of linear polarization) should be ignored if they are not on the target."
   ]
  },
  {
   "cell_type": "markdown",
   "metadata": {},
   "source": [
    "For the $\\frac{I}{F}$ images this was not critical since the intensity drops to near zero sufficiently far from the target, and you want to include intensity beyond the limb. To only consider pixels within the disk of Titan in the image, I used the python package, opencv. First, I create a copy of the image, to not mess with original strucure of the .IMG of .VIC images, and detect the disk or circle of Titan; after it is detected, the output is a pair of coordinates for the center of the disk. To define an effective radius for the disk of Titan, I just plot the total brightness of a circle centered on Titan for incresing radius and plot it: when the plot begins to plateau, pixels beyond this plateau are no relevant."
   ]
  },
  {
   "cell_type": "code",
   "execution_count": 10,
   "metadata": {},
   "outputs": [],
   "source": [
    "def image_center(image):\n",
    "    #Creating a copy of the image to avoid messing with the original\n",
    "\n",
    "    image_copy = image.copy()\n",
    "    gray_image = cv2.normalize(image_copy, None, 0, 255, cv2.NORM_MINMAX, cv2.CV_8U)\n",
    "    #Detect circle; I leave these parameters as is but they can be adjust to make circle detection more or less negative\n",
    "    #I found that this is the best combination of parameters\n",
    "    detected_circles = cv2.HoughCircles(gray_image, cv2.HOUGH_GRADIENT, dp=1.2, minDist=100, param1=50, param2=30, minRadius=30, maxRadius=500)\n",
    "\n",
    "    #If a circle is detected this will draw a circle and return center coordinates (x, y) with a radius a\n",
    "    #But the radius is too rough, we determine it more accurately later, and we actually dont need to draw the circle\n",
    "    if detected_circles is not None:\n",
    "        detected_circles = np.round(detected_circles[0, :]).astype(\"int\")\n",
    "        for (x, y, r) in detected_circles:\n",
    "            #Draw a cirlce of radius 1 around center to show center\n",
    "            #cv2.circle(image_copy, (x, y), r, (0, 255, 0), 2)\n",
    "            #Draw a circle of radius r around center to show radius\n",
    "            #cv2.circle(image_copy, (x, y), 1, (0, 0, 255), 3)\n",
    "            #Show the image\n",
    "            #cv2.imshow(image_copy)\n",
    "            #print({x}, {y})\n",
    "            return (x, y)\n",
    "    #Debug\n",
    "    else:\n",
    "        print(\"No circle found\")\n",
    "        return None\n",
    "\n",
    "#To determine the effective radius, as mentioned, I plot the brightness against increasing radius\n",
    "def radii_fluxes_from_image(image, center):\n",
    "    x, y = center\n",
    "    image_copy = image.copy()\n",
    "    gray_image = cv2.normalize(image_copy, None, 0, 255, cv2.NORM_MINMAX, cv2.CV_8U)\n",
    "\n",
    "    #Each image is mach 1024 pixels wide, so set the maximum to 1000 to be safe\n",
    "    radii = range(1, 1000, 5)\n",
    "    flux = []\n",
    "\n",
    "    for r in radii:\n",
    "        mask = np.zeros_like(gray_image)\n",
    "        cv2.circle(mask, (x, y), r, (255, 255, 255), -1)\n",
    "\n",
    "        #Applying mask to the image\n",
    "        #Masking is one of the most important features that I take advantage of with opencv\n",
    "        #This makes it so the circle of Titan is the ONLY part of the image that is showing and the rest is turned to either 0 or 1\n",
    "        masked = cv2.bitwise_and(gray_image, gray_image, mask=mask)\n",
    "        flux.append(np.sum(masked))\n",
    "    return radii, flux\n",
    "\n",
    "#Manual inspection and testing\n",
    "def radii_fluxes_plot(radii, flux):\n",
    "    plt.plot(radii, flux)\n",
    "    plt.xlabel(\"Radius\")\n",
    "    plt.ylabel(\"Flux\")\n",
    "    plt.title(\"Flux vs. Radius\")\n",
    "    plt.show()\n",
    "\n",
    "#To determine the effective radius, I originally used a gradient\n",
    "#When the slope approaches 0, then that is a good point\n",
    "#It works because Titan is really close to the Earth and the images have a lot of pixels\n",
    "#But, in general, we don't have the luxury of so many pixels so just getting in the practice that this plateau point is determined when the difference between the current and previous pixel is...\n",
    "#...much much less than the previous pixel\n",
    "def effective_radius(radii, flux):\n",
    "    for i in range(1, len(flux)):\n",
    "        if flux[i] - flux[i-1] < 0.01 * flux[i-1]:\n",
    "            return radii[i]\n",
    "    #If no plateau is detected can return last radius\n",
    "    #return radii[-1]\n",
    "\n",
    "    #Debugging\n",
    "    print(\"No plateau found\")\n",
    "    return None"
   ]
  },
  {
   "cell_type": "markdown",
   "metadata": {},
   "source": [
    "Unlike brightness images where pixel units are in $\\frac{I}{F}$, degree of linear polarization is unitless. To go from the intensity, polarization, and theta images to disk-integrated Q/I or polarization, I do a proper sum which takes into account how much each pixel contributes to the total. To give a little bit of background and starting with small assumptions; using Stokes vector, we define the degree of linear polarization(no circular polarization) as:\n",
    "\n",
    "\\begin{equation}\n",
    "P = \\frac{\\sqrt{Q^2 + U^2}}{I}.\n",
    "\\end{equation}\n",
    "\n",
    "Since each pixel has a calculated version of P, Q, and U, a more accurate representation is per pixel:\n",
    "\n",
    "\\begin{equation}\n",
    "P_i = \\frac{\\sqrt{(Q_i)^2 + (U_i)^2}}{I_i}.\n",
    "\\end{equation}\n",
    "\n",
    "So we can find the total degree of linear polarization by summing all pixels on Titan. In a simplified case, let's assume that there is no U, and there is only a Q component, when we can say:\n",
    "\n",
    "\\begin{equation}\n",
    "P_i = \\frac{Q_i}{I_i}.\n",
    "\\end{equation}\n",
    "\n",
    "Which can be reworked as a weighted sum for total linear polarization or $\\frac{Q}{I}$ as:\n",
    "\n",
    "\\begin{equation}\n",
    "\\frac{Q}{I} = P = \\frac{\\sum_{j} \\frac{I_j}{F} P_j}{\\sum_{j }\\frac{I_j}{F}}.\n",
    "\\end{equation}"
   ]
  },
  {
   "cell_type": "code",
   "execution_count": 17,
   "metadata": {},
   "outputs": [],
   "source": [
    "def simple_dlop(pol_image, IF_image, center, radius):\n",
    "    #pol short for polarization images\n",
    "    mask_pol = np.zeros_like(pol_image)\n",
    "    #Fills the circle with 1s and the outside is 0\n",
    "    #So that when we sum, we multiply the image by the mask, and the 0 multiplication gets rid of eveything outside of the disk\n",
    "    #And everything inside the disk is summed but stays the same because multiplied by 1\n",
    "    cv2.circle(mask_pol, center, radius, 1, thickness=-1)\n",
    "    pol_masked = pol_image * mask_pol\n",
    "\n",
    "    #ins short for I/F images\n",
    "    mask_IF = np.zeros_like(IF_image)\n",
    "    cv2.circle(mask_IF, center, radius, 1, thickness=-1)\n",
    "    IF_masked = IF_image * mask_IF\n",
    "\n",
    "    weighted = np.sum(IF_masked * pol_masked)\n",
    "    total_IF = np.sum(IF_masked)\n",
    "\n",
    "    return weighted / total_IF"
   ]
  },
  {
   "cell_type": "markdown",
   "metadata": {},
   "source": [
    "Here, we input the path where the calibrated AND poalrized images are located. Of course, this is unique to my setup and the data that I have."
   ]
  },
  {
   "cell_type": "code",
   "execution_count": 11,
   "metadata": {},
   "outputs": [],
   "source": [
    "pol_images = r'C:\\Users\\Alex\\Desktop\\Titan\\Polarized Images\\GRN_P\\GRN_POL'\n",
    "\n",
    "#Have the same path\n",
    "IF_images = r'C:\\Users\\Alex\\Desktop\\Titan\\Polarized Images\\GRN_P\\GRN_POL'\n",
    "\n",
    "pol_IF_metadata = r'C:\\Users\\Alex\\Desktop\\Titan\\Polarized Images\\GRN_P\\GRN_POL\\pol_data.csv'\n",
    "#Reading the csv file\n",
    "parameters_df = pd.read_csv(pol_IF_metadata)"
   ]
  },
  {
   "cell_type": "markdown",
   "metadata": {},
   "source": [
    "Because we have to sort through different files in the same folder, it gets kinda messy, but here is a way to make it work: I can group the center and effectiv radius (x, y, r) and create a dictionary, in the folder there are three .VIC that correspond to the same image, hence they have the same beginning but different ending, i.e NXXXXXX_pol.vic and NXXXXXXX_I_over_F.vic, so we can match the corrdinates from the I_over_F coordinates to the _pol.vic images."
   ]
  },
  {
   "cell_type": "code",
   "execution_count": null,
   "metadata": {},
   "outputs": [
    {
     "name": "stdout",
     "output_type": "stream",
     "text": [
      "N1486913_I_over_F.vic: (np.int64(253), np.int64(263)), 181\n",
      "N1494007_I_over_F.vic: (np.int64(447), np.int64(340)), 361\n",
      "N1499415_I_over_F.vic: (np.int64(523), np.int64(523)), 371\n",
      "N1515805_I_over_F.vic: (np.int64(517), np.int64(517)), 376\n",
      "N1521214_I_over_F.vic: (np.int64(532), np.int64(527)), 391\n",
      "N1526619_I_over_F.vic: (np.int64(478), np.int64(521)), 406\n",
      "N1530756_I_over_F.vic: (np.int64(531), np.int64(506)), 361\n",
      "N1534852_I_over_F.vic: (np.int64(490), np.int64(513)), 376\n",
      "N1536147_I_over_F.vic: (np.int64(506), np.int64(511)), 401\n",
      "N1537508_I_over_F.vic: (np.int64(512), np.int64(523)), 381\n",
      "N1547135_I_over_F.vic: (np.int64(527), np.int64(514)), 401\n",
      "N1549547_I_over_F.vic: (np.int64(512), np.int64(496)), 411\n",
      "N1551056_I_over_F.vic: (np.int64(482), np.int64(495)), 381\n",
      "N1553821_I_over_F.vic: (np.int64(518), np.int64(532)), 336\n",
      "N1556523_I_over_F.vic: (np.int64(501), np.int64(551)), 391\n",
      "N1557905_I_over_F.vic: (np.int64(484), np.int64(571)), 376\n",
      "N1559282_I_over_F.vic: (np.int64(494), np.int64(560)), 371\n",
      "N1567440_I_over_F.vic: (np.int64(524), np.int64(520)), 361\n",
      "N1570185_I_over_F.vic: (np.int64(511), np.int64(532)), 391\n",
      "N1571476_I_over_F.vic: (np.int64(521), np.int64(535)), 346\n",
      "N1577094_I_over_F.vic: (np.int64(489), np.int64(539)), 371\n",
      "N1579533_I_over_F.vic: (np.int64(495), np.int64(509)), 371\n",
      "N1582634_I_over_F.vic: (np.int64(562), np.int64(514)), 356\n",
      "N1585391_I_over_F.vic: (np.int64(518), np.int64(530)), 371\n",
      "N1617163_I_over_F.vic: (np.int64(244), np.int64(250)), 206\n",
      "N1617165_I_over_F.vic: (np.int64(277), np.int64(244)), 201\n"
     ]
    }
   ],
   "source": [
    "#Grouping the circle center and radius for our dictionary\n",
    "def find_circle_params(image_path):\n",
    "    vic = vicar.VicarImage(image_path, strict=False)\n",
    "    image = vic.data_2d\n",
    "    center = image_center(image)\n",
    "    radii, fluxes = radii_fluxes_from_image(image, center)\n",
    "    eff_radius = effective_radius(radii, fluxes)\n",
    "    return center, eff_radius\n",
    "\n",
    "#Creating a dictionary with the opus_id being used as the key since it matches the polarized images and IF images\n",
    "#And the corresponding center coordinates and effective radius are stored as the value\n",
    "\n",
    "circle_params = {}\n",
    "for filename in os.listdir(IF_images):\n",
    "    if filename.endswith('_I_over_F.vic'):\n",
    "        coordinate_image_path = os.path.join(IF_images, filename)\n",
    "        opus_id = filename.split('_')[0]\n",
    "        try:\n",
    "            center, eff_radius = find_circle_params(coordinate_image_path)\n",
    "            circle_params[opus_id] = (center, eff_radius)\n",
    "            print(f'{filename}: {center}, {eff_radius}')\n",
    "        #Debug\n",
    "        except Exception as e:\n",
    "            print(f\"{filename}: {e}\")"
   ]
  },
  {
   "cell_type": "markdown",
   "metadata": {},
   "source": [
    "Finally, we have a center and effective radius in order to mask the polarized image and calculate the total degree of linear polarization, or a simplified case of $\\frac{Q}{I}$, and we already know the phase angle from the metadata. So this follows the exact same process as that of the brightness-phase curves, jsut with different naming conventions and a center and effective radius line."
   ]
  },
  {
   "cell_type": "code",
   "execution_count": 19,
   "metadata": {},
   "outputs": [
    {
     "name": "stdout",
     "output_type": "stream",
     "text": [
      "N1486913_Pol.vic: 0.049955930560827255\n",
      "N1494007_Pol.vic: 0.20695260167121887\n",
      "N1499415_Pol.vic: 0.2633275091648102\n",
      "N1515805_Pol.vic: 0.1329754889011383\n",
      "N1521214_Pol.vic: 0.33118000626564026\n",
      "N1526619_Pol.vic: 0.44710254669189453\n",
      "N1530756_Pol.vic: 0.32857242226600647\n",
      "N1534852_Pol.vic: 0.3191094994544983\n",
      "N1536147_Pol.vic: 0.2692350447177887\n",
      "N1537508_Pol.vic: 0.31137311458587646\n",
      "N1547135_Pol.vic: 0.36123406887054443\n",
      "N1549547_Pol.vic: 0.38702407479286194\n",
      "N1551056_Pol.vic: 0.3021755814552307\n",
      "N1553821_Pol.vic: 0.17862001061439514\n",
      "N1556523_Pol.vic: 0.08891543000936508\n",
      "N1557905_Pol.vic: 0.05651337653398514\n",
      "N1559282_Pol.vic: 0.040823668241500854\n",
      "N1567440_Pol.vic: 0.04534105211496353\n",
      "N1570185_Pol.vic: 0.06248375400900841\n",
      "N1571476_Pol.vic: 0.4098687767982483\n",
      "N1577094_Pol.vic: 0.14538060128688812\n",
      "N1579533_Pol.vic: 0.2592567503452301\n",
      "N1582634_Pol.vic: 0.2569313943386078\n",
      "N1585391_Pol.vic: 0.3266185522079468\n",
      "N1617163_Pol.vic: 0.4305223822593689\n",
      "N1617165_Pol.vic: 0.4434840977191925\n"
     ]
    }
   ],
   "source": [
    "#List lists for results\n",
    "simple_dlops = []\n",
    "phase_angles = []\n",
    "\n",
    "#Because the .IMG calibrated images don't match 1:1 with the metadata, we have to do some fun things\n",
    "#Same loop as before but additional if for center coords and radius\n",
    "for filename in os.listdir(pol_images):\n",
    "    if filename.endswith('_Pol.vic'):\n",
    "    #if filename.endswith('_Theta.vic'):\n",
    "    #if filename.endswith('_Q.vic'):\n",
    "        pol_image_path = os.path.join(pol_images, filename)\n",
    "        #Since these images are in .IMG(or .VIC) format, simple line to read image from rms-vicar package\n",
    "        pol_vic = vicar.VicarImage(pol_image_path, strict=False)\n",
    "        read_pol_image = pol_vic.data_2d\n",
    "\n",
    "        #The coordinate images are also the _I_over_F.vic images just with that different ending\n",
    "        #Removing that ending they have the exact same naming structure\n",
    "        #Trying a replace, this works because _Pol.vic and _I_over_F.vic are both in the \"polarized images\" folder\n",
    "        #I just named them differently for convenience\n",
    "        IF_image_path = pol_image_path.replace('_Pol.vic', '_I_over_F.vic')\n",
    "        IF_vic = vicar.VicarImage(IF_image_path, strict=False)\n",
    "        read_IF_image = IF_vic.data_2d\n",
    "\n",
    "\n",
    "        opus_id = filename.split('_')[0]\n",
    "        #Comparatively, in the brightness-phase curve we used metadata file from OPUS, but here i created my own\n",
    "        #So no need to add the prefix 'co-iss-' or change from upper to lowercase\n",
    "        parameter_row = parameters_df[parameters_df['OPUS ID'].str.contains(opus_id)]\n",
    "\n",
    "        #opus_id in circle_params becasue both I_over_F and pol images have same naming convention before the understore defined in circle params\n",
    "        if opus_id in circle_params:\n",
    "            center, eff_radius = circle_params[opus_id]\n",
    "\n",
    "            if not parameter_row.empty:\n",
    "                #Assocating the meta data with the image, pixel_scale and phase_angle\n",
    "                phase_angle = parameter_row['Observed Phase Angle (Min) [Titan] (degrees)'].values[0]\n",
    "\n",
    "                s_dlop = simple_dlop(read_pol_image, read_IF_image, center, eff_radius)\n",
    "\n",
    "                #Creating array to plot\n",
    "                phase_angles.append(phase_angle)\n",
    "                simple_dlops.append(s_dlop)\n",
    "\n",
    "                #For manual inspection\n",
    "                print(f'{filename}: {s_dlop}')"
   ]
  },
  {
   "cell_type": "markdown",
   "metadata": {},
   "source": [
    "Now, we have all the important information, an image (or data point) with a degree of a simplified $\\frac{Q}{I}$ (y) and a phase angle(x)."
   ]
  },
  {
   "cell_type": "code",
   "execution_count": 24,
   "metadata": {},
   "outputs": [
    {
     "data": {
      "image/png": "[encoded data removed]",
      "text/plain": [
       "<Figure size 1000x600 with 1 Axes>"
      ]
     },
     "metadata": {},
     "output_type": "display_data"
    }
   ],
   "source": [
    "plt.figure(figsize=(10, 6))\n",
    "plt.scatter(phase_angles, simple_dlops, color='b', marker='x')\n",
    "plt.xlabel('Phase Angle (degrees)')\n",
    "plt.ylabel('Q/I')\n",
    "plt.title('Polarization Phase Curve')\n",
    "plt.show()"
   ]
  },
  {
   "cell_type": "markdown",
   "metadata": {},
   "source": [
    "Having examined outliers(explained in procedure), as a final step for consistency, I use the preliminary plot to gauge an idea for the maximum value. Hence, with this last section, I manually adjust the y axis height and tick number(at least divisible by 5). X-axis remains consistant across all filters."
   ]
  },
  {
   "cell_type": "code",
   "execution_count": 26,
   "metadata": {},
   "outputs": [
    {
     "data": {
      "image/png": "[encoded data removed]",
      "text/plain": [
       "<Figure size 1000x600 with 1 Axes>"
      ]
     },
     "metadata": {},
     "output_type": "display_data"
    }
   ],
   "source": [
    "#Fancy plot for consistency across all plots but also visually will look better\n",
    "filtername = 'CL1_GRN'\n",
    "\n",
    "#Same as before\n",
    "plt.figure(figsize=(10, 6))\n",
    "plt.scatter(phase_angles, simple_dlops, color='b', marker='x', label=f'Filter={filtername}')\n",
    "plt.xlabel('Phase Angle (degrees)')\n",
    "plt.ylabel('Q/I')\n",
    "plt.title('Polarization Phase Curve')\n",
    "\n",
    "#x-ticks(phase angle) at every 10 ticks but a more pronounced tick at every 30 will be more pronounces\n",
    "ax = plt.gca()\n",
    "ax.set_xticks(range(0, 181, 30))\n",
    "ax.set_xticks(range(0, 181, 10), minor=True)\n",
    "ax.tick_params(axis='x', which='major', length=7, width=2, labelsize=12)\n",
    "ax.tick_params(axis='x', which='minor', length=4, width=1, labelsize=10)\n",
    "\n",
    "#Same for the y-axis\n",
    "#While the x-axis is phase so remains consistent\n",
    "ay = plt.gca()\n",
    "#Thicker ticks every 5\n",
    "ay.set_yticks([i * 0.1 for i in range(7)], minor=False)\n",
    "ay.set_yticks([i * 0.05 for i in range(60)], minor=True) \n",
    "plt.ylim(0, 0.60)\n",
    "\n",
    "ay.tick_params(axis='y', which='major', length=7, width=2, labelsize=12)\n",
    "ay.tick_params(axis='y', which='minor', length=4, width=1, labelsize=10)\n",
    "\n",
    "plt.legend()\n",
    "plt.show()"
   ]
  },
  {
   "cell_type": "markdown",
   "metadata": {},
   "source": [
    "As a next step; ABOVE, we considered the case where U = 0, such that P = Q/I, but if there is both Q and U, we can determine and plot those individually."
   ]
  }
 ],
 "metadata": {
  "kernelspec": {
   "display_name": "Python 3",
   "language": "python",
   "name": "python3"
  },
  "language_info": {
   "codemirror_mode": {
    "name": "ipython",
    "version": 3
   },
   "file_extension": ".py",
   "mimetype": "text/x-python",
   "name": "python",
   "nbconvert_exporter": "python",
   "pygments_lexer": "ipython3",
   "version": "3.11.9"
  }
 },
 "nbformat": 4,
 "nbformat_minor": 2
}
