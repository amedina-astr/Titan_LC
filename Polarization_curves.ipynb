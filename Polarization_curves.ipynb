{
 "cells": [
  {
   "cell_type": "markdown",
   "metadata": {},
   "source": [
    "Project: Titan Lightcurve - Polarization-phase curve"
   ]
  },
  {
   "cell_type": "markdown",
   "metadata": {},
   "source": [
    "Author: Alex Medina"
   ]
  },
  {
   "cell_type": "markdown",
   "metadata": {},
   "source": [
    "Organization: University of Central Florida"
   ]
  },
  {
   "cell_type": "code",
   "execution_count": 2,
   "metadata": {},
   "outputs": [],
   "source": [
    "#General imports\n",
    "import numpy as np\n",
    "import matplotlib.pyplot as plt\n",
    "import pandas as pd\n",
    "import os\n",
    "\n",
    "#Most important import, in order to read and manipulate image in .IMG or VICAR format\n",
    "#The python package is called \"rms-vicar\"\n",
    "import vicar\n",
    "#The second most important package to use is called \"opencv\"\n",
    "#Used to manipulate general images\n",
    "#Not used in the brightness phase curves but to keep it consistent with the polarization phase curves\n",
    "import cv2"
   ]
  },
  {
   "cell_type": "markdown",
   "metadata": {},
   "source": [
    "Polarized images are created using the make_polar_virtual_machine.sav IDLVM script; with polarization being calculated by taking ratios in the iamges using different polarizers. However, this process has no knowledge of which pixels are on Titan and which pixels are not, so the entire image has polarization values. The values away from Titan are a combination of light spread beyond the limb from the point spread function, and noise in the CCD and possibly also some stray light if the camera is pointing close to Saturn or the Sun. So, to interpret the polarization image I needed to restrict my analysis to the disk of Titan, including pixels beyond the terminator since Titan’s extended atmosphere is lit by the sun over a large region beyond the geometric terminator. For the same reason, values in the theta image(for angle of linear polarization) should be ignored if they are not on the target."
   ]
  },
  {
   "cell_type": "markdown",
   "metadata": {},
   "source": [
    "For the $\\frac{I}{F}$ images this was not critical since the intensity drops to near zero sufficiently far from the target, and you want to include intensity beyond the limb. To only consider pixels within the disk of Titan in the image, I used the python package, opencv. First, I create a copy of the image, to not mess with original strucure of the .IMG of .VIC images, and detect the disk or circle of Titan; after it is detected, the output is a pair of coordinates for the center of the disk. To define an effective radius for the disk of Titan, I just plot the total brightness of a circle centered on Titan for incresing radius and plot it: when the plot begins to plateau, pixels beyond this plateau are no relevant."
   ]
  },
  {
   "cell_type": "code",
   "execution_count": 3,
   "metadata": {},
   "outputs": [],
   "source": [
    "def image_center(image):\n",
    "    #Creating a copy of the image to avoid messing with the original\n",
    "\n",
    "    image_copy = image.copy()\n",
    "    gray_image = cv2.normalize(image_copy, None, 0, 255, cv2.NORM_MINMAX, cv2.CV_8U)\n",
    "    #Detect circle; I leave these parameters as is but they can be adjust to make circle detection more or less negative\n",
    "    #I found that this is the best combination of parameters\n",
    "    detected_circles = cv2.HoughCircles(gray_image, cv2.HOUGH_GRADIENT, dp=1.2, minDist=100, param1=50, param2=30, minRadius=30, maxRadius=500)\n",
    "\n",
    "    #If a circle is detected this will draw a circle and return center coordinates (x, y) with a radius a\n",
    "    #But the radius is too rough, we determine it more accurately later, and we actually dont need to draw the circle\n",
    "    if detected_circles is not None:\n",
    "        detected_circles = np.round(detected_circles[0, :]).astype(\"int\")\n",
    "        for (x, y, r) in detected_circles:\n",
    "            #Draw a cirlce of radius 1 around center to show center\n",
    "            #cv2.circle(image_copy, (x, y), r, (0, 255, 0), 2)\n",
    "            #Draw a circle of radius r around center to show radius\n",
    "            #cv2.circle(image_copy, (x, y), 1, (0, 0, 255), 3)\n",
    "            #Show the image\n",
    "            #cv2.imshow(image_copy)\n",
    "            #print({x}, {y})\n",
    "            return (x, y)\n",
    "    #Debug\n",
    "    else:\n",
    "        print(\"No circle found\")\n",
    "        return None\n",
    "\n",
    "#To determine the effective radius, as mentioned, I plot the brightness against increasing radius\n",
    "def radii_fluxes_from_image(image, center):\n",
    "    x, y = center\n",
    "    image_copy = image.copy()\n",
    "    gray_image = cv2.normalize(image_copy, None, 0, 255, cv2.NORM_MINMAX, cv2.CV_8U)\n",
    "\n",
    "    #Each image is mach 1024 pixels wide, so set the maximum to 1000 to be safe\n",
    "    radii = range(1, 1000, 5)\n",
    "    flux = []\n",
    "\n",
    "    for r in radii:\n",
    "        mask = np.zeros_like(gray_image)\n",
    "        cv2.circle(mask, (x, y), r, (255, 255, 255), -1)\n",
    "\n",
    "        #Applying mask to the image\n",
    "        #Masking is one of the most important features that I take advantage of with opencv\n",
    "        #This makes it so the circle of Titan is the ONLY part of the image that is showing and the rest is turned to either 0 or 1\n",
    "        masked = cv2.bitwise_and(gray_image, gray_image, mask=mask)\n",
    "        flux.append(np.sum(masked))\n",
    "    return radii, flux\n",
    "\n",
    "#Manual inspection and testing\n",
    "def radii_fluxes_plot(radii, flux):\n",
    "    plt.plot(radii, flux)\n",
    "    plt.xlabel(\"Radius\")\n",
    "    plt.ylabel(\"Flux\")\n",
    "    plt.title(\"Flux vs. Radius\")\n",
    "    plt.show()\n",
    "\n",
    "#To determine the effective radius, I originally used a gradient\n",
    "#When the slope approaches 0, then that is a good point\n",
    "#It works because Titan is really close to the Earth and the images have a lot of pixels\n",
    "#But, in general, we don't have the luxury of so many pixels so just getting in the practice that this plateau point is determined when the difference between the current and previous pixel is...\n",
    "#...much much less than the previous pixel\n",
    "def effective_radius(radii, flux):\n",
    "    for i in range(1, len(flux)):\n",
    "        if flux[i] - flux[i-1] < 0.01 * flux[i-1]:\n",
    "            return radii[i]\n",
    "    #If no plateau is detected can return last radius\n",
    "    #return radii[-1]\n",
    "\n",
    "    #Debugging\n",
    "    print(\"No plateau found\")\n",
    "    return None"
   ]
  },
  {
   "cell_type": "markdown",
   "metadata": {},
   "source": [
    "Unlike brightness images where pixel units are in $\\frac{I}{F}$, degree of linear polarization is unitless. To go from the intensity, polarization, and theta images to disk-integrated Q/I or polarization, I do a proper sum which takes into account how much each pixel contributes to the total. To give a little bit of background and starting with small assumptions; using Stokes vector, we define the degree of linear polarization(no circular polarization) as:\n",
    "\n",
    "\\begin{equation}\n",
    "P = \\frac{\\sqrt{Q^2 + U^2}}{I}.\n",
    "\\end{equation}\n",
    "\n",
    "Since each pixel has a calculated version of P, Q, and U, a more accurate representation is per pixel:\n",
    "\n",
    "\\begin{equation}\n",
    "P_i = \\frac{\\sqrt{(Q_i)^2 + (U_i)^2}}{I_i}.\n",
    "\\end{equation}\n",
    "\n",
    "So we can find the total degree of linear polarization by summing all pixels on Titan. In a simplified case, let's assume that there is no U, and there is only a Q component, when we can say:\n",
    "\n",
    "\\begin{equation}\n",
    "P_i = \\frac{Q_i}{I_i}.\n",
    "\\end{equation}\n",
    "\n",
    "Which can be reworked as a weighted sum for total linear polarization or $\\frac{Q}{I}$ as:\n",
    "\n",
    "\\begin{equation}\n",
    "\\frac{Q}{I} = P = \\frac{\\sum_{j} \\frac{I_j}{F} P_j}{\\sum_{j }\\frac{I_j}{F}}.\n",
    "\\end{equation}\n",
    "\n",
    "One last thing to note is there there are two ways to go about this, doing just the disk of Titan or the whole image."
   ]
  },
  {
   "cell_type": "markdown",
   "metadata": {},
   "source": [
    "Since we are doing a weighted sum and pixels off of the disk of Titan in the IF image fall to zero, the poalrization values off of the disk Titan won't contribute much at all, so we can jsut sum over entire image - although I put it both ways to be safe and test, then do a relative error. Additionally, from the brightness phase curves we saw that doing a deconvolution also produces less than a few percent error, so it will only take up more time so I will not be doing it here."
   ]
  },
  {
   "cell_type": "code",
   "execution_count": 4,
   "metadata": {},
   "outputs": [],
   "source": [
    "def simple_dlop(pol_image, if_image, center, radius):\n",
    "    #pol short for polarization images\n",
    "    mask_pol = np.zeros_like(pol_image)\n",
    "    #Fills the circle with 1s and the outside is 0\n",
    "    #So that when we sum, we multiply the image by the mask, and the 0 multiplication gets rid of eveything outside of the disk\n",
    "    #And everything inside the disk is summed but stays the same because multiplied by 1\n",
    "    cv2.circle(mask_pol, center, radius, 1, thickness=-1)\n",
    "    pol_masked = pol_image * mask_pol\n",
    "\n",
    "    #ins short for I/F images\n",
    "    mask_if = np.zeros_like(if_image)\n",
    "    cv2.circle(mask_if, center, radius, 1, thickness=-1)\n",
    "    if_masked = if_image * mask_if\n",
    "\n",
    "    #for the masked image\n",
    "    weighted_mask = np.sum(if_masked * pol_masked)\n",
    "    total_if_mask = np.sum(if_masked)\n",
    "    masked = weighted_mask / total_if_mask\n",
    "\n",
    "    #for the whole image\n",
    "    weighted_whole = np.sum(if_image * pol_image)\n",
    "    total_if = np.sum(if_image)\n",
    "    whole = weighted_whole / total_if\n",
    "\n",
    "    return masked, whole"
   ]
  },
  {
   "cell_type": "markdown",
   "metadata": {},
   "source": [
    "Here, we input the path where the calibrated AND poalrized images are located. Of course, this is unique to my setup and the data that I have."
   ]
  },
  {
   "cell_type": "code",
   "execution_count": 5,
   "metadata": {},
   "outputs": [],
   "source": [
    "pol_images = r'C:\\Users\\Alex\\Desktop\\Titan\\Polarized Images\\CB2_P\\CB2_POL'\n",
    "\n",
    "#Have the same path\n",
    "if_images = r'C:\\Users\\Alex\\Desktop\\Titan\\Polarized Images\\CB2_P\\CB2_POL'\n",
    "\n",
    "pol_if_metadata = r'C:\\Users\\Alex\\Desktop\\Titan\\Polarized Images\\CB2_P\\CB2_POL\\pol_data_new.csv'\n",
    "#Reading the csv file\n",
    "parameters_df = pd.read_csv(pol_if_metadata)"
   ]
  },
  {
   "cell_type": "markdown",
   "metadata": {},
   "source": [
    "Because we have to sort through different files in the same folder, it gets kinda messy, but here is a way to make it work: I can group the center and effectiv radius (x, y, r) and create a dictionary, in the folder there are three .VIC that correspond to the same image, hence they have the same beginning but different ending, i.e NXXXXXX_pol.vic and NXXXXXXX_I_over_F.vic, so we can match the corrdinates from the I_over_F coordinates to the _pol.vic images."
   ]
  },
  {
   "cell_type": "code",
   "execution_count": 6,
   "metadata": {},
   "outputs": [
    {
     "name": "stdout",
     "output_type": "stream",
     "text": [
      "N1617164_I_over_F.vic: (np.int64(249), np.int64(249)), 201\n",
      "N1617165_I_over_F.vic: (np.int64(278), np.int64(244)), 201\n",
      "N1674325_I_over_F.vic: (np.int64(499), np.int64(511)), 546\n",
      "N1675503_I_over_F.vic: (np.int64(485), np.int64(509)), 541\n",
      "N1677312_I_over_F.vic: (np.int64(520), np.int64(513)), 546\n",
      "N1677484_I_over_F.vic: (np.int64(541), np.int64(511)), 551\n",
      "N1677856_I_over_F.vic: (np.int64(499), np.int64(517)), 536\n",
      "N1678029_I_over_F.vic: (np.int64(535), np.int64(515)), 546\n",
      "N1678201_I_over_F.vic: (np.int64(490), np.int64(511)), 546\n",
      "N1678374_I_over_F.vic: (np.int64(542), np.int64(506)), 551\n",
      "N1678546_I_over_F.vic: (np.int64(505), np.int64(512)), 551\n",
      "N1680116_I_over_F.vic: (np.int64(509), np.int64(517)), 551\n",
      "N1680806_I_over_F.vic: (np.int64(499), np.int64(527)), 536\n",
      "N1682446_I_over_F.vic: (np.int64(482), np.int64(512)), 551\n",
      "N1684255_I_over_F.vic: (np.int64(508), np.int64(513)), 546\n",
      "N1684428_I_over_F.vic: (np.int64(524), np.int64(518)), 546\n",
      "N1686496_I_over_F.vic: (np.int64(502), np.int64(508)), 546\n",
      "N1687565_I_over_F.vic: (np.int64(266), np.int64(169)), 146\n",
      "N1689079_I_over_F.vic: (np.int64(500), np.int64(527)), 536\n",
      "N1689362_I_over_F.vic: (np.int64(489), np.int64(518)), 546\n",
      "N1689632_I_over_F.vic: (np.int64(497), np.int64(511)), 546\n",
      "N1690219_I_over_F.vic: (np.int64(514), np.int64(518)), 536\n",
      "N1691406_I_over_F.vic: (np.int64(508), np.int64(515)), 531\n",
      "N1691900_I_over_F.vic: (np.int64(520), np.int64(511)), 541\n",
      "N1692244_I_over_F.vic: (np.int64(519), np.int64(512)), 546\n",
      "N1692440_I_over_F.vic: (np.int64(505), np.int64(514)), 541\n",
      "N1693538_I_over_F.vic: (np.int64(501), np.int64(514)), 546\n",
      "N1694729_I_over_F.vic: (np.int64(520), np.int64(523)), 531\n",
      "N1697647_I_over_F.vic: (np.int64(484), np.int64(513)), 496\n"
     ]
    }
   ],
   "source": [
    "#Grouping the circle center and radius for our dictionary\n",
    "def find_circle_params(image_path):\n",
    "    vic = vicar.VicarImage(image_path, strict=False)\n",
    "    image = vic.data_2d\n",
    "    center = image_center(image)\n",
    "    radii, fluxes = radii_fluxes_from_image(image, center)\n",
    "    eff_radius = effective_radius(radii, fluxes)\n",
    "    return center, eff_radius\n",
    "\n",
    "#Creating a dictionary with the opus_id being used as the key since it matches the polarized images and IF images\n",
    "#And the corresponding center coordinates and effective radius are stored as the value\n",
    "\n",
    "circle_params = {}\n",
    "for filename in os.listdir(if_images):\n",
    "    if filename.endswith('_I_over_F.vic'):\n",
    "        coordinate_image_path = os.path.join(if_images, filename)\n",
    "        opus_id = filename.split('_')[0]\n",
    "        try:\n",
    "            center, eff_radius = find_circle_params(coordinate_image_path)\n",
    "            circle_params[opus_id] = (center, eff_radius)\n",
    "            print(f'{filename}: {center}, {eff_radius}')\n",
    "        #Debug\n",
    "        except Exception as e:\n",
    "            print(f\"{filename}: {e}\")"
   ]
  },
  {
   "cell_type": "markdown",
   "metadata": {},
   "source": [
    "Finally, we have a center and effective radius in order to mask the polarized image and calculate the total degree of linear polarization, or a simplified case of $\\frac{Q}{I}$, and we already know the phase angle from the metadata. So this follows the exact same process as that of the brightness-phase curves, jsut with different naming conventions and a center and effective radius line."
   ]
  },
  {
   "cell_type": "code",
   "execution_count": 7,
   "metadata": {},
   "outputs": [
    {
     "name": "stdout",
     "output_type": "stream",
     "text": [
      "N1617164_Pol.vic: 0.34301552176475525, 0.34247085452079773\n",
      "N1617165_Pol.vic: 0.34322258830070496, 0.34350401163101196\n",
      "N1674325_Pol.vic: 0.34958699345588684, 0.35088515281677246\n",
      "N1675503_Pol.vic: 0.15242160856723785, 0.15295571088790894\n",
      "N1677312_Pol.vic: 0.3207065463066101, 0.3218895494937897\n",
      "N1677484_Pol.vic: 0.40372273325920105, 0.4047674238681793\n",
      "N1677856_Pol.vic: 0.38711875677108765, 0.38753601908683777\n",
      "N1678029_Pol.vic: 0.2910366356372833, 0.29161569476127625\n",
      "N1678201_Pol.vic: 0.261557012796402, 0.262387752532959\n",
      "N1678374_Pol.vic: 0.30624863505363464, 0.3075850009918213\n",
      "N1678546_Pol.vic: 0.38559824228286743, 0.387154221534729\n",
      "N1680116_Pol.vic: 0.3596060574054718, 0.360847532749176\n",
      "N1680806_Pol.vic: 0.3358915150165558, 0.3361669182777405\n",
      "N1682446_Pol.vic: 0.1701265126466751, 0.17128542065620422\n",
      "N1684255_Pol.vic: 0.22617049515247345, 0.2271500825881958\n",
      "N1684428_Pol.vic: 0.26760756969451904, 0.26845747232437134\n",
      "N1686496_Pol.vic: 0.23723237216472626, 0.23807986080646515\n",
      "N1687565_Pol.vic: 0.03933229297399521, 0.04180489480495453\n",
      "N1689079_Pol.vic: 0.1951463371515274, 0.19561363756656647\n",
      "N1689362_Pol.vic: 0.0821848064661026, 0.0831107571721077\n",
      "N1689632_Pol.vic: 0.1625012904405594, 0.16388219594955444\n",
      "N1690219_Pol.vic: 0.21717938780784607, 0.21750704944133759\n",
      "N1691406_Pol.vic: 0.2036309689283371, 0.2041626274585724\n",
      "N1691900_Pol.vic: 0.06646889448165894, 0.06738317757844925\n",
      "N1692244_Pol.vic: 0.18473106622695923, 0.18611539900302887\n",
      "N1692440_Pol.vic: 0.33575090765953064, 0.3368772566318512\n",
      "N1693538_Pol.vic: 0.10845232009887695, 0.10975965857505798\n",
      "N1694729_Pol.vic: 0.07568775117397308, 0.07615701109170914\n",
      "N1697647_Pol.vic: 0.10571375489234924, 0.10617092996835709\n"
     ]
    }
   ],
   "source": [
    "#Lists for results, one for the masked version and one for the whole image\n",
    "simple_dlops_m = []\n",
    "simple_dlops_w = []\n",
    "phase_angles = []\n",
    "\n",
    "#Because the .IMG calibrated images don't match 1:1 with the metadata, we have to do some fun things\n",
    "#Same loop as before but additional if for center coords and radius\n",
    "for filename in os.listdir(pol_images):\n",
    "    if filename.endswith('_Pol.vic'):\n",
    "    #if filename.endswith('_Theta.vic'):\n",
    "    #if filename.endswith('_Q.vic'):\n",
    "        pol_image_path = os.path.join(pol_images, filename)\n",
    "        #Since these images are in .IMG(or .VIC) format, simple line to read image from rms-vicar package\n",
    "        pol_vic = vicar.VicarImage(pol_image_path, strict=False)\n",
    "        read_pol_image = pol_vic.data_2d\n",
    "\n",
    "        #The coordinate images are also the _I_over_F.vic images just with that different ending\n",
    "        #Removing that ending they have the exact same naming structure\n",
    "        #Trying a replace, this works because _Pol.vic and _I_over_F.vic are both in the \"polarized images\" folder\n",
    "        #I just named them differently for convenience\n",
    "        if_image_path = pol_image_path.replace('_Pol.vic', '_I_over_F.vic')\n",
    "        if_vic = vicar.VicarImage(if_image_path, strict=False)\n",
    "        read_if_image = if_vic.data_2d\n",
    "\n",
    "\n",
    "        opus_id = filename.split('_')[0]\n",
    "        #Comparatively, in the brightness-phase curve we used metadata file from OPUS, but here i created my own\n",
    "        #So no need to add the prefix 'co-iss-' or change from upper to lowercase\n",
    "        parameter_row = parameters_df[parameters_df['OPUS ID'].str.contains(opus_id)]\n",
    "\n",
    "        #opus_id in circle_params becasue both I_over_F and pol images have same naming convention before the understore defined in circle params\n",
    "        if opus_id in circle_params:\n",
    "            center, eff_radius = circle_params[opus_id]\n",
    "\n",
    "            if not parameter_row.empty:\n",
    "                #Assocating the meta data with the image, pixel_scale and phase_angle\n",
    "                phase_angle = parameter_row['Observed Phase Angle (Min) [Titan] (degrees)'].values[0]\n",
    "\n",
    "                s_dlop_m, s_dlop_w = simple_dlop(read_pol_image, read_if_image, center, eff_radius)\n",
    "\n",
    "                #Creating array to plot\n",
    "                phase_angles.append(phase_angle)\n",
    "                simple_dlops_m.append(s_dlop_m)\n",
    "                simple_dlops_w.append(s_dlop_w)\n",
    "\n",
    "                #For manual inspection\n",
    "                print(f'{filename}: {s_dlop_m}, {s_dlop_w}')"
   ]
  },
  {
   "cell_type": "markdown",
   "metadata": {},
   "source": [
    "To see the relative error between using the whole image versus the masked image"
   ]
  },
  {
   "cell_type": "code",
   "execution_count": 8,
   "metadata": {},
   "outputs": [
    {
     "name": "stdout",
     "output_type": "stream",
     "text": [
      "Mean Q/I relative error: 0.006518408190459013\n"
     ]
    }
   ],
   "source": [
    "def difference_q(q_m, q_w):\n",
    "        #Since dealing witha arrays\n",
    "        q_m = np.asarray(q_m)\n",
    "        q_w = np.asarray(q_w)\n",
    "\n",
    "        #Calculating the difference in the Q and U value between the whole image and the masked image\n",
    "        diff_q = np.abs(q_m - q_w)\n",
    "\n",
    "        #So the relative difference\n",
    "        rel_diff_q = diff_q / np.abs(q_m)\n",
    "\n",
    "        return rel_diff_q\n",
    "\n",
    "simple_dlops_errors = difference_q(simple_dlops_m, simple_dlops_w)\n",
    "\n",
    "print(f\"Mean Q/I relative error: {np.mean(simple_dlops_errors)}\")"
   ]
  },
  {
   "cell_type": "markdown",
   "metadata": {},
   "source": [
    "As the error is much much less than 1%, I just choose to plot the masked image for now. Now, we have all the important information, an image (or data point) with a degree of a simplified $\\frac{Q}{I}$ (y) and a phase angle(x)."
   ]
  },
  {
   "cell_type": "code",
   "execution_count": 9,
   "metadata": {},
   "outputs": [
    {
     "data": {
      "image/png": "[encoded data removed]",
      "text/plain": [
       "<Figure size 1000x600 with 1 Axes>"
      ]
     },
     "metadata": {},
     "output_type": "display_data"
    }
   ],
   "source": [
    "plt.figure(figsize=(10, 6))\n",
    "plt.scatter(phase_angles, simple_dlops_m, color='b', marker='x')\n",
    "plt.xlabel('Phase Angle (degrees)')\n",
    "plt.ylabel('Q/I')\n",
    "plt.title('Polarization Phase Curve')\n",
    "plt.show()"
   ]
  },
  {
   "cell_type": "markdown",
   "metadata": {},
   "source": [
    "Having examined outliers(explained in procedure), as a final step for consistency, I use the preliminary plot to gauge an idea for the maximum value. Hence, with this last section, I manually adjust the y axis height and tick number(at least divisible by 5). X-axis remains consistant across all filters."
   ]
  },
  {
   "cell_type": "code",
   "execution_count": 10,
   "metadata": {},
   "outputs": [
    {
     "data": {
      "image/png": "[encoded data removed]",
      "text/plain": [
       "<Figure size 1000x600 with 1 Axes>"
      ]
     },
     "metadata": {},
     "output_type": "display_data"
    }
   ],
   "source": [
    "#Fancy plot for consistency across all plots but also visually will look better\n",
    "filtername = 'CL1_CB1'\n",
    "\n",
    "#Same as before\n",
    "plt.figure(figsize=(10, 6))\n",
    "plt.scatter(phase_angles, simple_dlops_m, color='b', marker='x', label=f'Filter={filtername}')\n",
    "plt.xlabel('Phase Angle (degrees)')\n",
    "plt.ylabel('Q/I')\n",
    "plt.title('Polarization Phase Curve')\n",
    "\n",
    "#x-ticks(phase angle) at every 10 ticks but a more pronounced tick at every 30 will be more pronounces\n",
    "ax = plt.gca()\n",
    "ax.set_xticks(range(0, 181, 30))\n",
    "ax.set_xticks(range(0, 181, 10), minor=True)\n",
    "ax.tick_params(axis='x', which='major', length=7, width=2, labelsize=12)\n",
    "ax.tick_params(axis='x', which='minor', length=4, width=1, labelsize=10)\n",
    "\n",
    "#Same for the y-axis\n",
    "#While the x-axis is phase so remains consistent\n",
    "ay = plt.gca()\n",
    "#Thicker ticks every 5\n",
    "ay.set_yticks([i * 0.1 for i in range(7)], minor=False)\n",
    "ay.set_yticks([i * 0.05 for i in range(60)], minor=True) \n",
    "plt.ylim(0, 0.60)\n",
    "\n",
    "ay.tick_params(axis='y', which='major', length=7, width=2, labelsize=12)\n",
    "ay.tick_params(axis='y', which='minor', length=4, width=1, labelsize=10)\n",
    "\n",
    "plt.legend()\n",
    "plt.show()"
   ]
  },
  {
   "cell_type": "markdown",
   "metadata": {},
   "source": [
    "Continuing with the assumption that U = 0, recall that we originally had the following equation:\n",
    "\n",
    "\\begin{equation}\n",
    "\\frac{Q}{I} = P = \\frac{\\sum_{j} \\frac{I_j}{F} P_j}{\\sum_{j }\\frac{I_j}{F}}.\n",
    "\\end{equation}\n",
    "\n",
    "Although I skipped pass this step, both the top and bottom have a factor that cancels out that looks like,\n",
    "\n",
    "\\begin{equation}\n",
    "\\frac {\\mathcal{S^2}_{\\text{pixel}}} {\\pi R_{\\text{target}}}.\n",
    "\\end{equation}\n",
    "\n",
    "Hence, to determine the Stokes component Q by itself, we normalize in the same way as we normalize reflectivity,\n",
    "\n",
    "\\begin{equation}\n",
    "Q = \\frac{ \\sum_{j} \\frac{I_j P_j}{F} \\mathcal{S^2}_{\\text{pixel}}} {\\pi {R^2}_{\\text{target}}}.\n",
    "\\end{equation}"
   ]
  },
  {
   "cell_type": "code",
   "execution_count": 11,
   "metadata": {},
   "outputs": [],
   "source": [
    "def simple_stokes_q(pol_image, if_image, center, radius, pixel_scale):\n",
    "\n",
    "    mask_pol = np.zeros_like(pol_image)\n",
    "    cv2.circle(mask_pol, center, radius, 1, thickness=-1)\n",
    "    pol_masked = pol_image * mask_pol\n",
    "\n",
    "    mask_if = np.zeros_like(if_image)\n",
    "    cv2.circle(mask_if, center, radius, 1, thickness=-1)\n",
    "    if_masked = if_image * mask_if\n",
    "\n",
    "    R = 2575 #km\n",
    "\n",
    "    weighted_mask = np.sum(if_masked * pol_masked)\n",
    "    masked = (weighted_mask * pixel_scale**2) / (np.pi * R**2)\n",
    "\n",
    "    weighted_whole = np.sum(if_image * pol_image)\n",
    "    whole = (weighted_whole * pixel_scale**2) / (np.pi * R**2)\n",
    "\n",
    "    return masked, whole"
   ]
  },
  {
   "cell_type": "code",
   "execution_count": 12,
   "metadata": {},
   "outputs": [
    {
     "name": "stdout",
     "output_type": "stream",
     "text": [
      "N1617164_Pol.vic: 0.03460253790940322, 0.035199193305113535\n",
      "N1617165_Pol.vic: 0.03440647835542218, 0.035028904152686294\n",
      "N1674325_Pol.vic: 0.04755057341238128, 0.04783953465710615\n",
      "N1675503_Pol.vic: 0.03343774477627886, 0.03365209383938289\n",
      "N1677312_Pol.vic: 0.04797992612661323, 0.048275259584083366\n",
      "N1677484_Pol.vic: 0.04878185500741839, 0.04902035548999304\n",
      "N1677856_Pol.vic: 0.047219461057082315, 0.04741267277086025\n",
      "N1678029_Pol.vic: 0.04557982080435185, 0.04580102149926767\n",
      "N1678201_Pol.vic: 0.04356543654761159, 0.04380846820331488\n",
      "N1678374_Pol.vic: 0.04632373832308342, 0.04662143604251109\n",
      "N1678546_Pol.vic: 0.04865731797660058, 0.04895432860696211\n",
      "N1680116_Pol.vic: 0.04763994836615141, 0.04790456260993638\n",
      "N1680806_Pol.vic: 0.04731509712683579, 0.047497916697654206\n",
      "N1682446_Pol.vic: 0.03508565418222518, 0.035402831413980755\n",
      "N1684255_Pol.vic: 0.04232363793250419, 0.042612642385432005\n",
      "N1684428_Pol.vic: 0.04491160228670194, 0.045172322850887146\n",
      "N1686496_Pol.vic: 0.04204346667934522, 0.042304725187425694\n",
      "N1687565_Pol.vic: 0.010959957030685658, 0.011999708666796834\n",
      "N1689079_Pol.vic: 0.03735094654978006, 0.037557306604511946\n",
      "N1689362_Pol.vic: 0.0233662528757347, 0.023689876799027367\n",
      "N1689632_Pol.vic: 0.034617943615727384, 0.034995620793782906\n",
      "N1690219_Pol.vic: 0.03916330744740695, 0.039332151602371974\n",
      "N1691406_Pol.vic: 0.038211956973690446, 0.03842395849330941\n",
      "N1691900_Pol.vic: 0.017932827050683692, 0.018232149586699272\n",
      "N1692244_Pol.vic: 0.03733948335753045, 0.037714032660509364\n",
      "N1692440_Pol.vic: 0.04857460351618813, 0.048875276930619195\n",
      "N1693538_Pol.vic: 0.027523336800945625, 0.02791708242621496\n",
      "N1694729_Pol.vic: 0.020050151002892577, 0.020245053747661595\n",
      "N1697647_Pol.vic: 0.024988639368559246, 0.025240366320549906\n"
     ]
    }
   ],
   "source": [
    "#We use the exact same files and images so nothing from the loop has to change other than the y variable which wil just calculate Q this time\n",
    "\n",
    "simple_qs_m = []\n",
    "simple_qs_w = []\n",
    "\n",
    "for filename in os.listdir(pol_images):\n",
    "    if filename.endswith('_Pol.vic'):\n",
    "        pol_image_path = os.path.join(pol_images, filename)\n",
    "        pol_vic = vicar.VicarImage(pol_image_path, strict=False)\n",
    "        read_pol_image = pol_vic.data_2d\n",
    "\n",
    "        if_image_path = pol_image_path.replace('_Pol.vic', '_I_over_F.vic')\n",
    "        if_vic = vicar.VicarImage(if_image_path, strict=False)\n",
    "        read_if_image = if_vic.data_2d\n",
    "\n",
    "        opus_id = filename.split('_')[0]\n",
    "        parameter_row = parameters_df[parameters_df['OPUS ID'].str.contains(opus_id)]\n",
    "\n",
    "        if opus_id in circle_params:\n",
    "            center, eff_radius = circle_params[opus_id]\n",
    "\n",
    "            if not parameter_row.empty:\n",
    "                #Only additions are simple_stokes_Q function for y axis change and adding pixel_scale\n",
    "                phase_angle = parameter_row['Observed Phase Angle (Min) [Titan] (degrees)'].values[0]\n",
    "                pixel_scale = parameter_row['Body Center Resolution (Min) [Titan] (km/pixel)'].values[0]\n",
    "\n",
    "                sq_m, sq_w = simple_stokes_q(read_pol_image, read_if_image, center, eff_radius, pixel_scale)\n",
    "\n",
    "                #Creating array to plot\n",
    "                simple_qs_m.append(sq_m)\n",
    "                simple_qs_w.append(sq_w)\n",
    "\n",
    "                #For manual inspection\n",
    "                print(f'{filename}: {sq_m}, {sq_w}')"
   ]
  },
  {
   "cell_type": "markdown",
   "metadata": {},
   "source": [
    "And again, to determine the relative error;"
   ]
  },
  {
   "cell_type": "code",
   "execution_count": 13,
   "metadata": {},
   "outputs": [
    {
     "name": "stdout",
     "output_type": "stream",
     "text": [
      "Mean Q relative error: 0.011215521558248558\n"
     ]
    }
   ],
   "source": [
    "simple_qs_errors = difference_q(simple_qs_m, simple_qs_w)\n",
    "\n",
    "print(f\"Mean Q relative error: {np.mean(simple_qs_errors)}\")"
   ]
  },
  {
   "cell_type": "markdown",
   "metadata": {},
   "source": [
    "Again, this error is around 1%, so for consistency, I'll just stick with using the masked image."
   ]
  },
  {
   "cell_type": "code",
   "execution_count": 14,
   "metadata": {},
   "outputs": [
    {
     "data": {
      "image/png": "[encoded data removed]",
      "text/plain": [
       "<Figure size 1000x600 with 1 Axes>"
      ]
     },
     "metadata": {},
     "output_type": "display_data"
    }
   ],
   "source": [
    "#And we plot again\n",
    "\n",
    "plt.figure(figsize=(10, 6))\n",
    "plt.scatter(phase_angles, simple_qs_m, color='b', marker='x')\n",
    "plt.xlabel('Phase Angle (degrees)')\n",
    "plt.ylabel('Q')\n",
    "plt.title('Polarization Phase Curve')\n",
    "plt.show()"
   ]
  },
  {
   "cell_type": "markdown",
   "metadata": {},
   "source": [
    "As a next step: ABOVE, we considered the case where U = 0, such that P = Q/I, but if there is both Q and U, we can determine and plot the Stokes parameters individually. So lets take it such that U is not 0, and what we would do in that case. By definition, the degree of linear poalrization is:\n",
    "\n",
    "\\begin{equation}\n",
    "P = \\frac{\\sqrt{Q^2 + U^2}}{I}.\n",
    "\\end{equation}\n",
    "\n",
    "The stokes parameters have the form:\n",
    "\n",
    "\\begin{equation}\n",
    "Q = IPcos(2\\theta)\n",
    "\\end{equation}\n",
    "\n",
    "\\begin{equation}\n",
    "U = IPsin(2\\theta)\n",
    "\\end{equation}\n",
    "\n",
    "Where, we calcualte Q and U per pixel and add up each pixel to get a value for the disk, and can be normalized in the same way as the previous Q and reflectivity equations\n",
    "\n",
    "\\begin{equation}\n",
    "Q = \\frac{ \\sum_{i} \\frac{I_i}{F} P_i cos(2\\theta_{i}) S_{pixel}^2 } {\\pi R_{Titan}^2}.\n",
    "\\end{equation}\n",
    "\n",
    "This defines Q and U before rotation, as is, with the camera Y axis as the axis with which the angle of polarization is determined by."
   ]
  },
  {
   "cell_type": "code",
   "execution_count": 15,
   "metadata": {},
   "outputs": [],
   "source": [
    "def pre_rot_q(pol_image, if_image, thet_image, center, radius, pixel_scale):\n",
    "    \n",
    "    mask_pol = np.zeros_like(pol_image)\n",
    "    cv2.circle(mask_pol, center, radius, 1, thickness=-1)\n",
    "    pol_masked = pol_image * mask_pol\n",
    "\n",
    "    mask_if = np.zeros_like(if_image)\n",
    "    cv2.circle(mask_if, center, radius, 1, thickness=-1)\n",
    "    if_masked = if_image * mask_if\n",
    "\n",
    "    mask_thet = np.zeros_like(thet_image)\n",
    "    cv2.circle(mask_thet, center, radius, 1, thickness=-1)\n",
    "    thet_masked = thet_image * mask_thet\n",
    "\n",
    "    R = 2575 #km\n",
    "\n",
    "    thet_rad_whole = np.deg2rad(thet_image)\n",
    "    weighted_whole = np.sum(if_image * pol_image * np.cos(2*thet_rad_whole))\n",
    "    whole = (weighted_whole * pixel_scale**2) / (np.pi * R**2)\n",
    "\n",
    "    thet_rad_mask = np.deg2rad(thet_masked)\n",
    "    weighted_mask = np.sum(if_masked * pol_masked * np.cos(2*thet_rad_mask))\n",
    "    masked = (weighted_mask * pixel_scale**2) / (np.pi * R**2)\n",
    "\n",
    "    return masked, whole\n",
    "\n",
    "\n",
    "def pre_rot_u(pol_image, if_image, thet_image, center, radius, pixel_scale):\n",
    "    \n",
    "    mask_pol = np.zeros_like(pol_image)\n",
    "    cv2.circle(mask_pol, center, radius, 1, thickness=-1)\n",
    "    pol_masked = pol_image * mask_pol\n",
    "\n",
    "    mask_if = np.zeros_like(if_image)\n",
    "    cv2.circle(mask_if, center, radius, 1, thickness=-1)\n",
    "    if_masked = if_image * mask_if\n",
    "\n",
    "    mask_thet = np.zeros_like(thet_image)\n",
    "    cv2.circle(mask_thet, center, radius, 1, thickness=-1)\n",
    "    thet_masked = thet_image * mask_thet\n",
    "\n",
    "    R = 2575 #km\n",
    "\n",
    "    thet_rad_whole = np.deg2rad(thet_image)\n",
    "    weighted_whole = np.sum(if_image * pol_image * np.sin(2*thet_rad_whole))\n",
    "    whole = (weighted_whole * pixel_scale**2) / (np.pi * R**2)\n",
    "\n",
    "    thet_rad_mask = np.deg2rad(thet_masked)\n",
    "    weighted_mask = np.sum(if_masked * pol_masked * np.sin(2*thet_rad_mask))\n",
    "    masked = (weighted_mask * pixel_scale**2) / (np.pi * R**2)\n",
    "\n",
    "    return masked, whole"
   ]
  },
  {
   "cell_type": "markdown",
   "metadata": {},
   "source": [
    "And we run the same look as a visual test because again, we use the same images, just changing the y axis and adding a theta section."
   ]
  },
  {
   "cell_type": "code",
   "execution_count": 16,
   "metadata": {},
   "outputs": [
    {
     "name": "stdout",
     "output_type": "stream",
     "text": [
      "N1617164_Pol.vic: 0.034451956202176406, 0.03498042550331456, 0.00027758134951239613,0.0002737017750211875\n",
      "N1617165_Pol.vic: 0.016985249225767343, 0.017176163689021834, 0.029584186842689566,0.03010660375319139\n",
      "N1674325_Pol.vic: -0.011801337112602053, -0.011869574245105425, -0.044458201335198115,-0.04456316084385549\n",
      "N1675503_Pol.vic: -0.009242265116615843, -0.009314868350583124, 0.0269507749297498,0.027024341334515353\n",
      "N1677312_Pol.vic: -0.04328836139299721, -0.043455575881444976, -0.014197499367065037,-0.014237150309112956\n",
      "N1677484_Pol.vic: -0.04428195733431228, -0.04442421321286948, 0.0156384479424003,0.015687494078139307\n",
      "N1677856_Pol.vic: -0.04496004062361729, -0.045114817351020846, -0.012349106758360245,-0.012393456955787904\n",
      "N1678029_Pol.vic: -0.0422789102953972, -0.04244293097332824, -0.013118643411960833,-0.013155869430614855\n",
      "N1678201_Pol.vic: -0.03129729049423107, -0.03141097101102456, 0.029126456275130067,0.029204608433457912\n",
      "N1678374_Pol.vic: -0.02148092802246082, -0.02157021456433767, 0.03951653113328889,0.039608734709070524\n",
      "N1678546_Pol.vic: -0.04528821060571161, -0.04541883183982688, -0.01267262951090314,-0.012679127190346537\n",
      "N1680116_Pol.vic: 0.046389560429982477, 0.04649085847360926, -0.0006814602654914789,-0.000673655388933408\n",
      "N1680806_Pol.vic: 0.04636393038669245, 0.046487606183076666, -2.2962463683417395e-05,-1.9885962763124273e-05\n",
      "N1682446_Pol.vic: -0.02853009778824576, -0.02863458006143779, -0.014279125408269134,-0.014294563593781286\n",
      "N1684255_Pol.vic: -0.03624956910656444, -0.03639079149380491, -0.015234864509746236,-0.015276177315221863\n",
      "N1684428_Pol.vic: -0.04048730566807137, -0.0406325226987456, -0.015775695695890855,-0.01581442879580406\n",
      "N1686496_Pol.vic: -0.018004450376870575, -0.018099353702504244, -0.03621661936253103,-0.036300551450871084\n",
      "N1687565_Pol.vic: 0.0005159207268739247, -6.555287326130506e-05, 0.003113402975597148,0.0032370789438831765\n",
      "N1689079_Pol.vic: -0.030374911584437954, -0.03050167323456243, 0.0190025347475825,0.019073306526302885\n",
      "N1689362_Pol.vic: 0.0021689243340771453, 0.002141228519966492, 0.005745038715881582,0.00576277137383276\n",
      "N1689632_Pol.vic: -0.02663535067440765, -0.02674676089463384, -0.015696137288026844,-0.015733549415150823\n",
      "N1690219_Pol.vic: -0.03448225722615325, -0.03451121772722559, -0.01624993827520478,-0.01611970919261479\n",
      "N1691406_Pol.vic: -0.0337785030792965, -0.03378131698168908, -0.015433444501191855,-0.015251883221919874\n",
      "N1691900_Pol.vic: -0.005164033571136637, -0.005240516105601982, -0.00821012722260102,-0.00820061456874934\n",
      "N1692244_Pol.vic: -0.030107623248449254, -0.03022564126757416, -0.016296379133422814,-0.016328625073869257\n",
      "N1692440_Pol.vic: -0.04229829931283448, -0.04244673659504938, -0.017844106444695074,-0.017896624751224142\n",
      "N1693538_Pol.vic: 0.013383410128045043, 0.013385288043541417, 0.011911469286253978,0.011944844329198841\n",
      "N1694729_Pol.vic: 0.0050242587829220095, 0.004998491737353409, 0.011819214291013791,0.011872344637880245\n",
      "N1697647_Pol.vic: -0.008471205636468752, -0.008577717221182852, -0.021324604107460524,-0.021460022533095407\n"
     ]
    }
   ],
   "source": [
    "#We use the exact same files and images so nothing from the loop has to change other than the y variable which wil just calculate Q this time\n",
    "\n",
    "pre_rot_qs_w = []\n",
    "pre_rot_us_w = []\n",
    "pre_rot_qs_m = []\n",
    "pre_rot_us_m = []\n",
    "\n",
    "for filename in os.listdir(pol_images):\n",
    "    if filename.endswith('_Pol.vic'):\n",
    "        pol_image_path = os.path.join(pol_images, filename)\n",
    "        pol_vic = vicar.VicarImage(pol_image_path, strict=False)\n",
    "        read_pol_image = pol_vic.data_2d\n",
    "\n",
    "        if_image_path = pol_image_path.replace('_Pol.vic', '_I_over_F.vic')\n",
    "        if_vic = vicar.VicarImage(if_image_path, strict=False)\n",
    "        read_if_image = if_vic.data_2d\n",
    "\n",
    "        thet_image_path = pol_image_path.replace('_Pol.vic', '_Theta.vic')\n",
    "        thet_vic = vicar.VicarImage(thet_image_path, strict=False)\n",
    "        read_thet_image = thet_vic.data_2d\n",
    "\n",
    "        opus_id = filename.split('_')[0]\n",
    "        parameter_row = parameters_df[parameters_df['OPUS ID'].str.contains(opus_id)]\n",
    "\n",
    "        if opus_id in circle_params:\n",
    "            center, eff_radius = circle_params[opus_id]\n",
    "\n",
    "            if not parameter_row.empty:\n",
    "                #Only additions are simple_stokes_Q function for y axis change and adding pixel_scale\n",
    "                phase_angle = parameter_row['Observed Phase Angle (Min) [Titan] (degrees)'].values[0]\n",
    "                pixel_scale = parameter_row['Body Center Resolution (Min) [Titan] (km/pixel)'].values[0]\n",
    "\n",
    "                prq_m, prq_w = pre_rot_q(read_pol_image, read_if_image, read_thet_image, center, eff_radius, pixel_scale)\n",
    "                pru_m, pru_w = pre_rot_u(read_pol_image, read_if_image, read_thet_image, center, eff_radius, pixel_scale)\n",
    "\n",
    "                #Creating array to plot\n",
    "                pre_rot_qs_m.append(prq_m)\n",
    "                pre_rot_qs_w.append(prq_w)\n",
    "                pre_rot_us_m.append(pru_m)\n",
    "                pre_rot_us_w.append(pru_w)\n",
    "\n",
    "                #For manual inspection\n",
    "                print(f'{filename}: {prq_m}, {prq_w}, {pru_m},{pru_w}')"
   ]
  },
  {
   "cell_type": "markdown",
   "metadata": {},
   "source": [
    "For a quick error analysis between using the whole image versus using the disk of Titan; The relative difference, while written for Q, can be applied to U the same."
   ]
  },
  {
   "cell_type": "code",
   "execution_count": 17,
   "metadata": {},
   "outputs": [
    {
     "name": "stdout",
     "output_type": "stream",
     "text": [
      "Mean Q relative error: 0.043991205965574626\n",
      "Mean U relative error: 0.010242610724189983\n"
     ]
    }
   ],
   "source": [
    "prq_errors = difference_q(pre_rot_qs_m, pre_rot_qs_w)\n",
    "pru_errors = difference_q(pre_rot_us_m, pre_rot_us_w)\n",
    "\n",
    "print(f\"Mean Q relative error: {np.mean(prq_errors)}\")\n",
    "print(f\"Mean U relative error: {np.mean(pru_errors)}\")"
   ]
  },
  {
   "cell_type": "markdown",
   "metadata": {},
   "source": [
    "Less than 5% across both Q and U components of the Stokes vectora means that using either the whole image or the masked image is negligible, buyt for consistency, I plot the masked version."
   ]
  },
  {
   "cell_type": "code",
   "execution_count": 18,
   "metadata": {},
   "outputs": [
    {
     "data": {
      "image/png": "[encoded data removed]",
      "text/plain": [
       "<Figure size 1000x600 with 1 Axes>"
      ]
     },
     "metadata": {},
     "output_type": "display_data"
    }
   ],
   "source": [
    "#For sanity we plot; looks pretty much exaclty the same whether or not we do the whole image os masked image\n",
    "\n",
    "plt.figure(figsize=(10, 6))\n",
    "plt.scatter(phase_angles, pre_rot_qs_m, color='b', marker='x')\n",
    "plt.scatter(phase_angles, pre_rot_us_m, color='r', marker='x')\n",
    "plt.xlabel('Phase Angle (degrees)')\n",
    "plt.ylabel('Q')\n",
    "plt.title('Polarization Phase Curve')\n",
    "plt.show()"
   ]
  },
  {
   "cell_type": "markdown",
   "metadata": {},
   "source": [
    "With the specific values of Q and U depending on the choice of the reference system. We introduce a new reference frame where Q_cam and U_cam are the stokes parameters before projection, such that we can find the new components after rotation as:\n",
    "\n",
    "\\begin{equation}\n",
    "\n",
    "\\begin{bmatrix} \n",
    "I \\\\ Q \\\\ U \n",
    "\\end{bmatrix}\n",
    "=\n",
    "\\begin{bmatrix}\n",
    "1 & 0 & 0 \\\\\n",
    "0 & \\cos(2\\theta') & \\sin(2\\theta') \\\\\n",
    "0 & -\\sin(2\\theta') & \\cos(2\\theta')\n",
    "\\end{bmatrix}\n",
    "\n",
    "\\begin{bmatrix} \n",
    "I_{\\text{0}} \\\\ Q_{\\text{0}} \\\\ U_{\\text{0}} \n",
    "\\end{bmatrix}\n",
    "\\end{equation}\n",
    "\n",
    "Which gives us the following equations, where theta is the polarization(or projection) angle:\n",
    "\n",
    "\\begin{equation}\n",
    "Q = Q_{0}cos(2\\theta') + U_{0}sin(2\\theta')\n",
    "\\end{equation}\n",
    "\n",
    "\\begin{equation}\n",
    "U = -Q_{0}sin(2\\theta') + U_{0}cos(2\\theta')\n",
    "\\end{equation}\n",
    "\n",
    "Here, Q_0 and U_0 are just the Stokes parameters given before rotation - hence the pre roated Q and U in the section above.\n",
    "\n",
    "\n",
    "The Q/I that is gotten is, again, with respect to the camera axes, but we want thre Q/I with respect to the sun direction. To do that rotation, we need to know the angle that the camera Y axis makes with the direction to the sun as projected onto the image plane, and we can do that once we have the SUN_IMAGE_AZIMUTH from the imaging PDS node; I create a specific folder with that although on query it tends to be the same angle across filters.\n",
    "\n",
    "A special case to ensure this works is a case where we consider U = 0, like above. This would mean that the electric field vector of polarized lights coming from Titan hs to be either parallel or perpendicular to the camera's Y-axis; this is done by setting the scattering plane to be perpendicular to the camera y-axis. If U = 0, then we can calculate the projection angle,\n",
    "\n",
    "\\begin{equation}\n",
    "0 = -Q_{0}sin(2\\theta') + U_{0}cos(2\\theta')\n",
    "\\end{equation}\n",
    "\n",
    "\\begin{equation}\n",
    "tan(2\\theta') = \\frac{U_{0}}{Q_{0}}\n",
    "\\end{equation}\n",
    "\n",
    "\\begin{equation}\n",
    "\\theta' = \\frac{1}{2} arctan\\frac{U_{0}}{Q_{0}}\n",
    "\\end{equation}\n",
    "\n",
    "We've already built the functions to calculate Q_0 and U_0 in the original reference frame above, so now we just need to setup calculation for Q and $\\theta$'."
   ]
  },
  {
   "cell_type": "markdown",
   "metadata": {},
   "source": [
    "So now we have Q and U in the sun frame, which is what we want, and then Q/I and U/I."
   ]
  },
  {
   "cell_type": "code",
   "execution_count": 60,
   "metadata": {},
   "outputs": [],
   "source": [
    "def rotate_scat_plane(q_o, u_o, rot_angle):\n",
    "    #this will be the sun_image_azimuth\n",
    "    #thet_prime = np.deg2rad(rot_angle)\n",
    "\n",
    "    #testing roations by +- 90 and negative; rotations by 180 is exaclty the same by 2theta\n",
    "    #thet_prime = np.deg2rad(rot_angle + 90) \n",
    "    #thet_prime = np.deg2rad(rot_angle - 90)\n",
    "    thet_prime = np.deg2rad(-rot_angle)\n",
    "\n",
    "    q_scat = q_o * np.cos(2 * thet_prime) + u_o * np.sin(2 * thet_prime)\n",
    "    u_scat = -q_o * np.sin(2 * thet_prime) + u_o * np.cos(2 * thet_prime)\n",
    "\n",
    "    #Special case where we rotate to U = 0\n",
    "    thet_special = 0.5 * np.arctan2(u_o, q_o)\n",
    "    q_spec = q_o * np.cos(2 * thet_special) + u_o * np.sin(2 * thet_special)\n",
    "    \n",
    "    return q_scat, u_scat, q_spec\n",
    "\n",
    "#From the brightness phase curves, for total intensity; but since we are only doing the mask\n",
    "\n",
    "def reflectivity(if_image, center, radius, pixel_scale):\n",
    "    R = 2575 #km\n",
    "    #Total number of pixels\n",
    "    #n_pixel = np.pi * R**2 / pixel_scale**2\n",
    "\n",
    "    mask_if = np.zeros_like(if_image)\n",
    "    cv2.circle(mask_if, center, radius, 1, thickness=-1)\n",
    "    if_masked = if_image * mask_if\n",
    "    \n",
    "    total_if = np.sum(if_masked)\n",
    "\n",
    "    return (total_if * pixel_scale**2) / (np.pi * R**2)\n",
    "\n",
    "def rotate_scat_over_i(q_scat, u_scat, q_spec, total_i):\n",
    "    #q and u scat will be calculated with rotate scatter plane function\n",
    "    #total i will be calculated with reflectivity\n",
    "    #notable the normalization factors cancel out but don't want to rewrite everything\n",
    "\n",
    "    q_over_i = q_scat / total_i\n",
    "    u_over_i = u_scat / total_i\n",
    "    q_over_i_spec = q_spec / total_i\n",
    "\n",
    "    return q_over_i, u_over_i, q_over_i_spec"
   ]
  },
  {
   "cell_type": "markdown",
   "metadata": {},
   "source": [
    "AND since we saw that the error between the whole and the masked images was les then 5% I am going to use just the masked version.\n",
    "\n",
    "A few notes: In theory, the sun_image_azimuth should be equal to theta prime, theta_prime is the angle between the camera Y-axis and the projected direction to the sun on the image plane. This is exactly what SUN_IMAGE_AZIMUTH is intended to provide, but according to Bob West:\n",
    "- The azimuth might be measured clockwise or counterclockwise\n",
    "\n",
    "After some testing, taking the sun_image_azimuth as is does not produce and expected result; taking the negative of the sun_image_azimuth gives a pretty decent result - mirrors the U=0 result which cannot be a coincidence, so this measn we measure the angle CLOCKWISE; but it is also all negative Q values."
   ]
  },
  {
   "cell_type": "markdown",
   "metadata": {},
   "source": [
    "For now, I assume that clockwise is the correct orientation(will confirm). Upon reading some of the literature, if Q > 0, then polarization is parallel to the reference axis, and Q < 0 means it's perpendicular. But the direction of the reference axis is defined by the rotation angle, so if I'm off by 180 degrees, the physics is identical, it jsut flips the sign.\n",
    "\n",
    "If you're off by 180°, the physics is identical, but Q flips sign. To handle this, I will flip the orientation, because I don't expect it to change the physics, we jst have to redefine what direction we will call positive Q."
   ]
  },
  {
   "cell_type": "code",
   "execution_count": 64,
   "metadata": {},
   "outputs": [
    {
     "name": "stdout",
     "output_type": "stream",
     "text": [
      "N1617164_Pol.vic: -0.03445096235341314, -0.00038148458158722854, 0.03445307442830434, -0.3415129399579207, -0.0037816627492138644, 0.34153387699004495\n",
      "N1617165_Pol.vic: -0.03411285464657059, -0.00018960555515073856, 0.0341133815738721, -0.34029353552292596, -0.0018914144062557483, 0.3402987918978689\n",
      "N1674325_Pol.vic: -0.04593413992535192, 0.002420333225917516, 0.04599786107642712, -0.3377031477702921, 0.017794044916780022, 0.3381716192238256\n",
      "N1675503_Pol.vic: -0.028488742689471498, -0.00039404793227299124, 0.02849146773684789, -0.12986223200242342, -0.001796216300546738, 0.1298746537768228\n",
      "N1677312_Pol.vic: -0.045554570630865765, -0.00048199067004037026, 0.04555712041348249, -0.3044950246647798, -0.0032217131877145962, 0.3045120678749345\n",
      "N1677484_Pol.vic: -0.046937050540675214, -0.0015382086812648337, 0.0469622486621437, -0.3884549686241353, -0.012730344112702482, 0.3886635103917086\n",
      "N1677856_Pol.vic: -0.04660957786000239, 0.001205380570222802, 0.04662516156118599, -0.38211876868774525, 0.009882057732364233, 0.38224652836679157\n",
      "N1678029_Pol.vic: -0.04425857979329348, 0.0008849719866195482, 0.04426742663332066, -0.2826002241383196, 0.005650729936271363, 0.28265671304931206\n",
      "N1678201_Pol.vic: -0.042753594528135166, 3.1659929894973377e-05, 0.0427536062505533, -0.25668289726505056, 0.00019007904767638306, 0.2566829676437937\n",
      "N1678374_Pol.vic: -0.04497619643914766, -0.0003581276050986862, 0.04497762223055296, -0.2973399591926404, -0.0023676001066447534, 0.2973493851733109\n",
      "N1678546_Pol.vic: -0.04701208135758073, 0.0012172777070628658, 0.04702783812368906, -0.3725601167110215, 0.009646650637813918, 0.372684985520289\n",
      "N1680116_Pol.vic: -0.04639147611280895, 0.0005353961665121902, 0.046394565468171375, -0.3501820600019436, 0.004041391829190284, 0.3502053797346949\n",
      "N1680806_Pol.vic: -0.04636066527289366, 0.0005507119315153769, 0.04636393607295224, -0.3291159730695099, 0.003909523130325859, 0.3291391925927341\n",
      "N1682446_Pol.vic: -0.03188938027403695, -0.0009629786964445042, 0.03190391672243304, -0.15462812384195054, -0.004669378578429517, 0.1546986094933962\n",
      "N1684255_Pol.vic: -0.039320889475315285, 2.8128199879053073e-06, 0.03932088957592283, -0.210124307346365, 1.5031243177234214e-05, 0.21012430788399503\n",
      "N1684428_Pol.vic: -0.043451989739217496, -0.00013813997296689, 0.04345220932184223, -0.2589104204539094, -0.0008231125593327836, 0.2589117288457698\n",
      "N1686496_Pol.vic: -0.04043258964143033, 0.0010047120539502796, 0.040445070792664614, -0.2281429203892657, 0.005669138290950328, 0.22821334591277687\n",
      "N1687565_Pol.vic: -0.0031381720847799164, -0.0003336588844664127, 0.0031558599913296685, -0.011262042199162145, -0.0011974105738849679, 0.011325519263069593\n",
      "N1689079_Pol.vic: -0.03582247764617272, -0.000694028734966351, 0.035829200111019824, -0.1871605957905876, -0.0036260705586892332, 0.18719571844565333\n",
      "N1689362_Pol.vic: -0.006101044332938579, 0.0006978256669457896, 0.006140822633322858, -0.021458859944266863, 0.002454422953732545, 0.02159876992199949\n",
      "N1689632_Pol.vic: -0.03090044118534451, -0.000986593059127917, 0.030916187205301607, -0.14505083148288464, -0.0046312006583782905, 0.1451247454206703\n",
      "N1690219_Pol.vic: -0.03811821553824107, -0.00029698743872499066, 0.038119372468058334, -0.21138385379593333, -0.00164693830600993, 0.21139026952867138\n",
      "N1691406_Pol.vic: -0.03712770003912951, 0.000844019699909021, 0.03713729230099325, -0.19785297871918436, 0.00449776882351119, 0.1979040957444888\n",
      "N1691900_Pol.vic: -0.009699108680268013, -2.6880168716584066e-05, 0.009699145928127928, -0.035950216809412565, -9.963264925577505e-05, 0.03595035487041216\n",
      "N1692244_Pol.vic: -0.03423468816486165, -0.00016455025220913147, 0.03423508362091176, -0.16937059947943525, -0.0008140858396881353, 0.16937255593447736\n",
      "N1692440_Pol.vic: -0.04590572367706686, -0.00047200980130207223, 0.04590815025208206, -0.3173034252779532, -0.003262563243126356, 0.31732019792638005\n",
      "N1693538_Pol.vic: -0.017909327192069585, 0.0005047442324855912, 0.01791643846340088, -0.07056949823461026, 0.001988882487952663, 0.07059751932352541\n",
      "N1694729_Pol.vic: -0.01284066464385163, 0.0002330971445820111, 0.01284278018089049, -0.048472505795282846, 0.0008799235090237726, 0.0484804917823186\n",
      "N1697647_Pol.vic: -0.022937804423702562, -0.0005976566700316398, 0.022945589233559948, -0.09703775640355522, -0.002528370252366499, 0.09707068982946797\n"
     ]
    }
   ],
   "source": [
    "scat_qs = []\n",
    "scat_us = []\n",
    "spec_qs = []\n",
    "\n",
    "scat_qis = []\n",
    "scat_uis = []\n",
    "spec_qis = []\n",
    "\n",
    "for filename in os.listdir(pol_images):\n",
    "    if filename.endswith('_Pol.vic'):\n",
    "        pol_image_path = os.path.join(pol_images, filename)\n",
    "        pol_vic = vicar.VicarImage(pol_image_path, strict=False)\n",
    "        read_pol_image = pol_vic.data_2d\n",
    "\n",
    "        if_image_path = pol_image_path.replace('_Pol.vic', '_I_over_F.vic')\n",
    "        if_vic = vicar.VicarImage(if_image_path, strict=False)\n",
    "        read_if_image = if_vic.data_2d\n",
    "\n",
    "        thet_image_path = pol_image_path.replace('_Pol.vic', '_Theta.vic')\n",
    "        thet_vic = vicar.VicarImage(thet_image_path, strict=False)\n",
    "        read_thet_image = thet_vic.data_2d\n",
    "\n",
    "        opus_id = filename.split('_')[0]\n",
    "        parameter_row = parameters_df[parameters_df['OPUS ID'].str.contains(opus_id)]\n",
    "\n",
    "        if opus_id in circle_params:\n",
    "            center, eff_radius = circle_params[opus_id]\n",
    "\n",
    "            if not parameter_row.empty:\n",
    "                #Only additions are simple_stokes_Q function for y axis change and adding pixel_scale\n",
    "                phase_angle = parameter_row['Observed Phase Angle (Min) [Titan] (degrees)'].values[0]\n",
    "                pixel_scale = parameter_row['Body Center Resolution (Min) [Titan] (km/pixel)'].values[0]\n",
    "                sun_image_azimuth = parameter_row['SUN_IMAGE_AZIMUTH'].values[0]\n",
    "                \n",
    "                prq_m, prq_w = pre_rot_q(read_pol_image, read_if_image, read_thet_image, center, eff_radius, pixel_scale)\n",
    "                pru_m, pru_w = pre_rot_u(read_pol_image, read_if_image, read_thet_image, center, eff_radius, pixel_scale)\n",
    "\n",
    "                #sun_image_azimuth as the rotation angle, and converted to radians within the function\n",
    "\n",
    "                scat_q, scat_u, spec_q = rotate_scat_plane(prq_m, pru_m, sun_image_azimuth)\n",
    "                calc_refl = reflectivity(read_if_image, center, eff_radius, pixel_scale)\n",
    "                scat_qi, scat_ui, spec_qi = rotate_scat_over_i(scat_q, scat_u, spec_q, calc_refl)\n",
    "\n",
    "                #Creating array to plot\n",
    "                scat_qs.append(-scat_q)\n",
    "                scat_us.append(scat_u)\n",
    "                spec_qs.append(spec_q)\n",
    "\n",
    "                scat_qis.append(-scat_qi)\n",
    "                scat_uis.append(scat_ui)\n",
    "                spec_qis.append(spec_qi)\n",
    "\n",
    "                #For manual inspection\n",
    "                print(f'{filename}: {scat_q}, {scat_u}, {spec_q}, {scat_qi}, {scat_ui}, {spec_qi}')"
   ]
  },
  {
   "cell_type": "markdown",
   "metadata": {},
   "source": [
    "Final plotting"
   ]
  },
  {
   "cell_type": "code",
   "execution_count": 65,
   "metadata": {},
   "outputs": [
    {
     "data": {
      "image/png": "[encoded data removed]",
      "text/plain": [
       "<Figure size 1000x600 with 1 Axes>"
      ]
     },
     "metadata": {},
     "output_type": "display_data"
    }
   ],
   "source": [
    "plt.figure(figsize=(10, 6))\n",
    "plt.scatter(phase_angles, scat_qs, color='b', marker='x')\n",
    "plt.scatter(phase_angles, scat_us, color='r', marker='x')\n",
    "plt.scatter(phase_angles, spec_qs, color='g', marker='x')\n",
    "plt.xlabel('Phase Angle (degrees)')\n",
    "plt.ylabel('Q')\n",
    "plt.title('Polarization Phase Curve')\n",
    "plt.show()"
   ]
  },
  {
   "cell_type": "code",
   "execution_count": 66,
   "metadata": {},
   "outputs": [
    {
     "data": {
      "image/png": "[encoded data removed]",
      "text/plain": [
       "<Figure size 1000x600 with 1 Axes>"
      ]
     },
     "metadata": {},
     "output_type": "display_data"
    }
   ],
   "source": [
    "plt.figure(figsize=(10, 6))\n",
    "plt.scatter(phase_angles, scat_qis, color='b', marker='x')\n",
    "plt.scatter(phase_angles, scat_uis, color='r', marker='x')\n",
    "plt.scatter(phase_angles, spec_qis, color='g', marker='x')\n",
    "plt.xlabel('Phase Angle (degrees)')\n",
    "plt.ylabel('Q/I')\n",
    "plt.title('Polarization Phase Curve')\n",
    "plt.show()"
   ]
  }
 ],
 "metadata": {
  "kernelspec": {
   "display_name": "Python 3",
   "language": "python",
   "name": "python3"
  },
  "language_info": {
   "codemirror_mode": {
    "name": "ipython",
    "version": 3
   },
   "file_extension": ".py",
   "mimetype": "text/x-python",
   "name": "python",
   "nbconvert_exporter": "python",
   "pygments_lexer": "ipython3",
   "version": "3.11.9"
  }
 },
 "nbformat": 4,
 "nbformat_minor": 2
}
