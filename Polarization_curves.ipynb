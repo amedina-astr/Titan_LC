{
 "cells": [
  {
   "cell_type": "markdown",
   "metadata": {},
   "source": [
    "Project: Titan Lightcurve - Polarization-phase curve"
   ]
  },
  {
   "cell_type": "markdown",
   "metadata": {},
   "source": [
    "Author: Alex Medina"
   ]
  },
  {
   "cell_type": "markdown",
   "metadata": {},
   "source": [
    "Organization: University of Central Florida"
   ]
  },
  {
   "cell_type": "code",
   "execution_count": 1,
   "metadata": {},
   "outputs": [],
   "source": [
    "#General imports\n",
    "import numpy as np\n",
    "import matplotlib.pyplot as plt\n",
    "import pandas as pd\n",
    "import os\n",
    "\n",
    "#Most important import, in order to read and manipulate image in .IMG or VICAR format\n",
    "#The python package is called \"rms-vicar\"\n",
    "import vicar\n",
    "#The second most important package to use is called \"opencv\"\n",
    "#Used to manipulate general images\n",
    "#Not used in the brightness phase curves but to keep it consistent with the polarization phase curves\n",
    "import cv2"
   ]
  },
  {
   "cell_type": "markdown",
   "metadata": {},
   "source": [
    "Here, we input the path where the calibrated AND poalrized images are located. Of course, this is unique to my setup and the data that I have."
   ]
  },
  {
   "cell_type": "code",
   "execution_count": 2,
   "metadata": {},
   "outputs": [],
   "source": [
    "pol_images = r'C:\\Users\\Alex\\Desktop\\Titan\\Polarized Images\\GRN_P\\GRN_POL'\n",
    "\n",
    "#Have the same path\n",
    "if_images = r'C:\\Users\\Alex\\Desktop\\Titan\\Polarized Images\\GRN_P\\GRN_POL'\n",
    "\n",
    "pol_if_metadata = r'C:\\Users\\Alex\\Desktop\\Titan\\Polarized Images\\GRN_P\\GRN_POL\\pol_data_new.csv'\n",
    "#Reading the csv file\n",
    "parameters_df = pd.read_csv(pol_if_metadata)"
   ]
  },
  {
   "cell_type": "markdown",
   "metadata": {},
   "source": [
    "Polarized images are created using the make_polar_virtual_machine.sav IDLVM script; with polarization being calculated by taking ratios in the iamges using different polarizers. However, this process has no knowledge of which pixels are on Titan and which pixels are not, so the entire image has polarization values. The values away from Titan are a combination of light spread beyond the limb from the point spread function, and noise in the CCD and possibly also some stray light if the camera is pointing close to Saturn or the Sun. So, to interpret the polarization image I needed to restrict my analysis to the disk of Titan, including pixels beyond the terminator since Titan’s extended atmosphere is lit by the sun over a large region beyond the geometric terminator. For the same reason, values in the theta image(for angle of linear polarization) should be ignored if they are not on the target."
   ]
  },
  {
   "cell_type": "markdown",
   "metadata": {},
   "source": [
    "For the $\\frac{I}{F}$ images this was not critical since the intensity drops to near zero sufficiently far from the target, and you want to include intensity beyond the limb. To only consider pixels within the disk of Titan in the image, I used the python package, opencv. First, I create a copy of the image, to not mess with original strucure of the .IMG of .VIC images, and detect the disk or circle of Titan; after it is detected, the output is a pair of coordinates for the center of the disk. To define an effective radius for the disk of Titan, I just plot the total brightness of a circle centered on Titan for incresing radius and plot it: when the plot begins to plateau, pixels beyond this plateau are no relevant."
   ]
  },
  {
   "cell_type": "code",
   "execution_count": 3,
   "metadata": {},
   "outputs": [],
   "source": [
    "def image_center(image):\n",
    "    #Creating a copy of the image to avoid messing with the original\n",
    "\n",
    "    image_copy = image.copy()\n",
    "    gray_image = cv2.normalize(image_copy, None, 0, 255, cv2.NORM_MINMAX, cv2.CV_8U)\n",
    "    #Detect circle; I leave these parameters as is but they can be adjust to make circle detection more or less negative\n",
    "    #I found that this is the best combination of parameters\n",
    "    detected_circles = cv2.HoughCircles(gray_image, cv2.HOUGH_GRADIENT, dp=1.2, minDist=100, param1=50, param2=30, minRadius=30, maxRadius=500)\n",
    "\n",
    "    #If a circle is detected this will draw a circle and return center coordinates (x, y) with a radius a\n",
    "    #But the radius is too rough, we determine it more accurately later, and we actually dont need to draw the circle\n",
    "    if detected_circles is not None:\n",
    "        detected_circles = np.round(detected_circles[0, :]).astype(\"int\")\n",
    "        for (x, y, r) in detected_circles:\n",
    "            #Draw a cirlce of radius 1 around center to show center\n",
    "            #cv2.circle(image_copy, (x, y), r, (0, 255, 0), 2)\n",
    "            #Draw a circle of radius r around center to show radius\n",
    "            #cv2.circle(image_copy, (x, y), 1, (0, 0, 255), 3)\n",
    "            #Show the image\n",
    "            #cv2.imshow(image_copy)\n",
    "            #print({x}, {y})\n",
    "            return (x, y)\n",
    "    #Debug\n",
    "    else:\n",
    "        print(\"No circle found\")\n",
    "        return None\n",
    "\n",
    "#To determine the effective radius, as mentioned, I plot the brightness against increasing radius\n",
    "def radii_fluxes_from_image(image, center):\n",
    "    x, y = center\n",
    "    image_copy = image.copy()\n",
    "    gray_image = cv2.normalize(image_copy, None, 0, 255, cv2.NORM_MINMAX, cv2.CV_8U)\n",
    "\n",
    "    #Each image is mach 1024 pixels wide, so set the maximum to 1000 to be safe\n",
    "    radii = range(1, 1000, 5)\n",
    "    flux = []\n",
    "\n",
    "    for r in radii:\n",
    "        mask = np.zeros_like(gray_image)\n",
    "        cv2.circle(mask, (x, y), r, (255, 255, 255), -1)\n",
    "\n",
    "        #Applying mask to the image\n",
    "        #Masking is one of the most important features that I take advantage of with opencv\n",
    "        #This makes it so the circle of Titan is the ONLY part of the image that is showing and the rest is turned to either 0 or 1\n",
    "        masked = cv2.bitwise_and(gray_image, gray_image, mask=mask)\n",
    "        flux.append(np.sum(masked))\n",
    "    return radii, flux\n",
    "\n",
    "#Manual inspection and testing\n",
    "def radii_fluxes_plot(radii, flux):\n",
    "    plt.plot(radii, flux)\n",
    "    plt.xlabel(\"Radius\")\n",
    "    plt.ylabel(\"Flux\")\n",
    "    plt.title(\"Flux vs. Radius\")\n",
    "    plt.show()\n",
    "\n",
    "#To determine the effective radius, I originally used a gradient\n",
    "#When the slope approaches 0, then that is a good point\n",
    "#It works because Titan is really close to the Earth and the images have a lot of pixels\n",
    "#But, in general, we don't have the luxury of so many pixels so just getting in the practice that this plateau point is determined when the difference between the current and previous pixel is...\n",
    "#...much much less than the previous pixel\n",
    "def effective_radius(radii, flux):\n",
    "    for i in range(1, len(flux)):\n",
    "        if flux[i] - flux[i-1] < 0.01 * flux[i-1]:\n",
    "            return radii[i]\n",
    "    #If no plateau is detected can return last radius\n",
    "    #return radii[-1]\n",
    "\n",
    "    #Debugging\n",
    "    print(\"No plateau found\")\n",
    "    return None"
   ]
  },
  {
   "cell_type": "markdown",
   "metadata": {},
   "source": [
    "Unlike brightness images where pixel units are in $\\frac{I}{F}$, degree of linear polarization is unitless. To go from the intensity, polarization, and theta images to disk-integrated Q/I or polarization, I do a proper sum which takes into account how much each pixel contributes to the total. To give a little bit of background and starting with small assumptions; using Stokes vector, we define the degree of linear polarization(no circular polarization) as:\n",
    "\n",
    "\\begin{equation}\n",
    "P = \\frac{\\sqrt{Q^2 + U^2}}{I}.\n",
    "\\end{equation}\n",
    "\n",
    "Since each pixel has a calculated version of P, Q, and U, a more accurate representation is per pixel:\n",
    "\n",
    "\\begin{equation}\n",
    "P_i = \\frac{\\sqrt{(Q_i)^2 + (U_i)^2}}{I_i}.\n",
    "\\end{equation}\n",
    "\n",
    "So we can find the total degree of linear polarization by summing all pixels on Titan. In a simplified case, let's assume that there is no U, and there is only a Q component, when we can say:\n",
    "\n",
    "\\begin{equation}\n",
    "P_i = \\frac{Q_i}{I_i}.\n",
    "\\end{equation}\n",
    "\n",
    "Which can be reworked as a weighted sum for total linear polarization or $\\frac{Q}{I}$ as:\n",
    "\n",
    "\\begin{equation}\n",
    "\\frac{Q}{I} = P = \\frac{\\sum_{j} \\frac{I_j}{F} P_j}{\\sum_{j }\\frac{I_j}{F}}.\n",
    "\\end{equation}\n",
    "\n",
    "One last thing to note is there there are two ways to go about this, doing just the disk of Titan or the whole image."
   ]
  },
  {
   "cell_type": "markdown",
   "metadata": {},
   "source": [
    "Since we are doing a weighted sum and pixels off of the disk of Titan in the IF image fall to zero, the poalrization values off of the disk Titan won't contribute much at all, so we can jsut sum over entire image - although I put it both ways to be safe and test, then do a relative error. Additionally, from the brightness phase curves we saw that doing a deconvolution also produces less than a few percent error, so it will only take up more time so I will not be doing it here."
   ]
  },
  {
   "cell_type": "code",
   "execution_count": 4,
   "metadata": {},
   "outputs": [],
   "source": [
    "def simple_dlop(pol_image, if_image, center, radius):\n",
    "    #pol short for polarization images\n",
    "    mask_pol = np.zeros_like(pol_image)\n",
    "    #Fills the circle with 1s and the outside is 0\n",
    "    #So that when we sum, we multiply the image by the mask, and the 0 multiplication gets rid of eveything outside of the disk\n",
    "    #And everything inside the disk is summed but stays the same because multiplied by 1\n",
    "    cv2.circle(mask_pol, center, radius, 1, thickness=-1)\n",
    "    pol_masked = pol_image * mask_pol\n",
    "\n",
    "    #ins short for I/F images\n",
    "    mask_if = np.zeros_like(if_image)\n",
    "    cv2.circle(mask_if, center, radius, 1, thickness=-1)\n",
    "    if_masked = if_image * mask_if\n",
    "\n",
    "    #for the masked image\n",
    "    weighted_mask = np.sum(if_masked * pol_masked)\n",
    "    total_if_mask = np.sum(if_masked)\n",
    "    masked = weighted_mask / total_if_mask\n",
    "\n",
    "    #for the whole image\n",
    "    weighted_whole = np.sum(if_image * pol_image)\n",
    "    total_if = np.sum(if_image)\n",
    "    whole = weighted_whole / total_if\n",
    "\n",
    "    return masked, whole"
   ]
  },
  {
   "cell_type": "markdown",
   "metadata": {},
   "source": [
    "Because we have to sort through different files in the same folder, it gets kinda messy, but here is a way to make it work: I can group the center and effectiv radius (x, y, r) and create a dictionary, in the folder there are three .VIC that correspond to the same image, hence they have the same beginning but different ending, i.e NXXXXXX_pol.vic and NXXXXXXX_I_over_F.vic, so we can match the corrdinates from the I_over_F coordinates to the _pol.vic images."
   ]
  },
  {
   "cell_type": "code",
   "execution_count": 5,
   "metadata": {},
   "outputs": [
    {
     "name": "stdout",
     "output_type": "stream",
     "text": [
      "N1486913_I_over_F.vic: (np.int64(253), np.int64(263)), 181\n",
      "N1494007_I_over_F.vic: (np.int64(447), np.int64(340)), 361\n",
      "N1499415_I_over_F.vic: (np.int64(523), np.int64(523)), 371\n",
      "N1515805_I_over_F.vic: (np.int64(517), np.int64(517)), 376\n",
      "N1521214_I_over_F.vic: (np.int64(532), np.int64(527)), 391\n",
      "N1526619_I_over_F.vic: (np.int64(478), np.int64(521)), 406\n",
      "N1530756_I_over_F.vic: (np.int64(531), np.int64(506)), 361\n",
      "N1534852_I_over_F.vic: (np.int64(490), np.int64(513)), 376\n",
      "N1536147_I_over_F.vic: (np.int64(506), np.int64(511)), 401\n",
      "N1537508_I_over_F.vic: (np.int64(512), np.int64(523)), 381\n",
      "N1547135_I_over_F.vic: (np.int64(527), np.int64(514)), 401\n",
      "N1549547_I_over_F.vic: (np.int64(512), np.int64(496)), 411\n",
      "N1551056_I_over_F.vic: (np.int64(482), np.int64(495)), 381\n",
      "N1553821_I_over_F.vic: (np.int64(518), np.int64(532)), 336\n",
      "N1556523_I_over_F.vic: (np.int64(501), np.int64(551)), 391\n",
      "N1557905_I_over_F.vic: (np.int64(484), np.int64(571)), 376\n",
      "N1559282_I_over_F.vic: (np.int64(494), np.int64(560)), 371\n",
      "N1567440_I_over_F.vic: (np.int64(524), np.int64(520)), 361\n",
      "N1570185_I_over_F.vic: (np.int64(511), np.int64(532)), 391\n",
      "N1571476_I_over_F.vic: (np.int64(521), np.int64(535)), 346\n",
      "N1577094_I_over_F.vic: (np.int64(489), np.int64(539)), 371\n",
      "N1579533_I_over_F.vic: (np.int64(495), np.int64(509)), 371\n",
      "N1582634_I_over_F.vic: (np.int64(562), np.int64(514)), 356\n",
      "N1585391_I_over_F.vic: (np.int64(518), np.int64(530)), 371\n",
      "N1617163_I_over_F.vic: (np.int64(244), np.int64(250)), 206\n",
      "N1617165_I_over_F.vic: (np.int64(277), np.int64(244)), 201\n"
     ]
    }
   ],
   "source": [
    "#Grouping the circle center and radius for our dictionary\n",
    "def find_circle_params(image_path):\n",
    "    vic = vicar.VicarImage(image_path, strict=False)\n",
    "    image = vic.data_2d\n",
    "    center = image_center(image)\n",
    "    radii, fluxes = radii_fluxes_from_image(image, center)\n",
    "    eff_radius = effective_radius(radii, fluxes)\n",
    "    return center, eff_radius\n",
    "\n",
    "#Creating a dictionary with the opus_id being used as the key since it matches the polarized images and IF images\n",
    "#And the corresponding center coordinates and effective radius are stored as the value\n",
    "\n",
    "circle_params = {}\n",
    "for filename in os.listdir(if_images):\n",
    "    if filename.endswith('_I_over_F.vic'):\n",
    "        coordinate_image_path = os.path.join(if_images, filename)\n",
    "        opus_id = filename.split('_')[0]\n",
    "        try:\n",
    "            center, eff_radius = find_circle_params(coordinate_image_path)\n",
    "            circle_params[opus_id] = (center, eff_radius)\n",
    "            print(f'{filename}: {center}, {eff_radius}')\n",
    "        #Debug\n",
    "        except Exception as e:\n",
    "            print(f\"{filename}: {e}\")"
   ]
  },
  {
   "cell_type": "markdown",
   "metadata": {},
   "source": [
    "Finally, we have a center and effective radius in order to mask the polarized image and calculate the total degree of linear polarization, or a simplified case of $\\frac{Q}{I}$, and we already know the phase angle from the metadata. So this follows the exact same process as that of the brightness-phase curves, jsut with different naming conventions and a center and effective radius line."
   ]
  },
  {
   "cell_type": "code",
   "execution_count": 6,
   "metadata": {},
   "outputs": [
    {
     "name": "stdout",
     "output_type": "stream",
     "text": [
      "N1486913_Pol.vic: 0.049955930560827255, 0.05082380399107933\n",
      "N1494007_Pol.vic: 0.20695260167121887, 0.20854857563972473\n",
      "N1499415_Pol.vic: 0.2633275091648102, 0.2674269378185272\n",
      "N1515805_Pol.vic: 0.1329754889011383, 0.13605856895446777\n",
      "N1521214_Pol.vic: 0.33118000626564026, 0.3338969945907593\n",
      "N1526619_Pol.vic: 0.44710254669189453, 0.4484656751155853\n",
      "N1530756_Pol.vic: 0.32857242226600647, 0.3292287588119507\n",
      "N1534852_Pol.vic: 0.3191094994544983, 0.3200559616088867\n",
      "N1536147_Pol.vic: 0.2692350447177887, 0.27001720666885376\n",
      "N1537508_Pol.vic: 0.31137311458587646, 0.312184602022171\n",
      "N1547135_Pol.vic: 0.36123406887054443, 0.3618309497833252\n",
      "N1549547_Pol.vic: 0.38702407479286194, 0.3874169886112213\n",
      "N1551056_Pol.vic: 0.3021755814552307, 0.30346181988716125\n",
      "N1553821_Pol.vic: 0.17862001061439514, 0.18059566617012024\n",
      "N1556523_Pol.vic: 0.08891543000936508, 0.0916365534067154\n",
      "N1557905_Pol.vic: 0.05651337653398514, 0.059100933372974396\n",
      "N1559282_Pol.vic: 0.040823668241500854, 0.04423971101641655\n",
      "N1567440_Pol.vic: 0.04534105211496353, 0.04744228720664978\n",
      "N1570185_Pol.vic: 0.06248375400900841, 0.06467089056968689\n",
      "N1571476_Pol.vic: 0.4098687767982483, 0.41163384914398193\n",
      "N1577094_Pol.vic: 0.14538060128688812, 0.14877177774906158\n",
      "N1579533_Pol.vic: 0.2592567503452301, 0.26108941435813904\n",
      "N1582634_Pol.vic: 0.2569313943386078, 0.25776398181915283\n",
      "N1585391_Pol.vic: 0.3266185522079468, 0.3269842565059662\n",
      "N1617163_Pol.vic: 0.4305223822593689, 0.43054622411727905\n",
      "N1617165_Pol.vic: 0.4434840977191925, 0.44389957189559937\n"
     ]
    }
   ],
   "source": [
    "#Lists for results, one for the masked version and one for the whole image\n",
    "simple_dlops_m = []\n",
    "simple_dlops_w = []\n",
    "phase_angles = []\n",
    "\n",
    "#Because the .IMG calibrated images don't match 1:1 with the metadata, we have to do some fun things\n",
    "#Same loop as before but additional if for center coords and radius\n",
    "for filename in os.listdir(pol_images):\n",
    "    if filename.endswith('_Pol.vic'):\n",
    "    #if filename.endswith('_Theta.vic'):\n",
    "    #if filename.endswith('_Q.vic'):\n",
    "        pol_image_path = os.path.join(pol_images, filename)\n",
    "        #Since these images are in .IMG(or .VIC) format, simple line to read image from rms-vicar package\n",
    "        pol_vic = vicar.VicarImage(pol_image_path, strict=False)\n",
    "        read_pol_image = pol_vic.data_2d\n",
    "\n",
    "        #The coordinate images are also the _I_over_F.vic images just with that different ending\n",
    "        #Removing that ending they have the exact same naming structure\n",
    "        #Trying a replace, this works because _Pol.vic and _I_over_F.vic are both in the \"polarized images\" folder\n",
    "        #I just named them differently for convenience\n",
    "        if_image_path = pol_image_path.replace('_Pol.vic', '_I_over_F.vic')\n",
    "        if_vic = vicar.VicarImage(if_image_path, strict=False)\n",
    "        read_if_image = if_vic.data_2d\n",
    "\n",
    "\n",
    "        opus_id = filename.split('_')[0]\n",
    "        #Comparatively, in the brightness-phase curve we used metadata file from OPUS, but here i created my own\n",
    "        #So no need to add the prefix 'co-iss-' or change from upper to lowercase\n",
    "        parameter_row = parameters_df[parameters_df['OPUS ID'].str.contains(opus_id)]\n",
    "\n",
    "        #opus_id in circle_params becasue both I_over_F and pol images have same naming convention before the understore defined in circle params\n",
    "        if opus_id in circle_params:\n",
    "            center, eff_radius = circle_params[opus_id]\n",
    "\n",
    "            if not parameter_row.empty:\n",
    "                #Assocating the meta data with the image, pixel_scale and phase_angle\n",
    "                phase_angle = parameter_row['Observed Phase Angle (Min) [Titan] (degrees)'].values[0]\n",
    "\n",
    "                s_dlop_m, s_dlop_w = simple_dlop(read_pol_image, read_if_image, center, eff_radius)\n",
    "\n",
    "                #Creating array to plot\n",
    "                phase_angles.append(phase_angle)\n",
    "                simple_dlops_m.append(s_dlop_m)\n",
    "                simple_dlops_w.append(s_dlop_w)\n",
    "\n",
    "                #For manual inspection\n",
    "                print(f'{filename}: {s_dlop_m}, {s_dlop_w}')"
   ]
  },
  {
   "cell_type": "markdown",
   "metadata": {},
   "source": [
    "To see the relative error between using the whole image versus the masked image"
   ]
  },
  {
   "cell_type": "code",
   "execution_count": 7,
   "metadata": {},
   "outputs": [
    {
     "name": "stdout",
     "output_type": "stream",
     "text": [
      "Mean Q/I relative error: 0.014808394946157932\n"
     ]
    }
   ],
   "source": [
    "def difference_q(q_m, q_w):\n",
    "        #Since dealing witha arrays\n",
    "        q_m = np.asarray(q_m)\n",
    "        q_w = np.asarray(q_w)\n",
    "\n",
    "        #Calculating the difference in the Q and U value between the whole image and the masked image\n",
    "        diff_q = np.abs(q_m - q_w)\n",
    "\n",
    "        #So the relative difference\n",
    "        rel_diff_q = diff_q / np.abs(q_m)\n",
    "\n",
    "        return rel_diff_q\n",
    "\n",
    "simple_dlops_errors = difference_q(simple_dlops_m, simple_dlops_w)\n",
    "\n",
    "print(f\"Mean Q/I relative error: {np.mean(simple_dlops_errors)}\")"
   ]
  },
  {
   "cell_type": "markdown",
   "metadata": {},
   "source": [
    "As the error is much much less than 1%, I just choose to plot the masked image for now. Now, we have all the important information, an image (or data point) with a degree of a simplified $\\frac{Q}{I}$ (y) and a phase angle(x)."
   ]
  },
  {
   "cell_type": "code",
   "execution_count": 8,
   "metadata": {},
   "outputs": [
    {
     "data": {
      "image/png": "[encoded data removed]",
      "text/plain": [
       "<Figure size 1000x600 with 1 Axes>"
      ]
     },
     "metadata": {},
     "output_type": "display_data"
    }
   ],
   "source": [
    "plt.figure(figsize=(10, 6))\n",
    "plt.scatter(phase_angles, simple_dlops_m, color='b', marker='x')\n",
    "plt.xlabel('Phase Angle (degrees)')\n",
    "plt.ylabel('Q/I')\n",
    "plt.title('Polarization Phase Curve')\n",
    "plt.show()"
   ]
  },
  {
   "cell_type": "markdown",
   "metadata": {},
   "source": [
    "Having examined outliers(explained in procedure), as a final step for consistency, I use the preliminary plot to gauge an idea for the maximum value. Hence, with this last section, I manually adjust the y axis height and tick number(at least divisible by 5). X-axis remains consistant across all filters."
   ]
  },
  {
   "cell_type": "code",
   "execution_count": 9,
   "metadata": {},
   "outputs": [
    {
     "data": {
      "image/png": "[encoded data removed]",
      "text/plain": [
       "<Figure size 1000x600 with 1 Axes>"
      ]
     },
     "metadata": {},
     "output_type": "display_data"
    }
   ],
   "source": [
    "#Fancy plot for consistency across all plots but also visually will look better\n",
    "filtername = 'CL1_CB1'\n",
    "\n",
    "#Same as before\n",
    "plt.figure(figsize=(10, 6))\n",
    "plt.scatter(phase_angles, simple_dlops_m, color='b', marker='x', label=f'Filter={filtername}')\n",
    "plt.xlabel('Phase Angle (degrees)')\n",
    "plt.ylabel('Q/I')\n",
    "plt.title('Polarization Phase Curve')\n",
    "\n",
    "#x-ticks(phase angle) at every 10 ticks but a more pronounced tick at every 30 will be more pronounces\n",
    "ax = plt.gca()\n",
    "ax.set_xticks(range(0, 181, 30))\n",
    "ax.set_xticks(range(0, 181, 10), minor=True)\n",
    "ax.tick_params(axis='x', which='major', length=7, width=2, labelsize=12)\n",
    "ax.tick_params(axis='x', which='minor', length=4, width=1, labelsize=10)\n",
    "\n",
    "#Same for the y-axis\n",
    "#While the x-axis is phase so remains consistent\n",
    "ay = plt.gca()\n",
    "#Thicker ticks every 5\n",
    "ay.set_yticks([i * 0.1 for i in range(7)], minor=False)\n",
    "ay.set_yticks([i * 0.05 for i in range(60)], minor=True) \n",
    "plt.ylim(0, 0.60)\n",
    "\n",
    "ay.tick_params(axis='y', which='major', length=7, width=2, labelsize=12)\n",
    "ay.tick_params(axis='y', which='minor', length=4, width=1, labelsize=10)\n",
    "\n",
    "plt.legend()\n",
    "plt.show()"
   ]
  },
  {
   "cell_type": "markdown",
   "metadata": {},
   "source": [
    "Continuing with the assumption that U = 0, recall that we originally had the following equation:\n",
    "\n",
    "\\begin{equation}\n",
    "\\frac{Q}{I} = P = \\frac{\\sum_{j} \\frac{I_j}{F} P_j}{\\sum_{j }\\frac{I_j}{F}}.\n",
    "\\end{equation}\n",
    "\n",
    "Although I skipped pass this step, both the top and bottom have a factor that cancels out that looks like,\n",
    "\n",
    "\\begin{equation}\n",
    "\\frac {\\mathcal{S^2}_{\\text{pixel}}} {\\pi R_{\\text{target}}}.\n",
    "\\end{equation}\n",
    "\n",
    "Hence, to determine the Stokes component Q by itself, we normalize in the same way as we normalize reflectivity,\n",
    "\n",
    "\\begin{equation}\n",
    "Q = \\frac{ \\sum_{j} \\frac{I_j P_j}{F} \\mathcal{S^2}_{\\text{pixel}}} {\\pi {R^2}_{\\text{target}}}.\n",
    "\\end{equation}"
   ]
  },
  {
   "cell_type": "code",
   "execution_count": 10,
   "metadata": {},
   "outputs": [],
   "source": [
    "def simple_stokes_q(pol_image, if_image, center, radius, pixel_scale):\n",
    "\n",
    "    mask_pol = np.zeros_like(pol_image)\n",
    "    cv2.circle(mask_pol, center, radius, 1, thickness=-1)\n",
    "    pol_masked = pol_image * mask_pol\n",
    "\n",
    "    mask_if = np.zeros_like(if_image)\n",
    "    cv2.circle(mask_if, center, radius, 1, thickness=-1)\n",
    "    if_masked = if_image * mask_if\n",
    "\n",
    "    R = 2575 #km\n",
    "\n",
    "    weighted_mask = np.sum(if_masked * pol_masked)\n",
    "    masked = (weighted_mask * pixel_scale**2) / (np.pi * R**2)\n",
    "\n",
    "    weighted_whole = np.sum(if_image * pol_image)\n",
    "    whole = (weighted_whole * pixel_scale**2) / (np.pi * R**2)\n",
    "\n",
    "    return masked, whole"
   ]
  },
  {
   "cell_type": "code",
   "execution_count": 11,
   "metadata": {},
   "outputs": [
    {
     "name": "stdout",
     "output_type": "stream",
     "text": [
      "N1486913_Pol.vic: 0.009964178154410405, 0.010298962007531606\n",
      "N1494007_Pol.vic: 0.015776653896690248, 0.016345829408237804\n",
      "N1499415_Pol.vic: 0.0346565926924892, 0.03620031165291024\n",
      "N1515805_Pol.vic: 0.021852612131472323, 0.02301404507328707\n",
      "N1521214_Pol.vic: 0.037281834086543626, 0.03846189882853964\n",
      "N1526619_Pol.vic: 0.03544351430781939, 0.03631153516448618\n",
      "N1530756_Pol.vic: 0.023189229275318777, 0.023741178735546292\n",
      "N1534852_Pol.vic: 0.021428199413401548, 0.02201044916189761\n",
      "N1536147_Pol.vic: 0.01857103687629982, 0.019048796228386462\n",
      "N1537508_Pol.vic: 0.021126365430936492, 0.02169462408323795\n",
      "N1547135_Pol.vic: 0.02339217801488577, 0.0238911304710561\n",
      "N1549547_Pol.vic: 0.02500126671206007, 0.025499186341981277\n",
      "N1551056_Pol.vic: 0.034670011514156364, 0.03549510922526907\n",
      "N1553821_Pol.vic: 0.026007048567194935, 0.026930112392160484\n",
      "N1556523_Pol.vic: 0.015702497602064956, 0.01657141751639797\n",
      "N1557905_Pol.vic: 0.010807627941948606, 0.011579398705822863\n",
      "N1559282_Pol.vic: 0.008189042289874637, 0.009135613549300346\n",
      "N1567440_Pol.vic: 0.00922499009979702, 0.009874401996303678\n",
      "N1570185_Pol.vic: 0.011913676397985557, 0.012590661602277627\n",
      "N1571476_Pol.vic: 0.03864552619039779, 0.039748898581614775\n",
      "N1577094_Pol.vic: 0.022834480609671713, 0.023951065239886427\n",
      "N1579533_Pol.vic: 0.033004658539463654, 0.03396286597688654\n",
      "N1582634_Pol.vic: 0.03307509131281585, 0.03395752578074633\n",
      "N1585391_Pol.vic: 0.036713730950723944, 0.03756746678771408\n",
      "N1617163_Pol.vic: 0.029337538339001105, 0.029821139449103626\n",
      "N1617165_Pol.vic: 0.029910681708931408, 0.030425582113816872\n"
     ]
    }
   ],
   "source": [
    "#We use the exact same files and images so nothing from the loop has to change other than the y variable which wil just calculate Q this time\n",
    "\n",
    "simple_qs_m = []\n",
    "simple_qs_w = []\n",
    "\n",
    "for filename in os.listdir(pol_images):\n",
    "    if filename.endswith('_Pol.vic'):\n",
    "        pol_image_path = os.path.join(pol_images, filename)\n",
    "        pol_vic = vicar.VicarImage(pol_image_path, strict=False)\n",
    "        read_pol_image = pol_vic.data_2d\n",
    "\n",
    "        if_image_path = pol_image_path.replace('_Pol.vic', '_I_over_F.vic')\n",
    "        if_vic = vicar.VicarImage(if_image_path, strict=False)\n",
    "        read_if_image = if_vic.data_2d\n",
    "\n",
    "        opus_id = filename.split('_')[0]\n",
    "        parameter_row = parameters_df[parameters_df['OPUS ID'].str.contains(opus_id)]\n",
    "\n",
    "        if opus_id in circle_params:\n",
    "            center, eff_radius = circle_params[opus_id]\n",
    "\n",
    "            if not parameter_row.empty:\n",
    "                #Only additions are simple_stokes_Q function for y axis change and adding pixel_scale\n",
    "                phase_angle = parameter_row['Observed Phase Angle (Min) [Titan] (degrees)'].values[0]\n",
    "                pixel_scale = parameter_row['Body Center Resolution (Min) [Titan] (km/pixel)'].values[0]\n",
    "\n",
    "                sq_m, sq_w = simple_stokes_q(read_pol_image, read_if_image, center, eff_radius, pixel_scale)\n",
    "\n",
    "                #Creating array to plot\n",
    "                simple_qs_m.append(sq_m)\n",
    "                simple_qs_w.append(sq_w)\n",
    "\n",
    "                #For manual inspection\n",
    "                print(f'{filename}: {sq_m}, {sq_w}')"
   ]
  },
  {
   "cell_type": "markdown",
   "metadata": {},
   "source": [
    "And again, to determine the relative error;"
   ]
  },
  {
   "cell_type": "code",
   "execution_count": 12,
   "metadata": {},
   "outputs": [
    {
     "name": "stdout",
     "output_type": "stream",
     "text": [
      "Mean Q relative error: 0.03797377058221245\n"
     ]
    }
   ],
   "source": [
    "simple_qs_errors = difference_q(simple_qs_m, simple_qs_w)\n",
    "\n",
    "print(f\"Mean Q relative error: {np.mean(simple_qs_errors)}\")"
   ]
  },
  {
   "cell_type": "markdown",
   "metadata": {},
   "source": [
    "Again, this error is around 1%, so for consistency, I'll just stick with using the masked image."
   ]
  },
  {
   "cell_type": "code",
   "execution_count": 13,
   "metadata": {},
   "outputs": [
    {
     "data": {
      "image/png": "[encoded data removed]",
      "text/plain": [
       "<Figure size 1000x600 with 1 Axes>"
      ]
     },
     "metadata": {},
     "output_type": "display_data"
    }
   ],
   "source": [
    "#And we plot again\n",
    "\n",
    "plt.figure(figsize=(10, 6))\n",
    "plt.scatter(phase_angles, simple_qs_m, color='b', marker='x')\n",
    "plt.xlabel('Phase Angle (degrees)')\n",
    "plt.ylabel('Q')\n",
    "plt.title('Polarization Phase Curve')\n",
    "plt.show()"
   ]
  },
  {
   "cell_type": "markdown",
   "metadata": {},
   "source": [
    "As a next step: ABOVE, we considered the case where U = 0, such that P = Q/I, but if there is both Q and U, we can determine and plot the Stokes parameters individually. So lets take it such that U is not 0, and what we would do in that case. By definition, the degree of linear poalrization is:\n",
    "\n",
    "\\begin{equation}\n",
    "P = \\frac{\\sqrt{Q^2 + U^2}}{I}.\n",
    "\\end{equation}\n",
    "\n",
    "The stokes parameters have the form:\n",
    "\n",
    "\\begin{equation}\n",
    "Q = IPcos(2\\theta)\n",
    "\\end{equation}\n",
    "\n",
    "\\begin{equation}\n",
    "U = IPsin(2\\theta)\n",
    "\\end{equation}\n",
    "\n",
    "Where, we calcualte Q and U per pixel and add up each pixel to get a value for the disk, and can be normalized in the same way as the previous Q and reflectivity equations\n",
    "\n",
    "\\begin{equation}\n",
    "Q = \\frac{ \\sum_{i} \\frac{I_i}{F} P_i cos(2\\theta_{i}) S_{pixel}^2 } {\\pi R_{Titan}^2}.\n",
    "\\end{equation}\n",
    "\n",
    "This defines Q and U before rotation, as is, with the camera Y axis as the axis with which the angle of polarization is determined by."
   ]
  },
  {
   "cell_type": "code",
   "execution_count": 14,
   "metadata": {},
   "outputs": [],
   "source": [
    "def pre_rot_q(pol_image, if_image, thet_image, center, radius, pixel_scale):\n",
    "    \n",
    "    mask_pol = np.zeros_like(pol_image)\n",
    "    cv2.circle(mask_pol, center, radius, 1, thickness=-1)\n",
    "    pol_masked = pol_image * mask_pol\n",
    "\n",
    "    mask_if = np.zeros_like(if_image)\n",
    "    cv2.circle(mask_if, center, radius, 1, thickness=-1)\n",
    "    if_masked = if_image * mask_if\n",
    "\n",
    "    mask_thet = np.zeros_like(thet_image)\n",
    "    cv2.circle(mask_thet, center, radius, 1, thickness=-1)\n",
    "    thet_masked = thet_image * mask_thet\n",
    "\n",
    "    R = 2575 #km\n",
    "\n",
    "    thet_rad_whole = np.deg2rad(thet_image)\n",
    "    weighted_whole = np.sum(if_image * pol_image * np.cos(2*thet_rad_whole))\n",
    "    whole = (weighted_whole * pixel_scale**2) / (np.pi * R**2)\n",
    "\n",
    "    thet_rad_mask = np.deg2rad(thet_masked)\n",
    "    weighted_mask = np.sum(if_masked * pol_masked * np.cos(2*thet_rad_mask))\n",
    "    masked = (weighted_mask * pixel_scale**2) / (np.pi * R**2)\n",
    "\n",
    "    return masked, whole\n",
    "\n",
    "\n",
    "def pre_rot_u(pol_image, if_image, thet_image, center, radius, pixel_scale):\n",
    "    \n",
    "    mask_pol = np.zeros_like(pol_image)\n",
    "    cv2.circle(mask_pol, center, radius, 1, thickness=-1)\n",
    "    pol_masked = pol_image * mask_pol\n",
    "\n",
    "    mask_if = np.zeros_like(if_image)\n",
    "    cv2.circle(mask_if, center, radius, 1, thickness=-1)\n",
    "    if_masked = if_image * mask_if\n",
    "\n",
    "    mask_thet = np.zeros_like(thet_image)\n",
    "    cv2.circle(mask_thet, center, radius, 1, thickness=-1)\n",
    "    thet_masked = thet_image * mask_thet\n",
    "\n",
    "    R = 2575 #km\n",
    "\n",
    "    thet_rad_whole = np.deg2rad(thet_image)\n",
    "    weighted_whole = np.sum(if_image * pol_image * np.sin(2*thet_rad_whole))\n",
    "    whole = (weighted_whole * pixel_scale**2) / (np.pi * R**2)\n",
    "\n",
    "    thet_rad_mask = np.deg2rad(thet_masked)\n",
    "    weighted_mask = np.sum(if_masked * pol_masked * np.sin(2*thet_rad_mask))\n",
    "    masked = (weighted_mask * pixel_scale**2) / (np.pi * R**2)\n",
    "\n",
    "    return masked, whole"
   ]
  },
  {
   "cell_type": "markdown",
   "metadata": {},
   "source": [
    "And we run the same look as a visual test because again, we use the same images, just changing the y axis and adding a theta section."
   ]
  },
  {
   "cell_type": "code",
   "execution_count": 15,
   "metadata": {},
   "outputs": [
    {
     "name": "stdout",
     "output_type": "stream",
     "text": [
      "N1486913_Pol.vic: -0.008596138622306529, -0.00873829480063734, -0.0003008750662098513,-0.00030802877218748346\n",
      "N1494007_Pol.vic: -0.01558385664478561, -0.016011557436849087, -0.0001582870250133148,-0.00012479445136319076\n",
      "N1499415_Pol.vic: -0.03443662812499648, -0.03590104983890847, -0.001801286880577863,-0.002017594007385019\n",
      "N1515805_Pol.vic: -0.021448041235893427, -0.022464273721995717, -0.00023242942685486881,-0.00027241989919142253\n",
      "N1521214_Pol.vic: -0.03714322541260635, -0.03827719529746212, -0.00018906759873091872,-0.0002245172269108223\n",
      "N1526619_Pol.vic: -0.035363317461520036, -0.0362006695301212, -0.00016514236905997823,-0.00017110031904019038\n",
      "N1530756_Pol.vic: -0.0231003622889727, -0.023603643123339717, -0.0002974565989141233,-0.00029847666328648454\n",
      "N1534852_Pol.vic: -0.021341087788069885, -0.02188434821610462, -0.00027460890288423875,-0.0002859416252826722\n",
      "N1536147_Pol.vic: -0.01845040083286423, -0.018877848294264685, -0.0005852774204133263,-0.0005765087336591543\n",
      "N1537508_Pol.vic: -0.021040202160215436, -0.021569500186883483, -0.00011313606602030845,-0.00011112216003207057\n",
      "N1547135_Pol.vic: -0.023309139455444373, -0.023771723524769243, -0.00018668367638546726,-0.00019104602591195308\n",
      "N1549547_Pol.vic: -0.024908288497599705, -0.025379986374595133, -0.0008057730048199462,-0.0008221549118107679\n",
      "N1551056_Pol.vic: -0.0343461822562882, -0.035100767901122855, -0.0012946579119848707,-0.0012399332560334181\n",
      "N1553821_Pol.vic: -0.02559879852512161, -0.026391426976096526, -0.0002914005252723872,-0.0003965691388034176\n",
      "N1556523_Pol.vic: -0.014844399653777048, -0.015426435738343328, -0.0006214260321333706,-0.0008066561048424314\n",
      "N1557905_Pol.vic: -0.009368535964115026, -0.00977362735712085, -0.000670901027990615,-0.0006823872687843245\n",
      "N1559282_Pol.vic: -0.005845164882943331, -0.006338684110016844, -0.00032905466993839204,-0.0004336931744290279\n",
      "N1567440_Pol.vic: 0.005064830600564656, 0.005076658788201483, 0.0044857424444602716,0.004456264874508754\n",
      "N1570185_Pol.vic: -0.01072616266639931, -0.011144949838260117, -0.0006409146003114409,-0.0005891460800930212\n",
      "N1571476_Pol.vic: -0.03624415279010873, -0.03724916661095298, -0.013115793618101283,-0.013462866044558815\n",
      "N1577094_Pol.vic: -0.022460626753544388, -0.023447117144431723, -0.00012399786079091656,-0.00033249208848554575\n",
      "N1579533_Pol.vic: -0.03272836385027152, -0.033605794436735885, 0.0005021445916329494,0.00038845582251441135\n",
      "N1582634_Pol.vic: 0.017215097120404987, 0.017581444602273517, 0.0280924741659614,0.028837447991801775\n",
      "N1585391_Pol.vic: 0.0237089087585581, 0.024199957724294802, 0.027889747989445227,0.028513729615717506\n",
      "N1617163_Pol.vic: 0.029273153240199617, 0.02974274705274924, -2.5571114536170383e-05,-2.7342881353798208e-05\n",
      "N1617165_Pol.vic: 0.01442212771474067, 0.01464766268801176, 0.02607162182773323,0.02651540739248401\n"
     ]
    }
   ],
   "source": [
    "#We use the exact same files and images so nothing from the loop has to change other than the y variable which wil just calculate Q this time\n",
    "\n",
    "pre_rot_qs_w = []\n",
    "pre_rot_us_w = []\n",
    "pre_rot_qs_m = []\n",
    "pre_rot_us_m = []\n",
    "\n",
    "for filename in os.listdir(pol_images):\n",
    "    if filename.endswith('_Pol.vic'):\n",
    "        pol_image_path = os.path.join(pol_images, filename)\n",
    "        pol_vic = vicar.VicarImage(pol_image_path, strict=False)\n",
    "        read_pol_image = pol_vic.data_2d\n",
    "\n",
    "        if_image_path = pol_image_path.replace('_Pol.vic', '_I_over_F.vic')\n",
    "        if_vic = vicar.VicarImage(if_image_path, strict=False)\n",
    "        read_if_image = if_vic.data_2d\n",
    "\n",
    "        thet_image_path = pol_image_path.replace('_Pol.vic', '_Theta.vic')\n",
    "        thet_vic = vicar.VicarImage(thet_image_path, strict=False)\n",
    "        read_thet_image = thet_vic.data_2d\n",
    "\n",
    "        opus_id = filename.split('_')[0]\n",
    "        parameter_row = parameters_df[parameters_df['OPUS ID'].str.contains(opus_id)]\n",
    "\n",
    "        if opus_id in circle_params:\n",
    "            center, eff_radius = circle_params[opus_id]\n",
    "\n",
    "            if not parameter_row.empty:\n",
    "                #Only additions are simple_stokes_Q function for y axis change and adding pixel_scale\n",
    "                phase_angle = parameter_row['Observed Phase Angle (Min) [Titan] (degrees)'].values[0]\n",
    "                pixel_scale = parameter_row['Body Center Resolution (Min) [Titan] (km/pixel)'].values[0]\n",
    "\n",
    "                prq_m, prq_w = pre_rot_q(read_pol_image, read_if_image, read_thet_image, center, eff_radius, pixel_scale)\n",
    "                pru_m, pru_w = pre_rot_u(read_pol_image, read_if_image, read_thet_image, center, eff_radius, pixel_scale)\n",
    "\n",
    "                #Creating array to plot\n",
    "                pre_rot_qs_m.append(prq_m)\n",
    "                pre_rot_qs_w.append(prq_w)\n",
    "                pre_rot_us_m.append(pru_m)\n",
    "                pre_rot_us_w.append(pru_w)\n",
    "\n",
    "                #For manual inspection\n",
    "                print(f'{filename}: {prq_m}, {prq_w}, {pru_m},{pru_w}')"
   ]
  },
  {
   "cell_type": "markdown",
   "metadata": {},
   "source": [
    "For a quick error analysis between using the whole image versus using the disk of Titan; The relative difference, while written for Q, can be applied to U the same."
   ]
  },
  {
   "cell_type": "code",
   "execution_count": 16,
   "metadata": {},
   "outputs": [
    {
     "name": "stdout",
     "output_type": "stream",
     "text": [
      "Mean Q relative error: 0.0290681163156801\n",
      "Mean U relative error: 0.15636457542466356\n"
     ]
    }
   ],
   "source": [
    "prq_errors = difference_q(pre_rot_qs_m, pre_rot_qs_w)\n",
    "pru_errors = difference_q(pre_rot_us_m, pre_rot_us_w)\n",
    "\n",
    "print(f\"Mean Q relative error: {np.mean(prq_errors)}\")\n",
    "print(f\"Mean U relative error: {np.mean(pru_errors)}\")"
   ]
  },
  {
   "cell_type": "markdown",
   "metadata": {},
   "source": [
    "Less than 5% across both Q and U components of the Stokes vectora means that using either the whole image or the masked image is negligible, buyt for consistency, I plot the masked version."
   ]
  },
  {
   "cell_type": "code",
   "execution_count": 17,
   "metadata": {},
   "outputs": [
    {
     "data": {
      "image/png": "[encoded data removed]",
      "text/plain": [
       "<Figure size 1000x600 with 1 Axes>"
      ]
     },
     "metadata": {},
     "output_type": "display_data"
    }
   ],
   "source": [
    "#For sanity we plot; looks pretty much exaclty the same whether or not we do the whole image os masked image\n",
    "\n",
    "plt.figure(figsize=(10, 6))\n",
    "plt.scatter(phase_angles, pre_rot_qs_m, color='b', marker='x')\n",
    "plt.scatter(phase_angles, pre_rot_us_m, color='r', marker='x')\n",
    "plt.xlabel('Phase Angle (degrees)')\n",
    "plt.ylabel('Q')\n",
    "plt.title('Polarization Phase Curve')\n",
    "plt.show()"
   ]
  },
  {
   "cell_type": "markdown",
   "metadata": {},
   "source": [
    "With the specific values of Q and U depending on the choice of the reference system. We introduce a new reference frame where Q_cam and U_cam are the stokes parameters before projection, such that we can find the new components after rotation as:\n",
    "\n",
    "\\begin{equation}\n",
    "\n",
    "\\begin{bmatrix} \n",
    "I \\\\ Q \\\\ U \n",
    "\\end{bmatrix}\n",
    "=\n",
    "\\begin{bmatrix}\n",
    "1 & 0 & 0 \\\\\n",
    "0 & \\cos(2\\theta') & \\sin(2\\theta') \\\\\n",
    "0 & -\\sin(2\\theta') & \\cos(2\\theta')\n",
    "\\end{bmatrix}\n",
    "\n",
    "\\begin{bmatrix} \n",
    "I_{\\text{0}} \\\\ Q_{\\text{0}} \\\\ U_{\\text{0}} \n",
    "\\end{bmatrix}\n",
    "\\end{equation}\n",
    "\n",
    "Which gives us the following equations, where theta is the polarization(or projection) angle:\n",
    "\n",
    "\\begin{equation}\n",
    "Q = Q_{0}cos(2\\theta') + U_{0}sin(2\\theta')\n",
    "\\end{equation}\n",
    "\n",
    "\\begin{equation}\n",
    "U = -Q_{0}sin(2\\theta') + U_{0}cos(2\\theta')\n",
    "\\end{equation}\n",
    "\n",
    "Here, Q_0 and U_0 are just the Stokes parameters given before rotation - hence the pre roated Q and U in the section above.\n",
    "\n",
    "\n",
    "The Q/I that is gotten is, again, with respect to the camera axes, but we want thre Q/I with respect to the sun direction. To do that rotation, we need to know the angle that the camera Y axis makes with the direction to the sun as projected onto the image plane, and we can do that once we have the SUN_IMAGE_AZIMUTH from the imaging PDS node; I create a specific folder with that although on query it tends to be the same angle across filters.\n",
    "\n",
    "A special case to ensure this works is a case where we consider U = 0, like above. This would mean that the electric field vector of polarized lights coming from Titan hs to be either parallel or perpendicular to the camera's Y-axis; this is done by setting the scattering plane to be perpendicular to the camera y-axis. If U = 0, then we can calculate the projection angle,\n",
    "\n",
    "\\begin{equation}\n",
    "0 = -Q_{0}sin(2\\theta') + U_{0}cos(2\\theta')\n",
    "\\end{equation}\n",
    "\n",
    "\\begin{equation}\n",
    "tan(2\\theta') = \\frac{U_{0}}{Q_{0}}\n",
    "\\end{equation}\n",
    "\n",
    "\\begin{equation}\n",
    "\\theta' = \\frac{1}{2} arctan\\frac{U_{0}}{Q_{0}}\n",
    "\\end{equation}\n",
    "\n",
    "We've already built the functions to calculate Q_0 and U_0 in the original reference frame above, so now we just need to setup calculation for Q and $\\theta$'."
   ]
  },
  {
   "cell_type": "markdown",
   "metadata": {},
   "source": [
    "So now we have Q and U in the sun frame, which is what we want, and then Q/I and U/I."
   ]
  },
  {
   "cell_type": "code",
   "execution_count": 18,
   "metadata": {},
   "outputs": [],
   "source": [
    "def rotate_scat_plane(q_o, u_o, rot_angle):\n",
    "    #this will be the sun_image_azimuth\n",
    "    #thet_prime = np.deg2rad(rot_angle)\n",
    "\n",
    "    #testing roations by +- 90 and negative; rotations by 180 is exaclty the same by 2theta\n",
    "    #thet_prime = np.deg2rad(rot_angle + 90) \n",
    "    #thet_prime = np.deg2rad(rot_angle - 90)\n",
    "    thet_prime = np.deg2rad(-rot_angle)\n",
    "\n",
    "    q_scat = q_o * np.cos(2 * thet_prime) + u_o * np.sin(2 * thet_prime)\n",
    "    u_scat = -q_o * np.sin(2 * thet_prime) + u_o * np.cos(2 * thet_prime)\n",
    "\n",
    "    #Special case where we rotate to U = 0\n",
    "    thet_special = 0.5 * np.arctan2(u_o, q_o)\n",
    "    q_spec = q_o * np.cos(2 * thet_special) + u_o * np.sin(2 * thet_special)\n",
    "    \n",
    "    return q_scat, u_scat, q_spec\n",
    "\n",
    "#From the brightness phase curves, for total intensity; but since we are only doing the mask\n",
    "\n",
    "def reflectivity(if_image, center, radius, pixel_scale):\n",
    "    R = 2575 #km\n",
    "    #Total number of pixels\n",
    "    #n_pixel = np.pi * R**2 / pixel_scale**2\n",
    "\n",
    "    mask_if = np.zeros_like(if_image)\n",
    "    cv2.circle(mask_if, center, radius, 1, thickness=-1)\n",
    "    if_masked = if_image * mask_if\n",
    "    \n",
    "    total_if = np.sum(if_masked)\n",
    "\n",
    "    return (total_if * pixel_scale**2) / (np.pi * R**2)\n",
    "\n",
    "def rotate_scat_over_i(q_scat, u_scat, q_spec, total_i):\n",
    "    #q and u scat will be calculated with rotate scatter plane function\n",
    "    #total i will be calculated with reflectivity\n",
    "    #notable the normalization factors cancel out but don't want to rewrite everything\n",
    "\n",
    "    q_over_i = q_scat / total_i\n",
    "    u_over_i = u_scat / total_i\n",
    "    q_over_i_spec = q_spec / total_i\n",
    "\n",
    "    return q_over_i, u_over_i, q_over_i_spec"
   ]
  },
  {
   "cell_type": "markdown",
   "metadata": {},
   "source": [
    "AND since we saw that the error between the whole and the masked images was les then 5% I am going to use just the masked version.\n",
    "\n",
    "A few notes: In theory, the sun_image_azimuth should be equal to theta prime, theta_prime is the angle between the camera Y-axis and the projected direction to the sun on the image plane. This is exactly what SUN_IMAGE_AZIMUTH is intended to provide, but according to Bob West:\n",
    "- The azimuth might be measured clockwise or counterclockwise\n",
    "\n",
    "After some testing, taking the sun_image_azimuth as is does not produce and expected result; taking the negative of the sun_image_azimuth gives a pretty decent result - mirrors the U=0 result which cannot be a coincidence, so this measn we measure the angle CLOCKWISE; but it is also all negative Q values."
   ]
  },
  {
   "cell_type": "markdown",
   "metadata": {},
   "source": [
    "For now, I assume that clockwise is the correct orientation(will confirm). Upon reading some of the literature, if Q > 0, then polarization is parallel to the reference axis, and Q < 0 means it's perpendicular. But the direction of the reference axis is defined by the rotation angle, so if I'm off by 180 degrees, the physics is identical, it jsut flips the sign.\n",
    "\n",
    "If you're off by 180°, the physics is identical, but Q flips sign. To handle this, I will flip the orientation, because I don't expect it to change the physics, we jst have to redefine what direction we will call positive Q."
   ]
  },
  {
   "cell_type": "code",
   "execution_count": 19,
   "metadata": {},
   "outputs": [
    {
     "name": "stdout",
     "output_type": "stream",
     "text": [
      "N1486913_Pol.vic: -0.008595264904503857, -0.00032487880937525043, 0.008601402503044302, -0.04309281231151999, -0.0016287969843793737, 0.04312358348435589\n",
      "N1494007_Pol.vic: -0.015583311253921825, -0.0002050684542038791, 0.015584660493816226, -0.2044163935401641, -0.002690015822321684, 0.20443409239432545\n",
      "N1499415_Pol.vic: -0.0344312648290074, -0.0019010505832824489, 0.034483706167484966, -0.26161541858706083, -0.014444550514496788, 0.2620138780332998\n",
      "N1515805_Pol.vic: -0.021447318734185455, -0.000291574020294335, 0.021449300601536006, -0.13050923057694216, -0.0017742591284469291, 0.13052129045194247\n",
      "N1521214_Pol.vic: -0.037142511368511336, -0.0002979762550640966, 0.03714370660836874, -0.32994237894254563, -0.0026469668000852586, 0.3299529964335937\n",
      "N1526619_Pol.vic: -0.03536266236695243, -0.00027130095324805843, 0.035363703056754486, -0.44608263695175226, -0.00342232842585737, 0.4460957647430462\n",
      "N1530756_Pol.vic: -0.02309936524775979, -0.0003668016638686021, 0.02310227734034092, -0.3272991338516768, -0.005197279907558948, 0.32734039582443136\n",
      "N1534852_Pol.vic: -0.021340155426966413, -0.00033941770808941285, 0.021342854495770922, -0.3177983535310361, -0.005054620579463458, 0.3178385481596589\n",
      "N1536147_Pol.vic: -0.018448605398488072, -0.0006393742277254348, 0.018459681485664986, -0.26746008249679504, -0.009269377278121198, 0.26762065892661674\n",
      "N1537508_Pol.vic: -0.021039761558312706, -0.0001770318658201167, 0.021040506332124446, -0.3100966960787764, -0.0026092024160696784, 0.3101076730044277\n",
      "N1547135_Pol.vic: -0.023308482954368877, -0.0002558423621644234, 0.023309887021356033, -0.3599415972553243, -0.0039508495110264965, 0.3599632795808107\n",
      "N1549547_Pol.vic: -0.02490578808520077, -0.0008796737293029166, 0.02492131830411374, -0.38554605428280686, -0.013617506670688733, 0.38578646484936113\n",
      "N1551056_Pol.vic: -0.03434214098231002, -0.0013977580056555034, 0.0343705742560585, -0.29931794343815754, -0.012182526764785415, 0.2995657610983318\n",
      "N1553821_Pol.vic: -0.02559779553651352, -0.00036913935951843324, 0.025600457030996483, -0.17580919820039964, -0.0025353001483495747, 0.17582747771241453\n",
      "N1556523_Pol.vic: -0.014842022306548327, -0.0006758293027022832, 0.0148574012328694, -0.08404298415380307, -0.0038268849220516317, 0.0841300673581272\n",
      "N1557905_Pol.vic: -0.009366577241771624, -0.0006977141780137531, 0.009392527577828854, -0.04897808479098838, -0.003648366237587213, 0.04911377979749485\n",
      "N1559282_Pol.vic: -0.005843895094359572, -0.00035088404170368557, 0.005854419653953942, -0.02913274009952712, -0.001749212370682597, 0.029185206691478893\n",
      "N1567440_Pol.vic: -0.006760313033071572, 0.0002693733196350084, 0.006765677666756564, -0.03322710456934957, 0.0013239764809586873, 0.033253471875649664\n",
      "N1570185_Pol.vic: -0.0107242373001552, -0.000672362551686684, 0.010745293717295526, -0.05624549276989785, -0.00352634522914708, 0.05635592752855514\n",
      "N1571476_Pol.vic: -0.03854426924791633, -4.4292770336575374e-05, 0.038544294697210026, -0.40879485214863265, -0.0004697626094434908, 0.40879512206009955\n",
      "N1577094_Pol.vic: -0.022460153311420736, -0.0001914232456903007, 0.02246096902699246, -0.1429973637924427, -0.001218736983793748, 0.1430025572198759\n",
      "N1579533_Pol.vic: -0.032729695521690284, 0.0004061779956041163, 0.03273221577447311, -0.25709686222038264, 0.003190591495224202, 0.2571166591990022\n",
      "N1582634_Pol.vic: -0.03294755815427298, 7.131129633478235e-05, 0.0329476353268362, -0.2559407027864585, 0.0005539549612471222, 0.2559413022724651\n",
      "N1585391_Pol.vic: -0.03660515559574569, -0.00011393527831807942, 0.03660533290978785, -0.3256526248689213, -0.0010136091991852063, 0.32565420231839026\n",
      "N1617163_Pol.vic: -0.029273097447810238, -6.261243577434933e-05, 0.02927316440882516, -0.4295767126566754, -0.0009188246778232283, 0.42957769529586204\n",
      "N1617165_Pol.vic: -0.02978788873578212, -0.0006394663503980543, 0.02979475176182253, -0.4416634397463996, -0.00948133351859942, 0.44176519746796766\n"
     ]
    }
   ],
   "source": [
    "scat_qs = []\n",
    "scat_us = []\n",
    "spec_qs = []\n",
    "\n",
    "scat_qis = []\n",
    "scat_uis = []\n",
    "spec_qis = []\n",
    "\n",
    "for filename in os.listdir(pol_images):\n",
    "    if filename.endswith('_Pol.vic'):\n",
    "        pol_image_path = os.path.join(pol_images, filename)\n",
    "        pol_vic = vicar.VicarImage(pol_image_path, strict=False)\n",
    "        read_pol_image = pol_vic.data_2d\n",
    "\n",
    "        if_image_path = pol_image_path.replace('_Pol.vic', '_I_over_F.vic')\n",
    "        if_vic = vicar.VicarImage(if_image_path, strict=False)\n",
    "        read_if_image = if_vic.data_2d\n",
    "\n",
    "        thet_image_path = pol_image_path.replace('_Pol.vic', '_Theta.vic')\n",
    "        thet_vic = vicar.VicarImage(thet_image_path, strict=False)\n",
    "        read_thet_image = thet_vic.data_2d\n",
    "\n",
    "        opus_id = filename.split('_')[0]\n",
    "        parameter_row = parameters_df[parameters_df['OPUS ID'].str.contains(opus_id)]\n",
    "\n",
    "        if opus_id in circle_params:\n",
    "            center, eff_radius = circle_params[opus_id]\n",
    "\n",
    "            if not parameter_row.empty:\n",
    "                #Only additions are simple_stokes_Q function for y axis change and adding pixel_scale\n",
    "                phase_angle = parameter_row['Observed Phase Angle (Min) [Titan] (degrees)'].values[0]\n",
    "                pixel_scale = parameter_row['Body Center Resolution (Min) [Titan] (km/pixel)'].values[0]\n",
    "                sun_image_azimuth = parameter_row['SUN_IMAGE_AZIMUTH'].values[0]\n",
    "                \n",
    "                prq_m, prq_w = pre_rot_q(read_pol_image, read_if_image, read_thet_image, center, eff_radius, pixel_scale)\n",
    "                pru_m, pru_w = pre_rot_u(read_pol_image, read_if_image, read_thet_image, center, eff_radius, pixel_scale)\n",
    "\n",
    "                #sun_image_azimuth as the rotation angle, and converted to radians within the function\n",
    "\n",
    "                scat_q, scat_u, spec_q = rotate_scat_plane(prq_m, pru_m, sun_image_azimuth)\n",
    "                calc_refl = reflectivity(read_if_image, center, eff_radius, pixel_scale)\n",
    "                scat_qi, scat_ui, spec_qi = rotate_scat_over_i(scat_q, scat_u, spec_q, calc_refl)\n",
    "\n",
    "                #Creating array to plot\n",
    "                scat_qs.append(-scat_q)\n",
    "                scat_us.append(scat_u)\n",
    "                spec_qs.append(spec_q)\n",
    "\n",
    "                scat_qis.append(-scat_qi)\n",
    "                scat_uis.append(scat_ui)\n",
    "                spec_qis.append(spec_qi)\n",
    "\n",
    "                #For manual inspection\n",
    "                print(f'{filename}: {scat_q}, {scat_u}, {spec_q}, {scat_qi}, {scat_ui}, {spec_qi}')"
   ]
  },
  {
   "cell_type": "markdown",
   "metadata": {},
   "source": [
    "Final plotting"
   ]
  },
  {
   "cell_type": "code",
   "execution_count": 20,
   "metadata": {},
   "outputs": [
    {
     "data": {
      "image/png": "[encoded data removed]",
      "text/plain": [
       "<Figure size 1000x600 with 1 Axes>"
      ]
     },
     "metadata": {},
     "output_type": "display_data"
    }
   ],
   "source": [
    "plt.figure(figsize=(10, 6))\n",
    "plt.scatter(phase_angles, scat_qs, color='b', marker='x')\n",
    "plt.scatter(phase_angles, scat_us, color='r', marker='x')\n",
    "plt.scatter(phase_angles, spec_qs, color='g', marker='x')\n",
    "plt.xlabel('Phase Angle (degrees)')\n",
    "plt.ylabel('Q')\n",
    "plt.title('Polarization Phase Curve')\n",
    "plt.show()"
   ]
  },
  {
   "cell_type": "code",
   "execution_count": 21,
   "metadata": {},
   "outputs": [
    {
     "data": {
      "image/png": "[encoded data removed]",
      "text/plain": [
       "<Figure size 1000x600 with 1 Axes>"
      ]
     },
     "metadata": {},
     "output_type": "display_data"
    }
   ],
   "source": [
    "plt.figure(figsize=(10, 6))\n",
    "plt.scatter(phase_angles, scat_qis, color='b', marker='x')\n",
    "plt.scatter(phase_angles, scat_uis, color='r', marker='x')\n",
    "plt.scatter(phase_angles, spec_qis, color='g', marker='x')\n",
    "plt.xlabel('Phase Angle (degrees)')\n",
    "plt.ylabel('Q/I')\n",
    "plt.title('Polarization Phase Curve')\n",
    "plt.show()"
   ]
  }
 ],
 "metadata": {
  "kernelspec": {
   "display_name": "Python 3",
   "language": "python",
   "name": "python3"
  },
  "language_info": {
   "codemirror_mode": {
    "name": "ipython",
    "version": 3
   },
   "file_extension": ".py",
   "mimetype": "text/x-python",
   "name": "python",
   "nbconvert_exporter": "python",
   "pygments_lexer": "ipython3",
   "version": "3.11.9"
  }
 },
 "nbformat": 4,
 "nbformat_minor": 2
}
