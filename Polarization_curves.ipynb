{
 "cells": [
  {
   "cell_type": "markdown",
   "metadata": {},
   "source": [
    "Project: Titan Lightcurve - Polarization-phase curve"
   ]
  },
  {
   "cell_type": "markdown",
   "metadata": {},
   "source": [
    "Author: Alex Medina"
   ]
  },
  {
   "cell_type": "markdown",
   "metadata": {},
   "source": [
    "Organization: University of Central Florida"
   ]
  },
  {
   "cell_type": "code",
   "execution_count": 14,
   "metadata": {},
   "outputs": [],
   "source": [
    "#General imports\n",
    "import numpy as np\n",
    "import matplotlib.pyplot as plt\n",
    "import pandas as pd\n",
    "import os\n",
    "\n",
    "#Most important import, in order to read and manipulate image in .IMG or VICAR format\n",
    "#The python package is called \"rms-vicar\"\n",
    "import vicar\n",
    "#The second most important package to use is called \"opencv\"\n",
    "#Used to manipulate general images\n",
    "#Not used in the brightness phase curves but to keep it consistent with the polarization phase curves\n",
    "import cv2"
   ]
  },
  {
   "cell_type": "markdown",
   "metadata": {},
   "source": [
    "Polarized images are created using the make_polar_virtual_machine.sav IDLVM script; with polarization being calculated by taking ratios in the iamges using different polarizers. However, this process has no knowledge of which pixels are on Titan and which pixels are not, so the entire image has polarization values. The values away from Titan are a combination of light spread beyond the limb from the point spread function, and noise in the CCD and possibly also some stray light if the camera is pointing close to Saturn or the Sun. So, to interpret the polarization image I needed to restrict my analysis to the disk of Titan, including pixels beyond the terminator since Titan’s extended atmosphere is lit by the sun over a large region beyond the geometric terminator. For the same reason, values in the theta image(for angle of linear polarization) should be ignored if they are not on the target."
   ]
  },
  {
   "cell_type": "markdown",
   "metadata": {},
   "source": [
    "For the $\\frac{I}{F}$ images this was not critical since the intensity drops to near zero sufficiently far from the target, and you want to include intensity beyond the limb. To only consider pixels within the disk of Titan in the image, I used the python package, opencv. First, I create a copy of the image, to not mess with original strucure of the .IMG of .VIC images, and detect the disk or circle of Titan; after it is detected, the output is a pair of coordinates for the center of the disk. To define an effective radius for the disk of Titan, I just plot the total brightness of a circle centered on Titan for incresing radius and plot it: when the plot begins to plateau, pixels beyond this plateau are no relevant."
   ]
  },
  {
   "cell_type": "code",
   "execution_count": 15,
   "metadata": {},
   "outputs": [],
   "source": [
    "def image_center(image):\n",
    "    #Creating a copy of the image to avoid messing with the original\n",
    "\n",
    "    image_copy = image.copy()\n",
    "    gray_image = cv2.normalize(image_copy, None, 0, 255, cv2.NORM_MINMAX, cv2.CV_8U)\n",
    "    #Detect circle; I leave these parameters as is but they can be adjust to make circle detection more or less negative\n",
    "    #I found that this is the best combination of parameters\n",
    "    detected_circles = cv2.HoughCircles(gray_image, cv2.HOUGH_GRADIENT, dp=1.2, minDist=100, param1=50, param2=30, minRadius=30, maxRadius=500)\n",
    "\n",
    "    #If a circle is detected this will draw a circle and return center coordinates (x, y) with a radius a\n",
    "    #But the radius is too rough, we determine it more accurately later, and we actually dont need to draw the circle\n",
    "    if detected_circles is not None:\n",
    "        detected_circles = np.round(detected_circles[0, :]).astype(\"int\")\n",
    "        for (x, y, r) in detected_circles:\n",
    "            #Draw a cirlce of radius 1 around center to show center\n",
    "            #cv2.circle(image_copy, (x, y), r, (0, 255, 0), 2)\n",
    "            #Draw a circle of radius r around center to show radius\n",
    "            #cv2.circle(image_copy, (x, y), 1, (0, 0, 255), 3)\n",
    "            #Show the image\n",
    "            #cv2.imshow(image_copy)\n",
    "            #print({x}, {y})\n",
    "            return (x, y)\n",
    "    #Debug\n",
    "    else:\n",
    "        print(\"No circle found\")\n",
    "        return None\n",
    "\n",
    "#To determine the effective radius, as mentioned, I plot the brightness against increasing radius\n",
    "def radii_fluxes_from_image(image, center):\n",
    "    x, y = center\n",
    "    image_copy = image.copy()\n",
    "    gray_image = cv2.normalize(image_copy, None, 0, 255, cv2.NORM_MINMAX, cv2.CV_8U)\n",
    "\n",
    "    #Each image is mach 1024 pixels wide, so set the maximum to 1000 to be safe\n",
    "    radii = range(1, 1000, 5)\n",
    "    flux = []\n",
    "\n",
    "    for r in radii:\n",
    "        mask = np.zeros_like(gray_image)\n",
    "        cv2.circle(mask, (x, y), r, (255, 255, 255), -1)\n",
    "\n",
    "        #Applying mask to the image\n",
    "        #Masking is one of the most important features that I take advantage of with opencv\n",
    "        #This makes it so the circle of Titan is the ONLY part of the image that is showing and the rest is turned to either 0 or 1\n",
    "        masked = cv2.bitwise_and(gray_image, gray_image, mask=mask)\n",
    "        flux.append(np.sum(masked))\n",
    "    return radii, flux\n",
    "\n",
    "#Manual inspection and testing\n",
    "def radii_fluxes_plot(radii, flux):\n",
    "    plt.plot(radii, flux)\n",
    "    plt.xlabel(\"Radius\")\n",
    "    plt.ylabel(\"Flux\")\n",
    "    plt.title(\"Flux vs. Radius\")\n",
    "    plt.show()\n",
    "\n",
    "#To determine the effective radius, I originally used a gradient\n",
    "#When the slope approaches 0, then that is a good point\n",
    "#It works because Titan is really close to the Earth and the images have a lot of pixels\n",
    "#But, in general, we don't have the luxury of so many pixels so just getting in the practice that this plateau point is determined when the difference between the current and previous pixel is...\n",
    "#...much much less than the previous pixel\n",
    "def effective_radius(radii, flux):\n",
    "    for i in range(1, len(flux)):\n",
    "        if flux[i] - flux[i-1] < 0.01 * flux[i-1]:\n",
    "            return radii[i]\n",
    "    #If no plateau is detected can return last radius\n",
    "    #return radii[-1]\n",
    "\n",
    "    #Debugging\n",
    "    print(\"No plateau found\")\n",
    "    return None"
   ]
  },
  {
   "cell_type": "markdown",
   "metadata": {},
   "source": [
    "Unlike brightness images where pixel units are in $\\frac{I}{F}$, degree of linear polarization is unitless. To go from the intensity, polarization, and theta images to disk-integrated Q/I or polarization, I do a proper sum which takes into account how much each pixel contributes to the total. To give a little bit of background and starting with small assumptions; using Stokes vector, we define the degree of linear polarization(no circular polarization) as:\n",
    "\n",
    "\\begin{equation}\n",
    "P = \\frac{\\sqrt{Q^2 + U^2}}{I}.\n",
    "\\end{equation}\n",
    "\n",
    "Since each pixel has a calculated version of P, Q, and U, a more accurate representation is per pixel:\n",
    "\n",
    "\\begin{equation}\n",
    "P_i = \\frac{\\sqrt{(Q_i)^2 + (U_i)^2}}{I_i}.\n",
    "\\end{equation}\n",
    "\n",
    "So we can find the total degree of linear polarization by summing all pixels on Titan. In a simplified case, let's assume that there is no U, and there is only a Q component, when we can say:\n",
    "\n",
    "\\begin{equation}\n",
    "P_i = \\frac{Q_i}{I_i}.\n",
    "\\end{equation}\n",
    "\n",
    "Which can be reworked as a weighted sum for total linear polarization or $\\frac{Q}{I}$ as:\n",
    "\n",
    "\\begin{equation}\n",
    "\\frac{Q}{I} = P = \\frac{\\sum_{j} \\frac{I_j}{F} P_j}{\\sum_{j }\\frac{I_j}{F}}.\n",
    "\\end{equation}\n",
    "\n",
    "One last thing to note is there there are two ways to go about this, doing just the disk of Titan or the whole image. Since we are doing a weighted sum and pixels off of the disk of Titan in the IF image fall to zero, the poalrization values off of the disk Titan won't contribute much at all, so we can jsut sum over entire image - although I put it both ways to be safe and test and after testing, less thant 1% error."
   ]
  },
  {
   "cell_type": "code",
   "execution_count": 16,
   "metadata": {},
   "outputs": [],
   "source": [
    "def simple_dlop(pol_image, IF_image, center, radius):\n",
    "    #pol short for polarization images\n",
    "    mask_pol = np.zeros_like(pol_image)\n",
    "    #Fills the circle with 1s and the outside is 0\n",
    "    #So that when we sum, we multiply the image by the mask, and the 0 multiplication gets rid of eveything outside of the disk\n",
    "    #And everything inside the disk is summed but stays the same because multiplied by 1\n",
    "    cv2.circle(mask_pol, center, radius, 1, thickness=-1)\n",
    "    pol_masked = pol_image * mask_pol\n",
    "\n",
    "    #ins short for I/F images\n",
    "    mask_IF = np.zeros_like(IF_image)\n",
    "    cv2.circle(mask_IF, center, radius, 1, thickness=-1)\n",
    "    IF_masked = IF_image * mask_IF\n",
    "\n",
    "    #weighted = np.sum(IF_masked * pol_masked)\n",
    "    #total_IF = np.sum(IF_masked)\n",
    "\n",
    "    weighted = np.sum(IF_image * pol_image)\n",
    "    total_IF = np.sum(IF_image)\n",
    "\n",
    "\n",
    "    return weighted / total_IF"
   ]
  },
  {
   "cell_type": "markdown",
   "metadata": {},
   "source": [
    "Here, we input the path where the calibrated AND poalrized images are located. Of course, this is unique to my setup and the data that I have."
   ]
  },
  {
   "cell_type": "code",
   "execution_count": 17,
   "metadata": {},
   "outputs": [],
   "source": [
    "pol_images = r'C:\\Users\\Alex\\Desktop\\Titan\\Polarized Images\\GRN_P\\GRN_POL'\n",
    "\n",
    "#Have the same path\n",
    "IF_images = r'C:\\Users\\Alex\\Desktop\\Titan\\Polarized Images\\GRN_P\\GRN_POL'\n",
    "\n",
    "pol_IF_metadata = r'C:\\Users\\Alex\\Desktop\\Titan\\Polarized Images\\GRN_P\\GRN_POL\\pol_data.csv'\n",
    "#Reading the csv file\n",
    "parameters_df = pd.read_csv(pol_IF_metadata)"
   ]
  },
  {
   "cell_type": "markdown",
   "metadata": {},
   "source": [
    "Because we have to sort through different files in the same folder, it gets kinda messy, but here is a way to make it work: I can group the center and effectiv radius (x, y, r) and create a dictionary, in the folder there are three .VIC that correspond to the same image, hence they have the same beginning but different ending, i.e NXXXXXX_pol.vic and NXXXXXXX_I_over_F.vic, so we can match the corrdinates from the I_over_F coordinates to the _pol.vic images."
   ]
  },
  {
   "cell_type": "code",
   "execution_count": 18,
   "metadata": {},
   "outputs": [
    {
     "name": "stdout",
     "output_type": "stream",
     "text": [
      "N1486913_I_over_F.vic: (np.int64(253), np.int64(263)), 181\n",
      "N1494007_I_over_F.vic: (np.int64(447), np.int64(340)), 361\n",
      "N1499415_I_over_F.vic: (np.int64(523), np.int64(523)), 371\n",
      "N1515805_I_over_F.vic: (np.int64(517), np.int64(517)), 376\n",
      "N1521214_I_over_F.vic: (np.int64(532), np.int64(527)), 391\n",
      "N1526619_I_over_F.vic: (np.int64(478), np.int64(521)), 406\n",
      "N1530756_I_over_F.vic: (np.int64(531), np.int64(506)), 361\n",
      "N1534852_I_over_F.vic: (np.int64(490), np.int64(513)), 376\n",
      "N1536147_I_over_F.vic: (np.int64(506), np.int64(511)), 401\n",
      "N1537508_I_over_F.vic: (np.int64(512), np.int64(523)), 381\n",
      "N1547135_I_over_F.vic: (np.int64(527), np.int64(514)), 401\n",
      "N1549547_I_over_F.vic: (np.int64(512), np.int64(496)), 411\n",
      "N1551056_I_over_F.vic: (np.int64(482), np.int64(495)), 381\n",
      "N1553821_I_over_F.vic: (np.int64(518), np.int64(532)), 336\n",
      "N1556523_I_over_F.vic: (np.int64(501), np.int64(551)), 391\n",
      "N1557905_I_over_F.vic: (np.int64(484), np.int64(571)), 376\n",
      "N1559282_I_over_F.vic: (np.int64(494), np.int64(560)), 371\n",
      "N1567440_I_over_F.vic: (np.int64(524), np.int64(520)), 361\n",
      "N1570185_I_over_F.vic: (np.int64(511), np.int64(532)), 391\n",
      "N1571476_I_over_F.vic: (np.int64(521), np.int64(535)), 346\n",
      "N1577094_I_over_F.vic: (np.int64(489), np.int64(539)), 371\n",
      "N1579533_I_over_F.vic: (np.int64(495), np.int64(509)), 371\n",
      "N1582634_I_over_F.vic: (np.int64(562), np.int64(514)), 356\n",
      "N1585391_I_over_F.vic: (np.int64(518), np.int64(530)), 371\n",
      "N1617163_I_over_F.vic: (np.int64(244), np.int64(250)), 206\n",
      "N1617165_I_over_F.vic: (np.int64(277), np.int64(244)), 201\n"
     ]
    }
   ],
   "source": [
    "#Grouping the circle center and radius for our dictionary\n",
    "def find_circle_params(image_path):\n",
    "    vic = vicar.VicarImage(image_path, strict=False)\n",
    "    image = vic.data_2d\n",
    "    center = image_center(image)\n",
    "    radii, fluxes = radii_fluxes_from_image(image, center)\n",
    "    eff_radius = effective_radius(radii, fluxes)\n",
    "    return center, eff_radius\n",
    "\n",
    "#Creating a dictionary with the opus_id being used as the key since it matches the polarized images and IF images\n",
    "#And the corresponding center coordinates and effective radius are stored as the value\n",
    "\n",
    "circle_params = {}\n",
    "for filename in os.listdir(IF_images):\n",
    "    if filename.endswith('_I_over_F.vic'):\n",
    "        coordinate_image_path = os.path.join(IF_images, filename)\n",
    "        opus_id = filename.split('_')[0]\n",
    "        try:\n",
    "            center, eff_radius = find_circle_params(coordinate_image_path)\n",
    "            circle_params[opus_id] = (center, eff_radius)\n",
    "            print(f'{filename}: {center}, {eff_radius}')\n",
    "        #Debug\n",
    "        except Exception as e:\n",
    "            print(f\"{filename}: {e}\")"
   ]
  },
  {
   "cell_type": "markdown",
   "metadata": {},
   "source": [
    "Finally, we have a center and effective radius in order to mask the polarized image and calculate the total degree of linear polarization, or a simplified case of $\\frac{Q}{I}$, and we already know the phase angle from the metadata. So this follows the exact same process as that of the brightness-phase curves, jsut with different naming conventions and a center and effective radius line."
   ]
  },
  {
   "cell_type": "code",
   "execution_count": 19,
   "metadata": {},
   "outputs": [
    {
     "name": "stdout",
     "output_type": "stream",
     "text": [
      "N1486913_Pol.vic: 0.05082380399107933\n",
      "N1494007_Pol.vic: 0.20854857563972473\n",
      "N1499415_Pol.vic: 0.2674269378185272\n",
      "N1515805_Pol.vic: 0.13605856895446777\n",
      "N1521214_Pol.vic: 0.3338969945907593\n",
      "N1526619_Pol.vic: 0.4484656751155853\n",
      "N1530756_Pol.vic: 0.3292287588119507\n",
      "N1534852_Pol.vic: 0.3200559616088867\n",
      "N1536147_Pol.vic: 0.27001720666885376\n",
      "N1537508_Pol.vic: 0.312184602022171\n",
      "N1547135_Pol.vic: 0.3618309497833252\n",
      "N1549547_Pol.vic: 0.3874169886112213\n",
      "N1551056_Pol.vic: 0.30346181988716125\n",
      "N1553821_Pol.vic: 0.18059566617012024\n",
      "N1556523_Pol.vic: 0.0916365534067154\n",
      "N1557905_Pol.vic: 0.059100933372974396\n",
      "N1559282_Pol.vic: 0.04423971101641655\n",
      "N1567440_Pol.vic: 0.04744228720664978\n",
      "N1570185_Pol.vic: 0.06467089056968689\n",
      "N1571476_Pol.vic: 0.41163384914398193\n",
      "N1577094_Pol.vic: 0.14877177774906158\n",
      "N1579533_Pol.vic: 0.26108941435813904\n",
      "N1582634_Pol.vic: 0.25776398181915283\n",
      "N1585391_Pol.vic: 0.3269842565059662\n",
      "N1617163_Pol.vic: 0.43054622411727905\n",
      "N1617165_Pol.vic: 0.44389957189559937\n"
     ]
    }
   ],
   "source": [
    "#List lists for results\n",
    "simple_dlops = []\n",
    "phase_angles = []\n",
    "\n",
    "#Because the .IMG calibrated images don't match 1:1 with the metadata, we have to do some fun things\n",
    "#Same loop as before but additional if for center coords and radius\n",
    "for filename in os.listdir(pol_images):\n",
    "    if filename.endswith('_Pol.vic'):\n",
    "    #if filename.endswith('_Theta.vic'):\n",
    "    #if filename.endswith('_Q.vic'):\n",
    "        pol_image_path = os.path.join(pol_images, filename)\n",
    "        #Since these images are in .IMG(or .VIC) format, simple line to read image from rms-vicar package\n",
    "        pol_vic = vicar.VicarImage(pol_image_path, strict=False)\n",
    "        read_pol_image = pol_vic.data_2d\n",
    "\n",
    "        #The coordinate images are also the _I_over_F.vic images just with that different ending\n",
    "        #Removing that ending they have the exact same naming structure\n",
    "        #Trying a replace, this works because _Pol.vic and _I_over_F.vic are both in the \"polarized images\" folder\n",
    "        #I just named them differently for convenience\n",
    "        IF_image_path = pol_image_path.replace('_Pol.vic', '_I_over_F.vic')\n",
    "        IF_vic = vicar.VicarImage(IF_image_path, strict=False)\n",
    "        read_IF_image = IF_vic.data_2d\n",
    "\n",
    "\n",
    "        opus_id = filename.split('_')[0]\n",
    "        #Comparatively, in the brightness-phase curve we used metadata file from OPUS, but here i created my own\n",
    "        #So no need to add the prefix 'co-iss-' or change from upper to lowercase\n",
    "        parameter_row = parameters_df[parameters_df['OPUS ID'].str.contains(opus_id)]\n",
    "\n",
    "        #opus_id in circle_params becasue both I_over_F and pol images have same naming convention before the understore defined in circle params\n",
    "        if opus_id in circle_params:\n",
    "            center, eff_radius = circle_params[opus_id]\n",
    "\n",
    "            if not parameter_row.empty:\n",
    "                #Assocating the meta data with the image, pixel_scale and phase_angle\n",
    "                phase_angle = parameter_row['Observed Phase Angle (Min) [Titan] (degrees)'].values[0]\n",
    "\n",
    "                s_dlop = simple_dlop(read_pol_image, read_IF_image, center, eff_radius)\n",
    "\n",
    "                #Creating array to plot\n",
    "                phase_angles.append(phase_angle)\n",
    "                simple_dlops.append(s_dlop)\n",
    "\n",
    "                #For manual inspection\n",
    "                print(f'{filename}: {s_dlop}')"
   ]
  },
  {
   "cell_type": "markdown",
   "metadata": {},
   "source": [
    "Now, we have all the important information, an image (or data point) with a degree of a simplified $\\frac{Q}{I}$ (y) and a phase angle(x)."
   ]
  },
  {
   "cell_type": "code",
   "execution_count": 20,
   "metadata": {},
   "outputs": [
    {
     "data": {
      "image/png": "[encoded data removed]",
      "text/plain": [
       "<Figure size 1000x600 with 1 Axes>"
      ]
     },
     "metadata": {},
     "output_type": "display_data"
    }
   ],
   "source": [
    "plt.figure(figsize=(10, 6))\n",
    "plt.scatter(phase_angles, simple_dlops, color='b', marker='x')\n",
    "plt.xlabel('Phase Angle (degrees)')\n",
    "plt.ylabel('Q/I')\n",
    "plt.title('Polarization Phase Curve')\n",
    "plt.show()"
   ]
  },
  {
   "cell_type": "markdown",
   "metadata": {},
   "source": [
    "Having examined outliers(explained in procedure), as a final step for consistency, I use the preliminary plot to gauge an idea for the maximum value. Hence, with this last section, I manually adjust the y axis height and tick number(at least divisible by 5). X-axis remains consistant across all filters."
   ]
  },
  {
   "cell_type": "code",
   "execution_count": 21,
   "metadata": {},
   "outputs": [
    {
     "data": {
      "image/png": "[encoded data removed]",
      "text/plain": [
       "<Figure size 1000x600 with 1 Axes>"
      ]
     },
     "metadata": {},
     "output_type": "display_data"
    }
   ],
   "source": [
    "#Fancy plot for consistency across all plots but also visually will look better\n",
    "filtername = 'CL1_GRN'\n",
    "\n",
    "#Same as before\n",
    "plt.figure(figsize=(10, 6))\n",
    "plt.scatter(phase_angles, simple_dlops, color='b', marker='x', label=f'Filter={filtername}')\n",
    "plt.xlabel('Phase Angle (degrees)')\n",
    "plt.ylabel('Q/I')\n",
    "plt.title('Polarization Phase Curve')\n",
    "\n",
    "#x-ticks(phase angle) at every 10 ticks but a more pronounced tick at every 30 will be more pronounces\n",
    "ax = plt.gca()\n",
    "ax.set_xticks(range(0, 181, 30))\n",
    "ax.set_xticks(range(0, 181, 10), minor=True)\n",
    "ax.tick_params(axis='x', which='major', length=7, width=2, labelsize=12)\n",
    "ax.tick_params(axis='x', which='minor', length=4, width=1, labelsize=10)\n",
    "\n",
    "#Same for the y-axis\n",
    "#While the x-axis is phase so remains consistent\n",
    "ay = plt.gca()\n",
    "#Thicker ticks every 5\n",
    "ay.set_yticks([i * 0.1 for i in range(7)], minor=False)\n",
    "ay.set_yticks([i * 0.05 for i in range(60)], minor=True) \n",
    "plt.ylim(0, 0.60)\n",
    "\n",
    "ay.tick_params(axis='y', which='major', length=7, width=2, labelsize=12)\n",
    "ay.tick_params(axis='y', which='minor', length=4, width=1, labelsize=10)\n",
    "\n",
    "plt.legend()\n",
    "plt.show()"
   ]
  },
  {
   "cell_type": "markdown",
   "metadata": {},
   "source": [
    "W originally had:\n",
    "\n",
    "\\begin{equation}\n",
    "\\frac{Q}{I} = P = \\frac{\\sum_{j} \\frac{I_j}{F} P_j}{\\sum_{j }\\frac{I_j}{F}}.\n",
    "\\end{equation}\n",
    "\n",
    "Where a term\n",
    "\n",
    "\\begin{equation}\n",
    "\\frac {\\mathcal{S^2}_{\\text{pixel}}} {\\pi R_{\\text{target}}}\n",
    "\\end{equation}\n",
    "\n",
    "Was canceled out. Hence, for Q by itself, we essentially do the reflectivity equation weighted by the polarization\n",
    "\n",
    "\\begin{equation}\n",
    "Q = \\frac{ \\sum_{j} \\frac{I_j P_j}{F} \\mathcal{S^2}_{\\text{pixel}}} {\\pi {R^2}_{\\text{target}}}\n",
    "\\end{equation}"
   ]
  },
  {
   "cell_type": "code",
   "execution_count": 22,
   "metadata": {},
   "outputs": [],
   "source": [
    "def simple_stokes_Q(pol_image, IF_image, center, radius, pixel_scale):\n",
    "\n",
    "    mask_pol = np.zeros_like(pol_image)\n",
    "    cv2.circle(mask_pol, center, radius, 1, thickness=-1)\n",
    "    pol_masked = pol_image * mask_pol\n",
    "\n",
    "    mask_IF = np.zeros_like(IF_image)\n",
    "    cv2.circle(mask_IF, center, radius, 1, thickness=-1)\n",
    "    IF_masked = IF_image * mask_IF\n",
    "\n",
    "    #weighted = np.sum(IF_masked * pol_masked)\n",
    "    weighted = np.sum(IF_image * pol_image)\n",
    "\n",
    "    R = 2575 #km\n",
    "\n",
    "    return (weighted * pixel_scale**2) / (np.pi * R**2)"
   ]
  },
  {
   "cell_type": "code",
   "execution_count": 23,
   "metadata": {},
   "outputs": [
    {
     "name": "stdout",
     "output_type": "stream",
     "text": [
      "N1486913_Pol.vic: 0.010298962007531606\n",
      "N1494007_Pol.vic: 0.016345829408237804\n",
      "N1499415_Pol.vic: 0.03620031165291024\n",
      "N1515805_Pol.vic: 0.02301404507328707\n",
      "N1521214_Pol.vic: 0.03846189882853964\n",
      "N1526619_Pol.vic: 0.03631153516448618\n",
      "N1530756_Pol.vic: 0.023741178735546292\n",
      "N1534852_Pol.vic: 0.02201044916189761\n",
      "N1536147_Pol.vic: 0.019048796228386462\n",
      "N1537508_Pol.vic: 0.02169462408323795\n",
      "N1547135_Pol.vic: 0.0238911304710561\n",
      "N1549547_Pol.vic: 0.025499186341981277\n",
      "N1551056_Pol.vic: 0.03549510922526907\n",
      "N1553821_Pol.vic: 0.026930112392160484\n",
      "N1556523_Pol.vic: 0.01657141751639797\n",
      "N1557905_Pol.vic: 0.011579398705822863\n",
      "N1559282_Pol.vic: 0.009135613549300346\n",
      "N1567440_Pol.vic: 0.009874401996303678\n",
      "N1570185_Pol.vic: 0.012590661602277627\n",
      "N1571476_Pol.vic: 0.039748898581614775\n",
      "N1577094_Pol.vic: 0.023951065239886427\n",
      "N1579533_Pol.vic: 0.03396286597688654\n",
      "N1582634_Pol.vic: 0.03395752578074633\n",
      "N1585391_Pol.vic: 0.03756746678771408\n",
      "N1617163_Pol.vic: 0.029821139449103626\n",
      "N1617165_Pol.vic: 0.030425582113816872\n"
     ]
    }
   ],
   "source": [
    "#We use the exact same files and images so nothing from the loop has to change other than the y variable which wil just calculate Q this time\n",
    "\n",
    "simple_Q = []\n",
    "\n",
    "\n",
    "for filename in os.listdir(pol_images):\n",
    "    if filename.endswith('_Pol.vic'):\n",
    "        pol_image_path = os.path.join(pol_images, filename)\n",
    "        pol_vic = vicar.VicarImage(pol_image_path, strict=False)\n",
    "        read_pol_image = pol_vic.data_2d\n",
    "\n",
    "        IF_image_path = pol_image_path.replace('_Pol.vic', '_I_over_F.vic')\n",
    "        IF_vic = vicar.VicarImage(IF_image_path, strict=False)\n",
    "        read_IF_image = IF_vic.data_2d\n",
    "\n",
    "        opus_id = filename.split('_')[0]\n",
    "        parameter_row = parameters_df[parameters_df['OPUS ID'].str.contains(opus_id)]\n",
    "\n",
    "        if opus_id in circle_params:\n",
    "            center, eff_radius = circle_params[opus_id]\n",
    "\n",
    "            if not parameter_row.empty:\n",
    "                #Only additions are simple_stokes_Q function for y axis change and adding pixel_scale\n",
    "                phase_angle = parameter_row['Observed Phase Angle (Min) [Titan] (degrees)'].values[0]\n",
    "                pixel_scale = parameter_row['Body Center Resolution (Min) [Titan] (km/pixel)'].values[0]\n",
    "\n",
    "                s_q = simple_stokes_Q(read_pol_image, read_IF_image, center, eff_radius, pixel_scale)\n",
    "\n",
    "                #Creating array to plot\n",
    "                simple_Q.append(s_q)\n",
    "\n",
    "                #For manual inspection\n",
    "                print(f'{filename}: {s_q}')"
   ]
  },
  {
   "cell_type": "code",
   "execution_count": 24,
   "metadata": {},
   "outputs": [
    {
     "data": {
      "image/png": "[encoded data removed]",
      "text/plain": [
       "<Figure size 1000x600 with 1 Axes>"
      ]
     },
     "metadata": {},
     "output_type": "display_data"
    }
   ],
   "source": [
    "#And we plot again\n",
    "\n",
    "plt.figure(figsize=(10, 6))\n",
    "plt.scatter(phase_angles, simple_Q, color='b', marker='x')\n",
    "plt.xlabel('Phase Angle (degrees)')\n",
    "plt.ylabel('Q')\n",
    "plt.title('Polarization Phase Curve')\n",
    "plt.show()"
   ]
  },
  {
   "cell_type": "code",
   "execution_count": 25,
   "metadata": {},
   "outputs": [
    {
     "data": {
      "image/png": "[encoded data removed]",
      "text/plain": [
       "<Figure size 1000x600 with 1 Axes>"
      ]
     },
     "metadata": {},
     "output_type": "display_data"
    }
   ],
   "source": [
    "#Fancy plot for consistency across all plots but also visually will look better\n",
    "filtername = 'CL1_GRN'\n",
    "\n",
    "plt.figure(figsize=(10, 6))\n",
    "plt.scatter(phase_angles, simple_Q, color='b', marker='x', label=f'Filter={filtername}')\n",
    "plt.xlabel('Phase Angle (degrees)')\n",
    "plt.ylabel('Q')\n",
    "plt.title('Polarization Phase Curve')\n",
    "\n",
    "#x-ticks(phase angle) at every 10 ticks but a more pronounced tick at every 30 will be more pronounces\n",
    "ax = plt.gca()\n",
    "ax.set_xticks(range(0, 181, 30))\n",
    "ax.set_xticks(range(0, 181, 10), minor=True)\n",
    "ax.tick_params(axis='x', which='major', length=7, width=2, labelsize=12)\n",
    "ax.tick_params(axis='x', which='minor', length=4, width=1, labelsize=10)\n",
    "\n",
    "#Same for the y-axis\n",
    "#While the x-axis is phase so remains consistent\n",
    "ay = plt.gca()\n",
    "#Thicker ticks every 5\n",
    "ay.set_yticks([i * 0.01 for i in range(6)], minor=False)\n",
    "ay.set_yticks([i * 0.005 for i in range(50)], minor=True) \n",
    "plt.ylim(0, 0.05)\n",
    "\n",
    "ay.tick_params(axis='y', which='major', length=7, width=2, labelsize=12)\n",
    "ay.tick_params(axis='y', which='minor', length=4, width=1, labelsize=10)\n",
    "\n",
    "plt.legend()\n",
    "plt.show()"
   ]
  },
  {
   "cell_type": "markdown",
   "metadata": {},
   "source": [
    "As a next step; ABOVE, we considered the case where U = 0, such that P = Q/I, but if there is both Q and U, we can determine and plot those individually. After quickly reading through the literature, it can be assumed that U is 0 but, lets take it such that it is not 0, and what we would do in that case. By definition, the degree of linear poalrization is:\n",
    "\n",
    "\\begin{equation}\n",
    "P = \\frac{\\sqrt{Q^2 + U^2}}{I}.\n",
    "\\end{equation}\n",
    "\n",
    "The stokes parameters have the form:\n",
    "\n",
    "\\begin{equation}\n",
    "Q = IPcos(2\\theta)\n",
    "\\end{equation}\n",
    "\n",
    "\\begin{equation}\n",
    "U = IPsin(2\\theta)\n",
    "\\end{equation}\n",
    "\n",
    "Where, we calcualte Q and U per pixel and add up each pixel to get a value for the disk, and can be normalized in the same way as the previous Q and reflectivity equations\n",
    "\n",
    "\\begin{equation}\n",
    "Q = \\frac{ \\sum_{i} \\frac{I_i}{F} P_i cos(2\\theta_{i}) S_{pixel}^2 } {\\pi R_{Titan}^2}\n",
    "\\end{equation}"
   ]
  },
  {
   "cell_type": "code",
   "execution_count": 59,
   "metadata": {},
   "outputs": [],
   "source": [
    "def norm_stokes_Q(pol_image, IF_image, thet_image, center, radius, pixel_scale):\n",
    "    \n",
    "    mask_pol = np.zeros_like(pol_image)\n",
    "    cv2.circle(mask_pol, center, radius, 1, thickness=-1)\n",
    "    pol_masked = pol_image * mask_pol\n",
    "\n",
    "    mask_IF = np.zeros_like(IF_image)\n",
    "    cv2.circle(mask_IF, center, radius, 1, thickness=-1)\n",
    "    IF_masked = IF_image * mask_IF\n",
    "\n",
    "    mask_thet = np.zeros_like(thet_image)\n",
    "    cv2.circle(mask_thet, center, radius, 1, thickness=-1)\n",
    "    thet_masked = thet_image * mask_thet\n",
    "\n",
    "    #weighted = np.sum(IF_masked * pol_masked * np.cos(2*thet_masked))\n",
    "    \n",
    "    thet_rad = np.deg2rad(thet_image)\n",
    "\n",
    "    weighted = np.sum(IF_image * pol_image * np.cos(2*thet_rad))\n",
    "\n",
    "    R = 2575 #km\n",
    "\n",
    "    return (weighted * pixel_scale**2) / (np.pi * R**2)\n",
    "    #We are inevitibly getting really small values because we are integrating over Titan's disk area\n",
    "    #Attempt to ingrate of the disk then normalize post=hoc for plotting\n",
    "    #return weighted / np.sum(IF_masked)\n",
    "\n",
    "\n",
    "def norm_stokes_U(pol_image, IF_image, thet_image, center, radius, pixel_scale):\n",
    "    \n",
    "    mask_pol = np.zeros_like(pol_image)\n",
    "    cv2.circle(mask_pol, center, radius, 1, thickness=-1)\n",
    "    pol_masked = pol_image * mask_pol\n",
    "\n",
    "    mask_IF = np.zeros_like(IF_image)\n",
    "    cv2.circle(mask_IF, center, radius, 1, thickness=-1)\n",
    "    IF_masked = IF_image * mask_IF\n",
    "\n",
    "    mask_thet = np.zeros_like(thet_image)\n",
    "    cv2.circle(mask_thet, center, radius, 1, thickness=-1)\n",
    "    thet_masked = thet_image * mask_thet\n",
    "\n",
    "    #weighted = np.sum(IF_masked * pol_masked * np.sin(2*thet_masked))\n",
    "    thet_rad = np.deg2rad(thet_image)\n",
    "\n",
    "    weighted = np.sum(IF_image * pol_image * np.sin(2*thet_rad))\n",
    "\n",
    "    R = 2575 #km\n",
    "\n",
    "    return (weighted * pixel_scale**2) / (np.pi * R**2)\n",
    "    #return weighted / np.sum(IF_masked)"
   ]
  },
  {
   "cell_type": "markdown",
   "metadata": {},
   "source": [
    "And we run the same look as a visual test because again, we use the same images, just changing the y axis and adding a theta section."
   ]
  },
  {
   "cell_type": "code",
   "execution_count": 60,
   "metadata": {},
   "outputs": [
    {
     "name": "stdout",
     "output_type": "stream",
     "text": [
      "N1486913_Pol.vic: -0.00873829480063734, -0.00030802877218748346\n",
      "N1494007_Pol.vic: -0.016011557436849087, -0.00012479445136319076\n",
      "N1499415_Pol.vic: -0.03590104983890847, -0.002017594007385019\n",
      "N1515805_Pol.vic: -0.022464273721995717, -0.00027241989919142253\n",
      "N1521214_Pol.vic: -0.03827719529746212, -0.0002245172269108223\n",
      "N1526619_Pol.vic: -0.0362006695301212, -0.00017110031904019038\n",
      "N1530756_Pol.vic: -0.023603643123339717, -0.00029847666328648454\n",
      "N1534852_Pol.vic: -0.02188434821610462, -0.0002859416252826722\n",
      "N1536147_Pol.vic: -0.018877848294264685, -0.0005765087336591543\n",
      "N1537508_Pol.vic: -0.021569500186883483, -0.00011112216003207057\n",
      "N1547135_Pol.vic: -0.023771723524769243, -0.00019104602591195308\n",
      "N1549547_Pol.vic: -0.025379986374595133, -0.0008221549118107679\n",
      "N1551056_Pol.vic: -0.035100767901122855, -0.0012399332560334181\n",
      "N1553821_Pol.vic: -0.026391426976096526, -0.0003965691388034176\n",
      "N1556523_Pol.vic: -0.015426435738343328, -0.0008066561048424314\n",
      "N1557905_Pol.vic: -0.00977362735712085, -0.0006823872687843245\n",
      "N1559282_Pol.vic: -0.006338684110016844, -0.0004336931744290279\n",
      "N1567440_Pol.vic: 0.005076658788201483, 0.004456264874508754\n",
      "N1570185_Pol.vic: -0.011144949838260117, -0.0005891460800930212\n",
      "N1571476_Pol.vic: -0.03724916661095298, -0.013462866044558815\n",
      "N1577094_Pol.vic: -0.023447117144431723, -0.00033249208848554575\n",
      "N1579533_Pol.vic: -0.033605794436735885, 0.00038845582251441135\n",
      "N1582634_Pol.vic: 0.017581444602273517, 0.028837447991801775\n",
      "N1585391_Pol.vic: 0.024199957724294802, 0.028513729615717506\n",
      "N1617163_Pol.vic: 0.02974274705274924, -2.7342881353798208e-05\n",
      "N1617165_Pol.vic: 0.01464766268801176, 0.02651540739248401\n"
     ]
    }
   ],
   "source": [
    "#We use the exact same files and images so nothing from the loop has to change other than the y variable which wil just calculate Q this time\n",
    "\n",
    "norm_Q = []\n",
    "norm_U = []\n",
    "\n",
    "\n",
    "for filename in os.listdir(pol_images):\n",
    "    if filename.endswith('_Pol.vic'):\n",
    "        pol_image_path = os.path.join(pol_images, filename)\n",
    "        pol_vic = vicar.VicarImage(pol_image_path, strict=False)\n",
    "        read_pol_image = pol_vic.data_2d\n",
    "\n",
    "        IF_image_path = pol_image_path.replace('_Pol.vic', '_I_over_F.vic')\n",
    "        IF_vic = vicar.VicarImage(IF_image_path, strict=False)\n",
    "        read_IF_image = IF_vic.data_2d\n",
    "\n",
    "        thet_image_path = pol_image_path.replace('_Pol.vic', '_Theta.vic')\n",
    "        thet_vic = vicar.VicarImage(thet_image_path, strict=False)\n",
    "        read_thet_image = thet_vic.data_2d\n",
    "\n",
    "        opus_id = filename.split('_')[0]\n",
    "        parameter_row = parameters_df[parameters_df['OPUS ID'].str.contains(opus_id)]\n",
    "\n",
    "        if opus_id in circle_params:\n",
    "            center, eff_radius = circle_params[opus_id]\n",
    "\n",
    "            if not parameter_row.empty:\n",
    "                #Only additions are simple_stokes_Q function for y axis change and adding pixel_scale\n",
    "                phase_angle = parameter_row['Observed Phase Angle (Min) [Titan] (degrees)'].values[0]\n",
    "                pixel_scale = parameter_row['Body Center Resolution (Min) [Titan] (km/pixel)'].values[0]\n",
    "\n",
    "                n_q = norm_stokes_Q(read_pol_image, read_IF_image, read_thet_image, center, eff_radius, pixel_scale)\n",
    "                n_u = norm_stokes_U(read_pol_image, read_IF_image, read_thet_image, center, eff_radius, pixel_scale)\n",
    "\n",
    "                #Creating array to plot\n",
    "                norm_Q.append(n_q)\n",
    "                norm_U.append(n_u)\n",
    "\n",
    "                #For manual inspection\n",
    "                print(f'{filename}: {n_q}, {n_u}')"
   ]
  },
  {
   "cell_type": "code",
   "execution_count": 61,
   "metadata": {},
   "outputs": [
    {
     "data": {
      "image/png": "[encoded data removed]",
      "text/plain": [
       "<Figure size 1000x600 with 1 Axes>"
      ]
     },
     "metadata": {},
     "output_type": "display_data"
    }
   ],
   "source": [
    "#For sanity we plot; looks pretty much exaclty the same whether or not we do the whole image os masked image\n",
    "\n",
    "plt.figure(figsize=(10, 6))\n",
    "plt.scatter(phase_angles, norm_Q, color='b', marker='x')\n",
    "plt.scatter(phase_angles, norm_U, color='r', marker='x')\n",
    "plt.xlabel('Phase Angle (degrees)')\n",
    "plt.ylabel('Q')\n",
    "plt.title('Polarization Phase Curve')\n",
    "plt.show()"
   ]
  },
  {
   "cell_type": "markdown",
   "metadata": {},
   "source": [
    "With the specific values of Q and U depending on the choice of the reference system. We introduce a new reference frame where Q_cam and U_cam are the stokes parameters before projection, such that we can find the new components after rotation as:\n",
    "\n",
    "\\begin{equation}\n",
    "\n",
    "\\begin{bmatrix} \n",
    "I \\\\ Q \\\\ U \n",
    "\\end{bmatrix}\n",
    "=\n",
    "\\begin{bmatrix}\n",
    "1 & 0 & 0 \\\\\n",
    "0 & \\cos(2\\theta') & \\sin(2\\theta') \\\\\n",
    "0 & -\\sin(2\\theta') & \\cos(2\\theta')\n",
    "\\end{bmatrix}\n",
    "\n",
    "\\begin{bmatrix} \n",
    "I_{\\text{cam}} \\\\ Q_{\\text{cam}} \\\\ U_{\\text{cam}} \n",
    "\\end{bmatrix}\n",
    "\\end{equation}\n",
    "\n",
    "Which gives us the following equations, wher theta is the polarization(or projection) angle:\n",
    "\n",
    "\\begin{equation}\n",
    "Q = Q_{cam}cos(2\\theta') + U_{cam}sin(2\\theta')\n",
    "\\end{equation}\n",
    "\n",
    "\\begin{equation}\n",
    "U = -Q_{cam}sin(2\\theta') + U_{cam}cos(2\\theta')\n",
    "\\end{equation}\n",
    "\n",
    "To ensure that this works, lets consider again the case where U = 0, this would mean that the electric field vector of polarized lights coming from Titan hs to be either parallel or perpendicular to the camera's Y-axis; this is done by setting the scattering plane to be perpendicular to the camera y-axis. If U = 0, then we can calculate the projection angle,\n",
    "\n",
    "\\begin{equation}\n",
    "0 = -Q_{cam}sin(2\\theta') + U_{cam}cos(2\\theta')\n",
    "\\end{equation}\n",
    "\n",
    "\\begin{equation}\n",
    "tan(2\\theta') = \\frac{U_{cam}}{Q_{cam}}\n",
    "\\end{equation}\n",
    "\n",
    "\\begin{equation}\n",
    "\\theta' = \\frac{1}{2} arctan\\frac{U_{cam}}{Q_{cam}}\n",
    "\\end{equation}\n",
    "\n",
    "We've already built the functions to calculate Q_cam and U_cam in the original reference frame above, so now we just need to setup calculation for Q and $\\theta$'."
   ]
  },
  {
   "cell_type": "code",
   "execution_count": 62,
   "metadata": {},
   "outputs": [],
   "source": [
    "def rotate_Q(Q_cam, U_cam):\n",
    "    x = U_cam / Q_cam\n",
    "    new_theta =  0.5 * np.arctan(x)\n",
    "    #new_theta =  0.5 * np.arctan2(U_cam, Q_cam)\n",
    "    return Q_cam * np.cos(2 * new_theta) + U_cam * np.sin(2 * new_theta)"
   ]
  },
  {
   "cell_type": "markdown",
   "metadata": {},
   "source": [
    "And again, we use the same loop just adding a line to calculate the rotated Q assuming U = 0."
   ]
  },
  {
   "cell_type": "code",
   "execution_count": 63,
   "metadata": {},
   "outputs": [
    {
     "name": "stdout",
     "output_type": "stream",
     "text": [
      "N1486913_Pol.vic: -0.008743722190654326, -1.553178399649616, -0.00030802877218748346, 0.008743722190654326\n",
      "N1494007_Pol.vic: -0.016012043754893013, -1.5668993940638678, -0.00012479445136319076, 0.016012043754893013\n",
      "N1499415_Pol.vic: -0.03595769827331035, -1.5427264795721018, -0.002017594007385019, 0.03595769827331034\n",
      "N1515805_Pol.vic: -0.02246592545296594, -1.5647332207766778, -0.00027241989919142253, 0.022465925452965937\n",
      "N1521214_Pol.vic: -0.03827785375155242, -1.567863579889131, -0.0002245172269108223, 0.03827785375155242\n",
      "N1526619_Pol.vic: -0.036201073875621714, -1.568433124025524, -0.00017110031904019038, 0.036201073875621714\n",
      "N1530756_Pol.vic: -0.02360553022095689, -1.5644739816821933, -0.00029847666328648454, 0.023605530220956888\n",
      "N1534852_Pol.vic: -0.02188621619779881, -1.5642636818190478, -0.0002859416252826722, 0.021886216197798805\n",
      "N1536147_Pol.vic: -0.018886649214226895, -1.5555316206999734, -0.0005765087336591543, 0.018886649214226895\n",
      "N1537508_Pol.vic: -0.021569786425609708, -1.5682204401035418, -0.00011112216003207057, 0.021569786425609708\n",
      "N1547135_Pol.vic: -0.023772491201430365, -1.5667780671859157, -0.00019104602591195308, 0.02377249120143037\n",
      "N1549547_Pol.vic: -0.025393299255387223, -1.554605074724098, -0.0008221549118107679, 0.02539329925538722\n",
      "N1551056_Pol.vic: -0.03512266137023096, -1.553141187541147, -0.0012399332560334181, 0.03512266137023096\n",
      "N1553821_Pol.vic: -0.026394406318697276, -1.5632836732429842, -0.0003965691388034176, 0.026394406318697276\n",
      "N1556523_Pol.vic: -0.015447511568557436, -1.5446748652362767, -0.0008066561048424314, 0.015447511568557436\n",
      "N1557905_Pol.vic: -0.009797420277831302, -1.5359432646416422, -0.0006823872687843245, 0.009797420277831304\n",
      "N1559282_Pol.vic: -0.0063535034442523414, -1.536639527734794, -0.0004336931744290279, 0.0063535034442523414\n",
      "N1567440_Pol.vic: 0.00675505448413289, 0.3602053627798418, 0.004456264874508754, 0.006755054484132891\n",
      "N1570185_Pol.vic: -0.0111605107410469, -1.5443898271930274, -0.0005891460800930212, 0.011160510741046898\n",
      "N1571476_Pol.vic: -0.03960743838402415, -1.3973870478711565, -0.013462866044558815, 0.03960743838402415\n",
      "N1577094_Pol.vic: -0.02344947447968951, -1.5637065467906484, -0.00033249208848554575, 0.02344947447968951\n",
      "N1579533_Pol.vic: -0.033608039479419115, 1.565016988302115, 0.00038845582251441135, 0.033608039479419115\n",
      "N1582634_Pol.vic: 0.03377433346466936, 0.5116469402442546, 0.028837447991801775, 0.03377433346466936\n",
      "N1585391_Pol.vic: 0.037398806537854934, 0.43352510926643617, 0.028513729615717506, 0.03739880653785494\n",
      "N1617163_Pol.vic: 0.029742759621073905, -0.0004596561575582589, -2.7342881353798208e-05, 0.0297427596210739\n",
      "N1617165_Pol.vic: 0.03029225728484372, 0.5330482163499686, 0.02651540739248401, 0.03029225728484372\n"
     ]
    }
   ],
   "source": [
    "rotate_Qs = []\n",
    "dlop_test = []\n",
    "\n",
    "for filename in os.listdir(pol_images):\n",
    "    if filename.endswith('_Pol.vic'):\n",
    "        pol_image_path = os.path.join(pol_images, filename)\n",
    "        pol_vic = vicar.VicarImage(pol_image_path, strict=False)\n",
    "        read_pol_image = pol_vic.data_2d\n",
    "\n",
    "        IF_image_path = pol_image_path.replace('_Pol.vic', '_I_over_F.vic')\n",
    "        IF_vic = vicar.VicarImage(IF_image_path, strict=False)\n",
    "        read_IF_image = IF_vic.data_2d\n",
    "\n",
    "        thet_image_path = pol_image_path.replace('_Pol.vic', '_Theta.vic')\n",
    "        thet_vic = vicar.VicarImage(thet_image_path, strict=False)\n",
    "        read_thet_image = thet_vic.data_2d\n",
    "\n",
    "        opus_id = filename.split('_')[0]\n",
    "        parameter_row = parameters_df[parameters_df['OPUS ID'].str.contains(opus_id)]\n",
    "\n",
    "        if opus_id in circle_params:\n",
    "            center, eff_radius = circle_params[opus_id]\n",
    "\n",
    "            if not parameter_row.empty:\n",
    "                #Only additions are simple_stokes_Q function for y axis change and adding pixel_scale\n",
    "                phase_angle = parameter_row['Observed Phase Angle (Min) [Titan] (degrees)'].values[0]\n",
    "                pixel_scale = parameter_row['Body Center Resolution (Min) [Titan] (km/pixel)'].values[0]\n",
    "\n",
    "                n_q = norm_stokes_Q(read_pol_image, read_IF_image, read_thet_image, center, eff_radius, pixel_scale)\n",
    "                n_u = norm_stokes_U(read_pol_image, read_IF_image, read_thet_image, center, eff_radius, pixel_scale)\n",
    "                r_q = rotate_Q(n_q, n_u)\n",
    "                thet_test = 0.5 * np.arctan2(n_u, n_q)\n",
    "                polar_test = np.sqrt(n_q**2 + n_u**2)\n",
    "\n",
    "                #Creating array to plot\n",
    "                rotate_Qs.append(r_q)\n",
    "                dlop_test.append(polar_test)\n",
    "\n",
    "                #For manual inspection\n",
    "                print(f'{filename}: {r_q}, {thet_test}, {n_u}, {polar_test}')"
   ]
  },
  {
   "cell_type": "markdown",
   "metadata": {},
   "source": [
    "Thoughts: After this test, I see that polar test, where I try to calculate the degree of linear polarization and r_q, which is the rotated frame are the exact same. I supsect that the reason is because the rotated angle is approximatly zero, since Q is so small; this means that theta prime is also going to be really small(as seen) or approximately zero. Which means that the new Q will be approximately still just Q_cam since U_cam is multiplied by 0. BUT, then why would polar test which calculates Q_cam; and DLOP is really small and approximately Q_cam because U_cam is even closr to zero than theta prime."
   ]
  },
  {
   "cell_type": "markdown",
   "metadata": {},
   "source": [
    "Thoughts: SO the root culprite in the small calculations HAS to be this calculation for Q_cam and U_cam. The issue isn't any of the rotation or tensor logic, its upstream."
   ]
  },
  {
   "cell_type": "code",
   "execution_count": 64,
   "metadata": {},
   "outputs": [
    {
     "data": {
      "image/png": "[encoded data removed]",
      "text/plain": [
       "<Figure size 1000x600 with 1 Axes>"
      ]
     },
     "metadata": {},
     "output_type": "display_data"
    }
   ],
   "source": [
    "#For sanity we plot; looks pretty much exaclty the same whether or not we do the whole image os masked image\n",
    "\n",
    "plt.figure(figsize=(10, 6))\n",
    "plt.scatter(phase_angles, rotate_Qs, color='b', marker='x')\n",
    "plt.xlabel('Phase Angle (degrees)')\n",
    "plt.ylabel('Q')\n",
    "plt.title('Polarization Phase Curve')\n",
    "plt.show()"
   ]
  },
  {
   "cell_type": "markdown",
   "metadata": {},
   "source": [
    "This was expected, but we will progress with an alternative method using tensors. THIS METHOD is all derived from the work of N. Ilic. While the code is original, the math and explanations behind the theory belong to N. Ilic, I only take credit for writing out the code, nothing else."
   ]
  },
  {
   "cell_type": "markdown",
   "metadata": {},
   "source": [
    "The goal is to determine the direction of symmetry of brightness and to assume that it is perpendicular to the scattering plane, which will be done by solving the Eigenproblem for the tensor of brightness inertia. The elements of the tensor are the moments of inertia and they give the distribution of bright pixels relative to the x- and the y-axis that are going through the center of brightness of the disk. The tensor has to be determined for each brightness image and as a result it gives the direction of symmetry of brightness for that image."
   ]
  },
  {
   "cell_type": "markdown",
   "metadata": {},
   "source": [
    "The tensor of interia has the form:\n",
    "\n",
    "\\begin{equation}\n",
    "\n",
    "M\n",
    "=\n",
    "\\begin{bmatrix}\n",
    "I_{xx} & -I_{xy} \\\\\n",
    "-I_{xy} & I_{yy}\n",
    "\\end{bmatrix}\n",
    "\n",
    "\\end{equation}\n",
    "\n",
    "With the elements being the moments of intertia along the x and y axis:\n",
    "\n",
    "\\begin{equation}\n",
    "I_{xx} = \\sum_{ij} (y_{ij} - y_{cm})^2 I_{ij}\n",
    "\\end{equation}\n",
    "\n",
    "\\begin{equation}\n",
    "I_{yy} = \\sum_{ij} (x_{ij} - x_{cm})^2 I_{ij}\n",
    "\\end{equation}\n",
    "\n",
    "\\begin{equation}\n",
    "I_{xy} = \\sum_{ij} (y_{ij} - y_{cm})(x_{ij} - x_{cm}) I_{ij}\n",
    "\\end{equation}"
   ]
  },
  {
   "cell_type": "code",
   "execution_count": 32,
   "metadata": {},
   "outputs": [],
   "source": [
    "#Creating a 2x2 intertia tensor for brightness centered at the center of the disk of Titan\n",
    "#Center given by image_center_tensor\n",
    "def tensor_calc(image, center):\n",
    "\n",
    "    y_index, x_index = np.indices(image.shape)\n",
    "    dx = x_index - center[0]\n",
    "    dy = y_index - center[1]\n",
    "\n",
    "    Ixx = np.sum((dy**2)*image)\n",
    "    Iyy = np.sum((dx**2)*image)\n",
    "    Ixy = np.sum((dy * dx)*image)\n",
    "\n",
    "    M = np.array([[Ixx, -Ixy],\n",
    "                  [-Ixy, Iyy]])\n",
    "    \n",
    "    return M"
   ]
  },
  {
   "cell_type": "markdown",
   "metadata": {},
   "source": [
    "To calculate the Eigenvectors of the matrix defined above, we can just use numpy. One of the two resulting Eigenvectors is parallel to the direction of symmetry, the other is perpendicular. The tensor angle can be calculated after wer figure out which of the two vectors is the parallel one, which we will call out principle vector:\n",
    "\n",
    "\\begin{equation}\n",
    "E = (E_x, E_y)\n",
    "\\end{equation}"
   ]
  },
  {
   "cell_type": "code",
   "execution_count": 33,
   "metadata": {},
   "outputs": [],
   "source": [
    "def direction_calc(M):\n",
    "    eigenval, eigenvec = np.linalg.eigh(M)\n",
    "    princ_val = np.argmax(eigenval)\n",
    "    princ_vec = eigenvec[:, princ_val]\n",
    "    return princ_vec\n",
    "#This is the direction of the eigenvector in the Y-axis"
   ]
  },
  {
   "cell_type": "markdown",
   "metadata": {},
   "source": [
    "If:\n",
    "\\begin{equation}\n",
    "e_y = (0, 1)\n",
    "\\end{equation}\n",
    "\n",
    "Then we can caclualte the angle as:\n",
    "\n",
    "\\begin{equation}\n",
    "\\theta' = arccos \\frac{e_y * E}{|e_y| * |E|} = arccos \\frac{E_y}{\\sqrt{E_x^2 + E_y^2}}\n",
    "\\end{equation}"
   ]
  },
  {
   "cell_type": "code",
   "execution_count": 34,
   "metadata": {},
   "outputs": [],
   "source": [
    "def tensor_angle_calc(princ_vec):\n",
    "    Ex, Ey = princ_vec\n",
    "    denom = np.sqrt(Ex**2 + Ey**2)\n",
    "    return np.arccos( Ey / denom)"
   ]
  },
  {
   "cell_type": "markdown",
   "metadata": {},
   "source": [
    "So U can be expressed in terms of this new angle and the original Q_cam:\n",
    "\n",
    "\\begin{equation}\n",
    "U_{cam} = Q_{cam} tan{2\\theta'}\n",
    "\\end{equation}\n",
    "\n",
    "Which gives:\n",
    "\n",
    "\\begin{equation}\n",
    "Q = \\frac{Q_{cam}}{cos(2\\theta')}\n",
    "\\end{equation}"
   ]
  },
  {
   "cell_type": "code",
   "execution_count": 35,
   "metadata": {},
   "outputs": [],
   "source": [
    "def tensor_Q_calc(Q_cam, tensor_angle):\n",
    "    return Q_cam/np.cos(2* tensor_angle)"
   ]
  },
  {
   "cell_type": "code",
   "execution_count": 65,
   "metadata": {},
   "outputs": [
    {
     "name": "stdout",
     "output_type": "stream",
     "text": [
      "N1486913_Pol.vic: 0.009451531960585485, 1.7662845286237396\n",
      "N1494007_Pol.vic: 0.01604457608561968, 1.602879331433434\n",
      "N1499415_Pol.vic: 0.2361211904999661, 2.2798759824431394\n",
      "N1515805_Pol.vic: 0.047286898034425345, 2.108676460342509\n",
      "N1521214_Pol.vic: 0.04273055185741825, 1.8011024719751885\n",
      "N1526619_Pol.vic: 0.03672813136720302, 1.655636633907451\n",
      "N1530756_Pol.vic: 0.02386358487967433, 1.4969293715812977\n",
      "N1534852_Pol.vic: 0.022309675765362153, 1.4730067584685647\n",
      "N1536147_Pol.vic: 0.019029087832070298, 1.6338770622884211\n",
      "N1537508_Pol.vic: 0.021887750832896943, 1.6561646427281438\n",
      "N1547135_Pol.vic: 0.023896511764345117, 1.621916668557492\n",
      "N1549547_Pol.vic: 0.025385168547931204, 1.5606931411626057\n",
      "N1551056_Pol.vic: 0.0351242549953088, 1.5525102605113252\n",
      "N1553821_Pol.vic: 0.02639289174874975, 1.5760641189856328\n",
      "N1556523_Pol.vic: 0.015506942532986009, 1.5198249631066225\n",
      "N1557905_Pol.vic: 0.010943015295571325, 1.3375357556556091\n",
      "N1559282_Pol.vic: 0.006382437436706838, 1.5122168253106343\n",
      "N1567440_Pol.vic: -0.0052423812975229715, 1.6968519481528934\n",
      "N1570185_Pol.vic: -0.03988430218396183, 0.643796923014883\n",
      "N1571476_Pol.vic: 0.03758570140702818, 1.5038366664556764\n",
      "N1577094_Pol.vic: 0.15827591845098432, 2.281850471016651\n",
      "N1579533_Pol.vic: 0.04640636863598002, 1.1903084266589603\n",
      "N1582634_Pol.vic: -0.09359122620153672, 0.8798863322361781\n",
      "N1585391_Pol.vic: 0.06168499420811901, 0.5838245756946281\n",
      "N1617163_Pol.vic: 0.029745373629305884, 0.006644671507427443\n",
      "N1617165_Pol.vic: 0.03595097137427663, 0.5755766895386295\n"
     ]
    }
   ],
   "source": [
    "tensor_Qs = []\n",
    "\n",
    "for filename in os.listdir(pol_images):\n",
    "    if filename.endswith('_Pol.vic'):\n",
    "        pol_image_path = os.path.join(pol_images, filename)\n",
    "        pol_vic = vicar.VicarImage(pol_image_path, strict=False)\n",
    "        read_pol_image = pol_vic.data_2d\n",
    "\n",
    "        IF_image_path = pol_image_path.replace('_Pol.vic', '_I_over_F.vic')\n",
    "        IF_vic = vicar.VicarImage(IF_image_path, strict=False)\n",
    "        read_IF_image = IF_vic.data_2d\n",
    "\n",
    "        thet_image_path = pol_image_path.replace('_Pol.vic', '_Theta.vic')\n",
    "        thet_vic = vicar.VicarImage(thet_image_path, strict=False)\n",
    "        read_thet_image = thet_vic.data_2d\n",
    "\n",
    "        opus_id = filename.split('_')[0]\n",
    "        parameter_row = parameters_df[parameters_df['OPUS ID'].str.contains(opus_id)]\n",
    "\n",
    "        if opus_id in circle_params:\n",
    "            center, eff_radius = circle_params[opus_id]\n",
    "\n",
    "            if not parameter_row.empty:\n",
    "                #Only additions are simple_stokes_Q function for y axis change and adding pixel_scale\n",
    "                phase_angle = parameter_row['Observed Phase Angle (Min) [Titan] (degrees)'].values[0]\n",
    "                pixel_scale = parameter_row['Body Center Resolution (Min) [Titan] (km/pixel)'].values[0]\n",
    "\n",
    "                n_q = norm_stokes_Q(read_pol_image, read_IF_image, read_thet_image, center, eff_radius, pixel_scale)\n",
    "                tensor = tensor_calc(read_IF_image, center)\n",
    "                direction = direction_calc(tensor)\n",
    "                tensor_angle = tensor_angle_calc(direction)\n",
    "                tensor_q = tensor_Q_calc(n_q, tensor_angle)\n",
    "                \n",
    "                #Creating array to plot\n",
    "                tensor_Qs.append(tensor_q)\n",
    "\n",
    "                #For manual inspection\n",
    "                print(f'{filename}: {tensor_q}, {tensor_angle}')"
   ]
  },
  {
   "cell_type": "code",
   "execution_count": 66,
   "metadata": {},
   "outputs": [
    {
     "data": {
      "image/png": "[encoded data removed]",
      "text/plain": [
       "<Figure size 1000x600 with 1 Axes>"
      ]
     },
     "metadata": {},
     "output_type": "display_data"
    }
   ],
   "source": [
    "plt.figure(figsize=(10, 6))\n",
    "plt.scatter(phase_angles, tensor_Qs, color='b', marker='x')\n",
    "plt.xlabel('Phase Angle (degrees)')\n",
    "plt.ylabel('Q')\n",
    "plt.title('Polarization Phase Curve')\n",
    "plt.show()"
   ]
  },
  {
   "cell_type": "markdown",
   "metadata": {},
   "source": [
    "So using this method, its producing almost exaclty the same thing as the rotated frame. But, of particular interest is that the angles of polarization are extremely small, suhc that it is basically 0 or every image, which means that it is not really being rotated, and perhaps assuming U= 0 is already a decent assumption. "
   ]
  }
 ],
 "metadata": {
  "kernelspec": {
   "display_name": "Python 3",
   "language": "python",
   "name": "python3"
  },
  "language_info": {
   "codemirror_mode": {
    "name": "ipython",
    "version": 3
   },
   "file_extension": ".py",
   "mimetype": "text/x-python",
   "name": "python",
   "nbconvert_exporter": "python",
   "pygments_lexer": "ipython3",
   "version": "3.11.9"
  }
 },
 "nbformat": 4,
 "nbformat_minor": 2
}
