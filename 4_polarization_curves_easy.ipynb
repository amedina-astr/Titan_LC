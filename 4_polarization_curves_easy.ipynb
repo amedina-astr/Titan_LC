{
 "cells": [
  {
   "cell_type": "markdown",
   "metadata": {},
   "source": [
    "**Name:** Alex Medina\n",
    "\n",
    "**Organization:** University of Central Florida\n",
    "\n",
    "**Project Title:** Lightcurve Analysis of Titan\n",
    "\n",
    "**Subsection:** Polarization Phase Curves (simple)\n",
    "\n",
    "**Details:** This section, I just get rid of many steps to get to the final result easier."
   ]
  },
  {
   "cell_type": "code",
   "execution_count": 1,
   "metadata": {},
   "outputs": [],
   "source": [
    "#General imports\n",
    "import os\n",
    "import numpy as np\n",
    "import matplotlib.pyplot as plt\n",
    "import pandas as pd\n",
    "\n",
    "#Important imports\n",
    "import vicar\n",
    "import cv2"
   ]
  },
  {
   "cell_type": "markdown",
   "metadata": {},
   "source": [
    "Image Paths"
   ]
  },
  {
   "cell_type": "code",
   "execution_count": 2,
   "metadata": {},
   "outputs": [],
   "source": [
    "pol_images = r'C:\\Users\\Alex\\Desktop\\Titan\\polarized_images\\BL2_P\\BL2_POL'\n",
    "\n",
    "#Have the same path\n",
    "if_images = r'C:\\Users\\Alex\\Desktop\\Titan\\polarized_images\\BL2_P\\BL2_POL'\n",
    "\n",
    "pol_if_metadata = r'C:\\Users\\Alex\\Desktop\\Titan\\polarized_images\\BL2_P\\BL2_POL\\pol_data_new.csv'\n",
    "#Reading the csv file\n",
    "parameters_df = pd.read_csv(pol_if_metadata)"
   ]
  },
  {
   "cell_type": "markdown",
   "metadata": {},
   "source": [
    "Effective Radius"
   ]
  },
  {
   "cell_type": "code",
   "execution_count": 3,
   "metadata": {},
   "outputs": [],
   "source": [
    "#Finding image center\n",
    "\n",
    "def image_center(image):\n",
    "    image_copy = image.copy()\n",
    "    gray_image = cv2.normalize(image_copy, None, 0, 255, cv2.NORM_MINMAX, cv2.CV_8U)\n",
    "    detected_circles = cv2.HoughCircles(gray_image, cv2.HOUGH_GRADIENT, dp=1.2, minDist=100, param1=50, param2=30, minRadius=30, maxRadius=500)\n",
    "\n",
    "    if detected_circles is not None:\n",
    "        detected_circles = np.round(detected_circles[0, :]).astype(\"int\")\n",
    "        for (x, y, r) in detected_circles:\n",
    "            return (x, y)\n",
    "    #Debug\n",
    "    else:\n",
    "        print(\"No circle found\")\n",
    "        return None\n",
    "\n",
    "#To determine the effective radius, as mentioned, I plot the brightness against increasing radius\n",
    "def radii_fluxes_from_image(image, center):\n",
    "    x, y = center\n",
    "    image_copy = image.copy()\n",
    "    gray_image = cv2.normalize(image_copy, None, 0, 255, cv2.NORM_MINMAX, cv2.CV_8U)\n",
    "\n",
    "    radii = range(1, 1000, 5)\n",
    "    flux = []\n",
    "\n",
    "    for r in radii:\n",
    "        mask = np.zeros_like(gray_image)\n",
    "        cv2.circle(mask, (x, y), r, (255, 255, 255), -1)\n",
    "        masked = cv2.bitwise_and(gray_image, gray_image, mask=mask)\n",
    "        flux.append(np.sum(masked))\n",
    "    return radii, flux\n",
    "\n",
    "#Manual inspection and testing\n",
    "def radii_fluxes_plot(radii, flux):\n",
    "    plt.plot(radii, flux)\n",
    "    plt.xlabel(\"Radius\")\n",
    "    plt.ylabel(\"Flux\")\n",
    "    plt.title(\"Flux vs. Radius\")\n",
    "    plt.show()\n",
    "\n",
    "def effective_radius(radii, flux):\n",
    "    for i in range(1, len(flux)):\n",
    "        if flux[i] - flux[i-1] < 0.01 * flux[i-1]:\n",
    "            return radii[i]\n",
    "    print(\"No plateau found\")\n",
    "    return None"
   ]
  },
  {
   "cell_type": "markdown",
   "metadata": {},
   "source": [
    "Dictionary"
   ]
  },
  {
   "cell_type": "code",
   "execution_count": 4,
   "metadata": {},
   "outputs": [
    {
     "name": "stdout",
     "output_type": "stream",
     "text": [
      "N1486913_I_over_F.vic: (np.int64(251), np.int64(272)), 186\n",
      "N1499415_I_over_F.vic: (np.int64(259), np.int64(256)), 266\n",
      "N1515805_I_over_F.vic: (np.int64(256), np.int64(262)), 206\n",
      "No circle found\n",
      "N1521213_I_over_F.vic: cannot unpack non-iterable NoneType object\n",
      "N1525327_I_over_F.vic: (np.int64(527), np.int64(520)), 511\n",
      "N1526619_I_over_F.vic: (np.int64(239), np.int64(266)), 271\n",
      "N1530756_I_over_F.vic: (np.int64(532), np.int64(519)), 541\n",
      "N1534852_I_over_F.vic: (np.int64(489), np.int64(515)), 541\n",
      "N1536146_I_over_F.vic: (np.int64(503), np.int64(514)), 536\n",
      "N1547135_I_over_F.vic: (np.int64(524), np.int64(518)), 541\n",
      "N1549546_I_over_F.vic: (np.int64(512), np.int64(501)), 536\n",
      "N1551056_I_over_F.vic: (np.int64(245), np.int64(247)), 261\n",
      "N1553821_I_over_F.vic: (np.int64(256), np.int64(267)), 266\n",
      "N1555150_I_over_F.vic: (np.int64(267), np.int64(273)), 246\n",
      "N1557905_I_over_F.vic: (np.int64(242), np.int64(284)), 231\n",
      "N1559282_I_over_F.vic: (np.int64(247), np.int64(283)), 201\n",
      "N1562037_I_over_F.vic: (np.int64(260), np.int64(256)), 196\n",
      "N1577094_I_over_F.vic: (np.int64(245), np.int64(263)), 271\n",
      "N1579533_I_over_F.vic: (np.int64(248), np.int64(254)), 271\n",
      "No circle found\n",
      "N1579934_I_over_F.vic: cannot unpack non-iterable NoneType object\n",
      "N1582634_I_over_F.vic: (np.int64(277), np.int64(255)), 281\n",
      "N1585390_I_over_F.vic: (np.int64(262), np.int64(265)), 276\n",
      "No circle found\n",
      "N1591779_I_over_F.vic: cannot unpack non-iterable NoneType object\n",
      "N1605442_I_over_F.vic: (np.int64(542), np.int64(493)), 551\n",
      "N1617163_I_over_F.vic: (np.int64(253), np.int64(253)), 281\n",
      "N1617165_I_over_F.vic: (np.int64(278), np.int64(245)), 291\n"
     ]
    }
   ],
   "source": [
    "#Grouping the circle center and radius for our dictionary\n",
    "def find_circle_params(image_path):\n",
    "    vic = vicar.VicarImage(image_path, strict=False)\n",
    "    image = vic.data_2d\n",
    "    center = image_center(image)\n",
    "    radii, fluxes = radii_fluxes_from_image(image, center)\n",
    "    eff_radius = effective_radius(radii, fluxes)\n",
    "    return center, eff_radius\n",
    "\n",
    "#Creating a dictionary with the opus_id being used as the key since it matches the polarized images and IF images\n",
    "#And the corresponding center coordinates and effective radius are stored as the value\n",
    "\n",
    "circle_params = {}\n",
    "for filename in os.listdir(if_images):\n",
    "    if filename.endswith('_I_over_F.vic'):\n",
    "        coordinate_image_path = os.path.join(if_images, filename)\n",
    "        opus_id = filename.split('_')[0]\n",
    "        try:\n",
    "            center, eff_radius = find_circle_params(coordinate_image_path)\n",
    "            circle_params[opus_id] = (center, eff_radius)\n",
    "            print(f'{filename}: {center}, {eff_radius}')\n",
    "        #Debug\n",
    "        except Exception as e:\n",
    "            print(f\"{filename}: {e}\")"
   ]
  },
  {
   "cell_type": "markdown",
   "metadata": {},
   "source": [
    "Stokes Parameters Before Rotation"
   ]
  },
  {
   "cell_type": "code",
   "execution_count": 5,
   "metadata": {},
   "outputs": [],
   "source": [
    "#Calculating Q and U before rotation\n",
    "#Using the masked version for consistency but can easily switch to non masked\n",
    "#Less than a 5% difference in either\n",
    "\n",
    "def pre_rot_q(pol_image, if_image, thet_image, center, radius, pixel_scale):\n",
    "    \n",
    "    mask_pol = np.zeros_like(pol_image)\n",
    "    cv2.circle(mask_pol, center, radius, 1, thickness=-1)\n",
    "    pol_masked = pol_image * mask_pol\n",
    "\n",
    "    mask_if = np.zeros_like(if_image)\n",
    "    cv2.circle(mask_if, center, radius, 1, thickness=-1)\n",
    "    if_masked = if_image * mask_if\n",
    "\n",
    "    mask_thet = np.zeros_like(thet_image)\n",
    "    cv2.circle(mask_thet, center, radius, 1, thickness=-1)\n",
    "    thet_masked = thet_image * mask_thet\n",
    "\n",
    "    R = 2575 #km\n",
    "\n",
    "    #thet_rad_whole = np.deg2rad(thet_image)\n",
    "    #weighted_whole = np.sum(if_image * pol_image * np.cos(2*thet_rad_whole))\n",
    "    #whole = (weighted_whole * pixel_scale**2) / (np.pi * R**2)\n",
    "\n",
    "    thet_rad_mask = np.deg2rad(thet_masked)\n",
    "    weighted_mask = np.sum(if_masked * pol_masked * np.cos(2*thet_rad_mask))\n",
    "    masked = (weighted_mask * pixel_scale**2) / (np.pi * R**2)\n",
    "\n",
    "    return masked #, whole\n",
    "\n",
    "\n",
    "def pre_rot_u(pol_image, if_image, thet_image, center, radius, pixel_scale):\n",
    "    \n",
    "    mask_pol = np.zeros_like(pol_image)\n",
    "    cv2.circle(mask_pol, center, radius, 1, thickness=-1)\n",
    "    pol_masked = pol_image * mask_pol\n",
    "\n",
    "    mask_if = np.zeros_like(if_image)\n",
    "    cv2.circle(mask_if, center, radius, 1, thickness=-1)\n",
    "    if_masked = if_image * mask_if\n",
    "\n",
    "    mask_thet = np.zeros_like(thet_image)\n",
    "    cv2.circle(mask_thet, center, radius, 1, thickness=-1)\n",
    "    thet_masked = thet_image * mask_thet\n",
    "\n",
    "    R = 2575 #km\n",
    "\n",
    "    #thet_rad_whole = np.deg2rad(thet_image)\n",
    "    #weighted_whole = np.sum(if_image * pol_image * np.sin(2*thet_rad_whole))\n",
    "    #whole = (weighted_whole * pixel_scale**2) / (np.pi * R**2)\n",
    "\n",
    "    thet_rad_mask = np.deg2rad(thet_masked)\n",
    "    weighted_mask = np.sum(if_masked * pol_masked * np.sin(2*thet_rad_mask))\n",
    "    masked = (weighted_mask * pixel_scale**2) / (np.pi * R**2)\n",
    "\n",
    "    return masked #, whole"
   ]
  },
  {
   "cell_type": "code",
   "execution_count": 6,
   "metadata": {},
   "outputs": [
    {
     "name": "stdout",
     "output_type": "stream",
     "text": [
      "N1486913_Pol.vic: 23.475, -0.005609421710228673, 0.0007469823707489487\n",
      "N1499415_Pol.vic: 59.986, -0.023524319317730098, -0.00056744013816851\n",
      "N1515805_Pol.vic: 40.748, -0.01410353026210574, 0.0006155799383499755\n",
      "N1525327_Pol.vic: 146.702, -0.008148898403000038, 0.0002770627949070267\n",
      "N1526619_Pol.vic: 96.186, -0.02474533273436026, 0.00037534271530976744\n",
      "N1530756_Pol.vic: 121.488, -0.0168617715165425, 0.00036883399566769797\n",
      "N1534852_Pol.vic: 123.179, -0.015534433043856032, 0.000331146079280556\n",
      "N1536146_Pol.vic: 128.861, -0.013738082864927906, 6.224983726537889e-05\n",
      "N1547135_Pol.vic: 118.595, -0.016821836921474653, 0.0003302940477500335\n",
      "N1549546_Pol.vic: 115.101, -0.017690749264227933, -0.00010793124259453488\n",
      "N1551056_Pol.vic: 62.67, -0.022370760747854365, -6.603580766355843e-05\n",
      "N1553821_Pol.vic: 46.82, -0.01657812945674954, 0.0006189452284655291\n",
      "N1555150_Pol.vic: 39.987, -0.013172082786927539, 0.0003854758382855685\n",
      "N1557905_Pol.vic: 25.271, -0.006100644155060878, 0.0006573530447695585\n",
      "N1559282_Pol.vic: 19.946, -0.003897232541941818, 0.0008611226684163954\n",
      "N1562037_Pol.vic: 13.468, -0.001372685230448338, 0.0009678328463947229\n",
      "N1577094_Pol.vic: 42.39, -0.014571208175300974, 0.0006800231864983104\n",
      "N1579533_Pol.vic: 57.52, -0.021251040673456713, 0.0010143601310886158\n",
      "N1582634_Pol.vic: 56.899, 0.010926328788048775, 0.018490549030403664\n",
      "N1585390_Pol.vic: 66.11, 0.015276369449018912, 0.018300546387913844\n",
      "N1605442_Pol.vic: 49.659, -0.01862371905982548, 0.0005123651958112023\n",
      "N1617163_Pol.vic: 105.901, 0.02021937475452524, 0.0002434040831790357\n",
      "N1617165_Pol.vic: 105.898, 0.009873364970994709, 0.018127346421124693\n"
     ]
    }
   ],
   "source": [
    "#We use the exact same files and images so nothing from the loop has to change other than the y variable which wil just calculate Q this time\n",
    "\n",
    "phase_angles = []\n",
    "pre_rot_qs = []\n",
    "pre_rot_us = []\n",
    "\n",
    "for filename in os.listdir(pol_images):\n",
    "    if filename.endswith('_Pol.vic'):\n",
    "        pol_image_path = os.path.join(pol_images, filename)\n",
    "        pol_vic = vicar.VicarImage(pol_image_path, strict=False)\n",
    "        read_pol_image = pol_vic.data_2d\n",
    "\n",
    "        if_image_path = pol_image_path.replace('_Pol.vic', '_I_over_F.vic')\n",
    "        if_vic = vicar.VicarImage(if_image_path, strict=False)\n",
    "        read_if_image = if_vic.data_2d\n",
    "\n",
    "        thet_image_path = pol_image_path.replace('_Pol.vic', '_Theta.vic')\n",
    "        thet_vic = vicar.VicarImage(thet_image_path, strict=False)\n",
    "        read_thet_image = thet_vic.data_2d\n",
    "\n",
    "        opus_id = filename.split('_')[0]\n",
    "        parameter_row = parameters_df[parameters_df['OPUS ID'].str.contains(opus_id)]\n",
    "\n",
    "        if opus_id in circle_params:\n",
    "            center, eff_radius = circle_params[opus_id]\n",
    "\n",
    "            if not parameter_row.empty:\n",
    "                #Only additions are simple_stokes_Q function for y axis change and adding pixel_scale\n",
    "                phase_angle = parameter_row['Observed Phase Angle (Min) [Titan] (degrees)'].values[0]\n",
    "                pixel_scale = parameter_row['Body Center Resolution (Min) [Titan] (km/pixel)'].values[0]\n",
    "\n",
    "                prq = pre_rot_q(read_pol_image, read_if_image, read_thet_image, center, eff_radius, pixel_scale)\n",
    "                pru = pre_rot_u(read_pol_image, read_if_image, read_thet_image, center, eff_radius, pixel_scale)\n",
    "\n",
    "                #Creating array to plot\n",
    "                phase_angles.append(phase_angle)\n",
    "                pre_rot_qs.append(prq)\n",
    "                pre_rot_us.append(pru)\n",
    "\n",
    "                #For manual inspection\n",
    "                print(f'{filename}: {phase_angle}, {prq}, {pru}')"
   ]
  },
  {
   "cell_type": "code",
   "execution_count": 7,
   "metadata": {},
   "outputs": [
    {
     "data": {
      "image/png": "[encoded data removed]",
      "text/plain": [
       "<Figure size 1000x600 with 1 Axes>"
      ]
     },
     "metadata": {},
     "output_type": "display_data"
    }
   ],
   "source": [
    "#For sanity we plot; looks pretty much exaclty the same whether or not we do the whole image os masked image\n",
    "qmag = \"Q\"\n",
    "umag = \"U\"\n",
    "\n",
    "plt.figure(figsize=(10, 6))\n",
    "plt.scatter(phase_angles, pre_rot_qs, color='b', marker='x', label=qmag)\n",
    "plt.scatter(phase_angles, pre_rot_us, color='r', marker='x', label=umag)\n",
    "plt.xlabel('Phase Angle (degrees)')\n",
    "plt.ylabel('Q')\n",
    "plt.title('Polarization Phase Curve')\n",
    "\n",
    "plt.legend()\n",
    "plt.show()"
   ]
  },
  {
   "cell_type": "markdown",
   "metadata": {},
   "source": [
    "Stokes Parameters After Rotation"
   ]
  },
  {
   "cell_type": "code",
   "execution_count": 8,
   "metadata": {},
   "outputs": [],
   "source": [
    "#There is a special case but we do not need it for the easy version\n",
    "\n",
    "def rotate_scat_plane(q_o, u_o, rot_angle):\n",
    "    #this will be the sun_image_azimuth\n",
    "    thet_prime = np.deg2rad(-rot_angle)\n",
    "\n",
    "    q_scat = q_o * np.cos(2 * thet_prime) + u_o * np.sin(2 * thet_prime)\n",
    "    u_scat = -q_o * np.sin(2 * thet_prime) + u_o * np.cos(2 * thet_prime)\n",
    "\n",
    "    #Special case where we rotate to U = 0\n",
    "    #thet_special = 0.5 * np.arctan2(u_o, q_o)\n",
    "    #q_spec = q_o * np.cos(2 * thet_special) + u_o * np.sin(2 * thet_special)\n",
    "    \n",
    "    return q_scat, u_scat\n",
    "\n",
    "#From the brightness phase curves, for total intensity; but since we are only doing the mask\n",
    "\n",
    "def reflectivity(if_image, center, radius, pixel_scale):\n",
    "    R = 2575 #km\n",
    "    #Total number of pixels\n",
    "    #n_pixel = np.pi * R**2 / pixel_scale**2\n",
    "\n",
    "    mask_if = np.zeros_like(if_image)\n",
    "    cv2.circle(mask_if, center, radius, 1, thickness=-1)\n",
    "    if_masked = if_image * mask_if\n",
    "    \n",
    "    total_if = np.sum(if_masked)\n",
    "\n",
    "    return (total_if * pixel_scale**2) / (np.pi * R**2)\n",
    "\n",
    "def rotate_scat_over_i(q_scat, u_scat, total_i):\n",
    "    #q and u scat will be calculated with rotate scatter plane function\n",
    "    #total i will be calculated with reflectivity\n",
    "    #notable the normalization factors cancel out but don't want to rewrite everything\n",
    "\n",
    "    q_over_i = q_scat / total_i\n",
    "    u_over_i = u_scat / total_i\n",
    "\n",
    "    return q_over_i, u_over_i"
   ]
  },
  {
   "cell_type": "code",
   "execution_count": 9,
   "metadata": {},
   "outputs": [
    {
     "name": "stdout",
     "output_type": "stream",
     "text": [
      "N1486913_Pol.vic: -0.005611664330561098, 0.0007299438516096597, -0.05637001488330961, 0.007332396122685168\n",
      "N1499415_Pol.vic: -0.02352250988593757, -0.0006380566894119493, -0.3476971777650653, -0.009431413196909067\n",
      "N1515805_Pol.vic: -0.014105294642100683, 0.0005737312734696978, -0.1731868127637473, 0.0070443541348318055\n",
      "N1525327_Pol.vic: -0.00814969341682696, 0.000252598864735278, -0.1358919753698291, 0.0042119570576948035\n",
      "N1526619_Pol.vic: -0.024746347998922596, 0.0003010564803438337, -0.5631124272421586, 0.0068506530899338485\n",
      "N1530756_Pol.vic: -0.016862791646660425, 0.00031880256235406894, -0.37977862834232384, 0.0071799736591553346\n",
      "N1534852_Pol.vic: -0.015535347194409362, 0.0002850530986083565, -0.3676928071830011, 0.006746677284511393\n",
      "N1536146_Pol.vic: -0.013738207092468839, 2.1487910652513236e-05, -0.30598791575711554, 0.00047859527449852055\n",
      "N1547135_Pol.vic: -0.016822742877213803, 0.0002803812722333503, -0.428158870245125, 0.007136037781325497\n",
      "N1549546_Pol.vic: -0.017690351156556382, -0.0001604202002038279, -0.4665653257461041, -0.004230922399559867\n",
      "N1551056_Pol.vic: -0.022370470954545234, -0.00013162992624593333, -0.3967276145115601, -0.002334382085383473\n",
      "N1553821_Pol.vic: -0.01658001189467548, 0.0005662817788050957, -0.23031740743923731, 0.007866372593879376\n",
      "N1555150_Pol.vic: -0.013173144320470339, 0.0003473115023070793, -0.1661042406015065, 0.004379357876861551\n",
      "N1557905_Pol.vic: -0.006102545386902945, 0.0006394622216643053, -0.06300577114130569, 0.006602132034636007\n",
      "N1559282_Pol.vic: -0.0038997407286034185, 0.0008496917003846343, -0.038390528271878076, 0.008364687684680622\n",
      "N1562037_Pol.vic: -0.0013756853542030321, 0.0009635636806577946, -0.01273469298220608, 0.008919690541512077\n",
      "N1577094_Pol.vic: -0.0145731617033952, 0.0006367866116908803, -0.18758390351173698, 0.008196637130373623\n",
      "N1579533_Pol.vic: -0.021253989988815506, 0.0009505607480765868, -0.3398029647127557, 0.015197304624024629\n",
      "N1582634_Pol.vic: -0.021475377497878055, -0.0003053285999349391, -0.3361446096542119, -0.0047791738725681664\n",
      "N1585390_Pol.vic: -0.023836706521775355, -0.0002981339193335337, -0.42633327000788396, -0.005332297421777603\n",
      "N1605442_Pol.vic: -0.018625189165949272, 0.0004558050523976855, -0.24621475083404806, 0.006025491950984785\n",
      "N1617163_Pol.vic: -0.020218549772690008, -0.0003043125053255112, -0.53211935574947, -0.008009010344502758\n",
      "N1617165_Pol.vic: -0.02063371124587489, -0.0005779137857706944, -0.5492058825462868, -0.015382286151421915\n"
     ]
    }
   ],
   "source": [
    "scat_qs = []\n",
    "scat_us = []\n",
    "\n",
    "scat_qis = []\n",
    "scat_uis = []\n",
    "\n",
    "for filename in os.listdir(pol_images):\n",
    "    if filename.endswith('_Pol.vic'):\n",
    "        pol_image_path = os.path.join(pol_images, filename)\n",
    "        pol_vic = vicar.VicarImage(pol_image_path, strict=False)\n",
    "        read_pol_image = pol_vic.data_2d\n",
    "\n",
    "        if_image_path = pol_image_path.replace('_Pol.vic', '_I_over_F.vic')\n",
    "        if_vic = vicar.VicarImage(if_image_path, strict=False)\n",
    "        read_if_image = if_vic.data_2d\n",
    "\n",
    "        thet_image_path = pol_image_path.replace('_Pol.vic', '_Theta.vic')\n",
    "        thet_vic = vicar.VicarImage(thet_image_path, strict=False)\n",
    "        read_thet_image = thet_vic.data_2d\n",
    "\n",
    "        opus_id = filename.split('_')[0]\n",
    "        parameter_row = parameters_df[parameters_df['OPUS ID'].str.contains(opus_id)]\n",
    "\n",
    "        if opus_id in circle_params:\n",
    "            center, eff_radius = circle_params[opus_id]\n",
    "\n",
    "            if not parameter_row.empty:\n",
    "                #Only additions are simple_stokes_Q function for y axis change and adding pixel_scale\n",
    "                phase_angle = parameter_row['Observed Phase Angle (Min) [Titan] (degrees)'].values[0]\n",
    "                pixel_scale = parameter_row['Body Center Resolution (Min) [Titan] (km/pixel)'].values[0]\n",
    "                sun_image_azimuth = parameter_row['SUN_IMAGE_AZIMUTH'].values[0]\n",
    "                \n",
    "                prq = pre_rot_q(read_pol_image, read_if_image, read_thet_image, center, eff_radius, pixel_scale)\n",
    "                pru = pre_rot_u(read_pol_image, read_if_image, read_thet_image, center, eff_radius, pixel_scale)\n",
    "\n",
    "                #sun_image_azimuth as the rotation angle, and converted to radians within the function\n",
    "\n",
    "                scat_q, scat_u = rotate_scat_plane(prq, pru, sun_image_azimuth)\n",
    "                calc_refl = reflectivity(read_if_image, center, eff_radius, pixel_scale)\n",
    "                scat_qi, scat_ui = rotate_scat_over_i(scat_q, scat_u, calc_refl)\n",
    "\n",
    "                #Creating array to plot\n",
    "                scat_qs.append(scat_q)\n",
    "                scat_us.append(scat_u)\n",
    "\n",
    "                scat_qis.append(scat_qi)\n",
    "                scat_uis.append(scat_ui)\n",
    "\n",
    "                #For manual inspection\n",
    "                print(f'{filename}: {scat_q}, {scat_u}, {scat_qi}, {scat_ui}')"
   ]
  },
  {
   "cell_type": "markdown",
   "metadata": {},
   "source": [
    "Final Graphs"
   ]
  },
  {
   "cell_type": "code",
   "execution_count": 10,
   "metadata": {},
   "outputs": [
    {
     "data": {
      "image/png": "[encoded data removed]",
      "text/plain": [
       "<Figure size 1000x600 with 1 Axes>"
      ]
     },
     "metadata": {},
     "output_type": "display_data"
    }
   ],
   "source": [
    "filtername = 'CL1_CB2'\n",
    "wavelength = '(0.751'r'$\\mu m$'')'\n",
    "\n",
    "plt.figure(figsize=(10, 6))\n",
    "plt.scatter(phase_angles, scat_qs, color='b', marker='x', label=qmag)\n",
    "plt.scatter(phase_angles, scat_us, color='r', marker='x', label=umag)\n",
    "plt.xlabel('Phase Angle (degrees)')\n",
    "plt.ylabel('Q')\n",
    "plt.title('Polarization Phase Curve: ' + filtername + wavelength)\n",
    "\n",
    "plt.legend()\n",
    "plt.show()"
   ]
  },
  {
   "cell_type": "code",
   "execution_count": 11,
   "metadata": {},
   "outputs": [
    {
     "name": "stdout",
     "output_type": "stream",
     "text": [
      "23.48\n",
      "59.99\n",
      "40.75\n",
      "146.70\n",
      "96.19\n",
      "121.49\n",
      "123.18\n",
      "128.86\n",
      "118.59\n",
      "115.10\n",
      "62.67\n",
      "46.82\n",
      "39.99\n",
      "25.27\n",
      "19.95\n",
      "13.47\n",
      "42.39\n",
      "57.52\n",
      "56.90\n",
      "66.11\n",
      "49.66\n",
      "105.90\n",
      "105.90\n"
     ]
    }
   ],
   "source": [
    "#Getting the phase angles for later use\n",
    "for pa in phase_angles:\n",
    "    print(f\"{pa:.2f}\")"
   ]
  }
 ],
 "metadata": {
  "kernelspec": {
   "display_name": "Python 3",
   "language": "python",
   "name": "python3"
  },
  "language_info": {
   "codemirror_mode": {
    "name": "ipython",
    "version": 3
   },
   "file_extension": ".py",
   "mimetype": "text/x-python",
   "name": "python",
   "nbconvert_exporter": "python",
   "pygments_lexer": "ipython3",
   "version": "3.11.9"
  }
 },
 "nbformat": 4,
 "nbformat_minor": 2
}
